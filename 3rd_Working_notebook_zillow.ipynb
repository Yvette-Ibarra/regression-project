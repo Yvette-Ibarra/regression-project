{
 "cells": [
  {
   "cell_type": "markdown",
   "id": "11bba3ec",
   "metadata": {},
   "source": [
    "# Working notebook 3"
   ]
  },
  {
   "cell_type": "markdown",
   "id": "b148b892",
   "metadata": {},
   "source": [
    "# **Goals:**"
   ]
  },
  {
   "cell_type": "markdown",
   "id": "2c9b3b01",
   "metadata": {},
   "source": [
    "* Discover key attributes that drive and have a high correlation with home value.\n",
    "\n",
    "* Use those attributes to develop a machine learning model to predict home value.\n",
    "\n",
    "    * Carefully select features that will prevent data leakage. \n"
   ]
  },
  {
   "cell_type": "markdown",
   "id": "eaeb77fb",
   "metadata": {},
   "source": [
    "## Imports"
   ]
  },
  {
   "cell_type": "code",
   "execution_count": 1,
   "id": "f6e1acc7",
   "metadata": {},
   "outputs": [],
   "source": [
    "import pandas as pd\n",
    "import numpy as np\n",
    "\n",
    "\n",
    "import wrangle as w"
   ]
  },
  {
   "cell_type": "markdown",
   "id": "d47e63fd",
   "metadata": {},
   "source": [
    "# Acquire:"
   ]
  },
  {
   "cell_type": "markdown",
   "id": "83311917",
   "metadata": {},
   "source": [
    "* Data acquire from Codeup Database 11/17/22\n",
    "\n",
    "* It contained  52441 rows and 10 columns before cleaning\n",
    "\n",
    "* Each row represents a single family household:\n",
    "    * properties from 2017 with current transactions\n",
    "    * located in the Californian counties of 'Los Angeles' or 'Orange'or 'Ventura'\n",
    "\n",
    "* Each column represents a feature related to the single family residential."
   ]
  },
  {
   "cell_type": "code",
   "execution_count": 6,
   "id": "67015407",
   "metadata": {},
   "outputs": [
    {
     "data": {
      "text/plain": [
       "home_value        1\n",
       "squarefeet       82\n",
       "bathrooms         0\n",
       "bedrooms          0\n",
       "yearbuilt       116\n",
       "fireplace     45198\n",
       "deck          52052\n",
       "pool          41345\n",
       "garage        34426\n",
       "county            0\n",
       "dtype: int64"
      ]
     },
     "execution_count": 6,
     "metadata": {},
     "output_type": "execute_result"
    }
   ],
   "source": [
    "df.isnull().sum()"
   ]
  },
  {
   "cell_type": "code",
   "execution_count": 2,
   "id": "5f4a18a2",
   "metadata": {
    "scrolled": false
   },
   "outputs": [],
   "source": [
    "# acquire telco data \n",
    "df = w.get_zillow_data()"
   ]
  },
  {
   "cell_type": "code",
   "execution_count": 3,
   "id": "f190fdad",
   "metadata": {},
   "outputs": [
    {
     "data": {
      "text/plain": [
       "1995"
      ]
     },
     "execution_count": 3,
     "metadata": {},
     "output_type": "execute_result"
    }
   ],
   "source": [
    "52441 - 50446 "
   ]
  },
  {
   "cell_type": "code",
   "execution_count": null,
   "id": "e45fca66",
   "metadata": {},
   "outputs": [],
   "source": [
    "(1995/52441) *100"
   ]
  },
  {
   "cell_type": "code",
   "execution_count": null,
   "id": "cbfec71b",
   "metadata": {},
   "outputs": [],
   "source": [
    "100 -((1995/52441) *100)"
   ]
  },
  {
   "cell_type": "code",
   "execution_count": 3,
   "id": "8c5e321f",
   "metadata": {
    "scrolled": true
   },
   "outputs": [],
   "source": [
    "# a total of 1995 rows were removed as outliers still maintain 96.2% of original total data\n",
    "df = w.handle_outliers(df)"
   ]
  },
  {
   "cell_type": "code",
   "execution_count": null,
   "id": "d83b4e7d",
   "metadata": {},
   "outputs": [],
   "source": [
    "df.isnull().sum()"
   ]
  },
  {
   "cell_type": "code",
   "execution_count": null,
   "id": "0ae6e4b4",
   "metadata": {},
   "outputs": [],
   "source": [
    "50446 "
   ]
  },
  {
   "cell_type": "code",
   "execution_count": 7,
   "id": "0873c6e8",
   "metadata": {},
   "outputs": [
    {
     "data": {
      "text/html": [
       "<div>\n",
       "<style scoped>\n",
       "    .dataframe tbody tr th:only-of-type {\n",
       "        vertical-align: middle;\n",
       "    }\n",
       "\n",
       "    .dataframe tbody tr th {\n",
       "        vertical-align: top;\n",
       "    }\n",
       "\n",
       "    .dataframe thead th {\n",
       "        text-align: right;\n",
       "    }\n",
       "</style>\n",
       "<table border=\"1\" class=\"dataframe\">\n",
       "  <thead>\n",
       "    <tr style=\"text-align: right;\">\n",
       "      <th></th>\n",
       "      <th>home_value</th>\n",
       "      <th>squarefeet</th>\n",
       "      <th>bathrooms</th>\n",
       "      <th>bedrooms</th>\n",
       "      <th>yearbuilt</th>\n",
       "      <th>fireplace</th>\n",
       "      <th>deck</th>\n",
       "      <th>pool</th>\n",
       "      <th>garage</th>\n",
       "      <th>county</th>\n",
       "    </tr>\n",
       "  </thead>\n",
       "  <tbody>\n",
       "    <tr>\n",
       "      <th>1601</th>\n",
       "      <td>830145.0</td>\n",
       "      <td>NaN</td>\n",
       "      <td>0.0</td>\n",
       "      <td>0.0</td>\n",
       "      <td>NaN</td>\n",
       "      <td>NaN</td>\n",
       "      <td>NaN</td>\n",
       "      <td>NaN</td>\n",
       "      <td>NaN</td>\n",
       "      <td>6059.0</td>\n",
       "    </tr>\n",
       "    <tr>\n",
       "      <th>2714</th>\n",
       "      <td>643406.0</td>\n",
       "      <td>NaN</td>\n",
       "      <td>0.0</td>\n",
       "      <td>0.0</td>\n",
       "      <td>NaN</td>\n",
       "      <td>NaN</td>\n",
       "      <td>NaN</td>\n",
       "      <td>NaN</td>\n",
       "      <td>NaN</td>\n",
       "      <td>6059.0</td>\n",
       "    </tr>\n",
       "    <tr>\n",
       "      <th>3137</th>\n",
       "      <td>963472.0</td>\n",
       "      <td>280.0</td>\n",
       "      <td>0.0</td>\n",
       "      <td>0.0</td>\n",
       "      <td>1953.0</td>\n",
       "      <td>NaN</td>\n",
       "      <td>NaN</td>\n",
       "      <td>1.0</td>\n",
       "      <td>NaN</td>\n",
       "      <td>6037.0</td>\n",
       "    </tr>\n",
       "    <tr>\n",
       "      <th>3342</th>\n",
       "      <td>185161.0</td>\n",
       "      <td>1208.0</td>\n",
       "      <td>0.0</td>\n",
       "      <td>0.0</td>\n",
       "      <td>1990.0</td>\n",
       "      <td>NaN</td>\n",
       "      <td>NaN</td>\n",
       "      <td>NaN</td>\n",
       "      <td>NaN</td>\n",
       "      <td>6037.0</td>\n",
       "    </tr>\n",
       "    <tr>\n",
       "      <th>3423</th>\n",
       "      <td>168828.0</td>\n",
       "      <td>1378.0</td>\n",
       "      <td>0.0</td>\n",
       "      <td>0.0</td>\n",
       "      <td>NaN</td>\n",
       "      <td>NaN</td>\n",
       "      <td>NaN</td>\n",
       "      <td>NaN</td>\n",
       "      <td>NaN</td>\n",
       "      <td>6037.0</td>\n",
       "    </tr>\n",
       "    <tr>\n",
       "      <th>...</th>\n",
       "      <td>...</td>\n",
       "      <td>...</td>\n",
       "      <td>...</td>\n",
       "      <td>...</td>\n",
       "      <td>...</td>\n",
       "      <td>...</td>\n",
       "      <td>...</td>\n",
       "      <td>...</td>\n",
       "      <td>...</td>\n",
       "      <td>...</td>\n",
       "    </tr>\n",
       "    <tr>\n",
       "      <th>50077</th>\n",
       "      <td>327761.0</td>\n",
       "      <td>NaN</td>\n",
       "      <td>0.0</td>\n",
       "      <td>0.0</td>\n",
       "      <td>NaN</td>\n",
       "      <td>NaN</td>\n",
       "      <td>NaN</td>\n",
       "      <td>NaN</td>\n",
       "      <td>NaN</td>\n",
       "      <td>6059.0</td>\n",
       "    </tr>\n",
       "    <tr>\n",
       "      <th>50262</th>\n",
       "      <td>3248800.0</td>\n",
       "      <td>NaN</td>\n",
       "      <td>0.0</td>\n",
       "      <td>0.0</td>\n",
       "      <td>NaN</td>\n",
       "      <td>NaN</td>\n",
       "      <td>NaN</td>\n",
       "      <td>NaN</td>\n",
       "      <td>NaN</td>\n",
       "      <td>6059.0</td>\n",
       "    </tr>\n",
       "    <tr>\n",
       "      <th>50637</th>\n",
       "      <td>34124.0</td>\n",
       "      <td>892.0</td>\n",
       "      <td>0.0</td>\n",
       "      <td>0.0</td>\n",
       "      <td>NaN</td>\n",
       "      <td>NaN</td>\n",
       "      <td>NaN</td>\n",
       "      <td>NaN</td>\n",
       "      <td>NaN</td>\n",
       "      <td>6037.0</td>\n",
       "    </tr>\n",
       "    <tr>\n",
       "      <th>50903</th>\n",
       "      <td>499000.0</td>\n",
       "      <td>2307.0</td>\n",
       "      <td>0.0</td>\n",
       "      <td>0.0</td>\n",
       "      <td>1948.0</td>\n",
       "      <td>NaN</td>\n",
       "      <td>NaN</td>\n",
       "      <td>NaN</td>\n",
       "      <td>NaN</td>\n",
       "      <td>6037.0</td>\n",
       "    </tr>\n",
       "    <tr>\n",
       "      <th>51767</th>\n",
       "      <td>183027.0</td>\n",
       "      <td>984.0</td>\n",
       "      <td>0.0</td>\n",
       "      <td>0.0</td>\n",
       "      <td>1927.0</td>\n",
       "      <td>NaN</td>\n",
       "      <td>NaN</td>\n",
       "      <td>NaN</td>\n",
       "      <td>NaN</td>\n",
       "      <td>6037.0</td>\n",
       "    </tr>\n",
       "  </tbody>\n",
       "</table>\n",
       "<p>105 rows × 10 columns</p>\n",
       "</div>"
      ],
      "text/plain": [
       "       home_value  squarefeet  bathrooms  bedrooms  yearbuilt  fireplace  \\\n",
       "1601     830145.0         NaN        0.0       0.0        NaN        NaN   \n",
       "2714     643406.0         NaN        0.0       0.0        NaN        NaN   \n",
       "3137     963472.0       280.0        0.0       0.0     1953.0        NaN   \n",
       "3342     185161.0      1208.0        0.0       0.0     1990.0        NaN   \n",
       "3423     168828.0      1378.0        0.0       0.0        NaN        NaN   \n",
       "...           ...         ...        ...       ...        ...        ...   \n",
       "50077    327761.0         NaN        0.0       0.0        NaN        NaN   \n",
       "50262   3248800.0         NaN        0.0       0.0        NaN        NaN   \n",
       "50637     34124.0       892.0        0.0       0.0        NaN        NaN   \n",
       "50903    499000.0      2307.0        0.0       0.0     1948.0        NaN   \n",
       "51767    183027.0       984.0        0.0       0.0     1927.0        NaN   \n",
       "\n",
       "       deck  pool  garage  county  \n",
       "1601    NaN   NaN     NaN  6059.0  \n",
       "2714    NaN   NaN     NaN  6059.0  \n",
       "3137    NaN   1.0     NaN  6037.0  \n",
       "3342    NaN   NaN     NaN  6037.0  \n",
       "3423    NaN   NaN     NaN  6037.0  \n",
       "...     ...   ...     ...     ...  \n",
       "50077   NaN   NaN     NaN  6059.0  \n",
       "50262   NaN   NaN     NaN  6059.0  \n",
       "50637   NaN   NaN     NaN  6037.0  \n",
       "50903   NaN   NaN     NaN  6037.0  \n",
       "51767   NaN   NaN     NaN  6037.0  \n",
       "\n",
       "[105 rows x 10 columns]"
      ]
     },
     "execution_count": 7,
     "metadata": {},
     "output_type": "execute_result"
    }
   ],
   "source": [
    "# dropped properties with no bathrooms and no bedrooms 75 rows at still retained 96% of original data\n",
    "df[(df.bathrooms==0) & (df.bedrooms ==0)]"
   ]
  },
  {
   "cell_type": "code",
   "execution_count": null,
   "id": "2570ae54",
   "metadata": {},
   "outputs": [],
   "source": [
    "def no_beds_and_baths(df):\n",
    "    df= df[~(df.bathrooms==0) & ~(df.bedrooms ==0)]\n",
    "    \n",
    "    return df"
   ]
  },
  {
   "cell_type": "code",
   "execution_count": null,
   "id": "64fd35c8",
   "metadata": {},
   "outputs": [],
   "source": [
    "# drop 0 beds and 0 baths\n",
    "df= df[~(df.bathrooms==0) & ~(df.bedrooms ==0)]"
   ]
  },
  {
   "cell_type": "code",
   "execution_count": null,
   "id": "4687752a",
   "metadata": {},
   "outputs": [],
   "source": [
    "df.shape"
   ]
  },
  {
   "cell_type": "code",
   "execution_count": null,
   "id": "32133690",
   "metadata": {},
   "outputs": [],
   "source": [
    "50326/52441"
   ]
  },
  {
   "cell_type": "code",
   "execution_count": null,
   "id": "8f823ace",
   "metadata": {
    "scrolled": true
   },
   "outputs": [],
   "source": [
    "df.isnull().sum()"
   ]
  },
  {
   "cell_type": "code",
   "execution_count": null,
   "id": "94a8dcf7",
   "metadata": {
    "scrolled": true
   },
   "outputs": [],
   "source": [
    "w.process_luxury_features(df)"
   ]
  },
  {
   "cell_type": "code",
   "execution_count": null,
   "id": "03b23c6a",
   "metadata": {},
   "outputs": [],
   "source": [
    "df.isnull().sum()"
   ]
  },
  {
   "cell_type": "code",
   "execution_count": null,
   "id": "98523f0b",
   "metadata": {},
   "outputs": [],
   "source": [
    "df.shape"
   ]
  },
  {
   "cell_type": "code",
   "execution_count": null,
   "id": "e2690474",
   "metadata": {},
   "outputs": [],
   "source": [
    "# dropp nulls  a total of 40 rows at this point we have retain 95.9% of original data\n",
    "df = df.dropna()"
   ]
  },
  {
   "cell_type": "code",
   "execution_count": null,
   "id": "0ede25c3",
   "metadata": {
    "scrolled": true
   },
   "outputs": [],
   "source": [
    "df.shape"
   ]
  },
  {
   "cell_type": "code",
   "execution_count": null,
   "id": "b92cb68b",
   "metadata": {},
   "outputs": [],
   "source": [
    "50326-50286"
   ]
  },
  {
   "cell_type": "code",
   "execution_count": null,
   "id": "566a6154",
   "metadata": {},
   "outputs": [],
   "source": [
    "50286/52441"
   ]
  },
  {
   "cell_type": "code",
   "execution_count": null,
   "id": "668d56d4",
   "metadata": {},
   "outputs": [],
   "source": [
    "def process_fancy_features(df):\n",
    "    \n",
    "    columns = ['fireplace','deck','pool','garage']    \n",
    "    for feature in columns:\n",
    "        df[feature]=df[feature].replace(r\"^\\s*$\", np.nan, regex=True)     \n",
    "        # fill fancy features with 0 assumption that if it was not mark it did not exist\n",
    "        df[feature] = df[feature].fillna(0)\n",
    "    return df"
   ]
  },
  {
   "cell_type": "code",
   "execution_count": null,
   "id": "09194b62",
   "metadata": {},
   "outputs": [],
   "source": [
    "def handle_outliers(df):\n",
    "    \"\"\"Manually handle outliers '\"\"\"\n",
    "    df = df[df.bathrooms <= 6]\n",
    "    \n",
    "    df = df[df.bedrooms <= 6]\n",
    "    \n",
    "    df = df[df.home_value <= 1_750_000]\n",
    "    \n",
    "    return df"
   ]
  },
  {
   "cell_type": "code",
   "execution_count": null,
   "id": "8ecce981",
   "metadata": {
    "scrolled": true
   },
   "outputs": [],
   "source": [
    "def zillow_prep(df):\n",
    "    \n",
    "    # remove outliers\n",
    "    df = handle_outliers(df)\n",
    "    \n",
    "    # removed rows with 0 beds and 0 baths\n",
    "    df = df[~(df.bathrooms==0) & ~(df.bedrooms ==0)]\n",
    "    \n",
    "    # process nulls in luxury features:\n",
    "    df = process_fancy_features(df)\n",
    "    \n",
    "    # drop nulls\n",
    "    df = df.dropna()\n",
    "\n",
    "    return df"
   ]
  },
  {
   "cell_type": "code",
   "execution_count": 3,
   "id": "8ae3d02c",
   "metadata": {
    "scrolled": true
   },
   "outputs": [],
   "source": [
    "df=w.zillow_prep(df)"
   ]
  },
  {
   "cell_type": "code",
   "execution_count": 13,
   "id": "783d507f",
   "metadata": {},
   "outputs": [
    {
     "data": {
      "text/plain": [
       "6037.0    33910\n",
       "6059.0    14136\n",
       "6111.0     4395\n",
       "Name: county, dtype: int64"
      ]
     },
     "execution_count": 13,
     "metadata": {},
     "output_type": "execute_result"
    }
   ],
   "source": [
    "# FIPS code 6111 Ventura County, 6059  Orange County, 6037 Los Angeles County\n",
    "df.county.value_counts()"
   ]
  },
  {
   "cell_type": "code",
   "execution_count": 9,
   "id": "c4df53f4",
   "metadata": {
    "scrolled": true
   },
   "outputs": [
    {
     "data": {
      "text/plain": [
       "home_value        1\n",
       "squarefeet       82\n",
       "bathrooms         0\n",
       "bedrooms          0\n",
       "yearbuilt       116\n",
       "fireplace     45198\n",
       "deck          52052\n",
       "pool          41345\n",
       "garage        34426\n",
       "county            0\n",
       "dtype: int64"
      ]
     },
     "execution_count": 9,
     "metadata": {},
     "output_type": "execute_result"
    }
   ],
   "source": [
    "df.isnull().sum()"
   ]
  },
  {
   "cell_type": "code",
   "execution_count": 4,
   "id": "f6c64a23",
   "metadata": {},
   "outputs": [],
   "source": [
    "def new_features(df):\n",
    "    #Creating new column for home age using year_built, casting as float\n",
    "    df['home_age'] = 2017- df['yearbuilt']\n",
    "    df[\"home_age\"] = df[\"home_age\"].astype('float')\n",
    "    \n",
    "    df['optional_features'] = (df.garage==1)|(df.deck == 1)|(df.pool == 1)|(df.fireplace == 1)\n",
    "    \n",
    "    return df\n",
    "    \n",
    "    "
   ]
  },
  {
   "cell_type": "code",
   "execution_count": 5,
   "id": "2d07c01a",
   "metadata": {},
   "outputs": [],
   "source": [
    "def encode_features(df):\n",
    "    df.fireplace = df.fireplace.replace({2:1, 3:1, 4:1, 5:1})\n",
    "    df.deck= df.deck.replace({66:1})\n",
    "    df.garage = df.garage.replace({2:1, 3:1, 4:1, 5:1, 6:1, 7:1, 8:1, 9:1, 10:1, 13:1,14:1})\n",
    "    df.optional_features = df.optional_features.replace({False:0, True: 1})\n",
    "    temp = pd.get_dummies(df['county'], drop_first=False)\n",
    "    df = pd.concat([df, temp],axis =1)\n",
    "    return df"
   ]
  },
  {
   "cell_type": "code",
   "execution_count": 6,
   "id": "60059fe0",
   "metadata": {
    "scrolled": true
   },
   "outputs": [
    {
     "data": {
      "text/html": [
       "<div>\n",
       "<style scoped>\n",
       "    .dataframe tbody tr th:only-of-type {\n",
       "        vertical-align: middle;\n",
       "    }\n",
       "\n",
       "    .dataframe tbody tr th {\n",
       "        vertical-align: top;\n",
       "    }\n",
       "\n",
       "    .dataframe thead th {\n",
       "        text-align: right;\n",
       "    }\n",
       "</style>\n",
       "<table border=\"1\" class=\"dataframe\">\n",
       "  <thead>\n",
       "    <tr style=\"text-align: right;\">\n",
       "      <th></th>\n",
       "      <th>home_value</th>\n",
       "      <th>squarefeet</th>\n",
       "      <th>bathrooms</th>\n",
       "      <th>bedrooms</th>\n",
       "      <th>yearbuilt</th>\n",
       "      <th>fireplace</th>\n",
       "      <th>deck</th>\n",
       "      <th>pool</th>\n",
       "      <th>garage</th>\n",
       "      <th>county</th>\n",
       "    </tr>\n",
       "  </thead>\n",
       "  <tbody>\n",
       "    <tr>\n",
       "      <th>0</th>\n",
       "      <td>434855.0</td>\n",
       "      <td>1570.0</td>\n",
       "      <td>2.0</td>\n",
       "      <td>3.0</td>\n",
       "      <td>1956.0</td>\n",
       "      <td>0.0</td>\n",
       "      <td>0.0</td>\n",
       "      <td>0.0</td>\n",
       "      <td>0.0</td>\n",
       "      <td>6037.0</td>\n",
       "    </tr>\n",
       "    <tr>\n",
       "      <th>1</th>\n",
       "      <td>218089.0</td>\n",
       "      <td>981.0</td>\n",
       "      <td>1.0</td>\n",
       "      <td>2.0</td>\n",
       "      <td>1939.0</td>\n",
       "      <td>0.0</td>\n",
       "      <td>0.0</td>\n",
       "      <td>0.0</td>\n",
       "      <td>0.0</td>\n",
       "      <td>6037.0</td>\n",
       "    </tr>\n",
       "    <tr>\n",
       "      <th>2</th>\n",
       "      <td>161802.0</td>\n",
       "      <td>1484.0</td>\n",
       "      <td>1.0</td>\n",
       "      <td>2.0</td>\n",
       "      <td>1913.0</td>\n",
       "      <td>0.0</td>\n",
       "      <td>0.0</td>\n",
       "      <td>0.0</td>\n",
       "      <td>0.0</td>\n",
       "      <td>6037.0</td>\n",
       "    </tr>\n",
       "    <tr>\n",
       "      <th>3</th>\n",
       "      <td>635000.0</td>\n",
       "      <td>3108.0</td>\n",
       "      <td>3.0</td>\n",
       "      <td>5.0</td>\n",
       "      <td>2006.0</td>\n",
       "      <td>0.0</td>\n",
       "      <td>0.0</td>\n",
       "      <td>0.0</td>\n",
       "      <td>0.0</td>\n",
       "      <td>6037.0</td>\n",
       "    </tr>\n",
       "    <tr>\n",
       "      <th>4</th>\n",
       "      <td>424414.0</td>\n",
       "      <td>1518.0</td>\n",
       "      <td>2.0</td>\n",
       "      <td>3.0</td>\n",
       "      <td>1947.0</td>\n",
       "      <td>0.0</td>\n",
       "      <td>0.0</td>\n",
       "      <td>0.0</td>\n",
       "      <td>0.0</td>\n",
       "      <td>6037.0</td>\n",
       "    </tr>\n",
       "  </tbody>\n",
       "</table>\n",
       "</div>"
      ],
      "text/plain": [
       "   home_value  squarefeet  bathrooms  bedrooms  yearbuilt  fireplace  deck  \\\n",
       "0    434855.0      1570.0        2.0       3.0     1956.0        0.0   0.0   \n",
       "1    218089.0       981.0        1.0       2.0     1939.0        0.0   0.0   \n",
       "2    161802.0      1484.0        1.0       2.0     1913.0        0.0   0.0   \n",
       "3    635000.0      3108.0        3.0       5.0     2006.0        0.0   0.0   \n",
       "4    424414.0      1518.0        2.0       3.0     1947.0        0.0   0.0   \n",
       "\n",
       "   pool  garage  county  \n",
       "0   0.0     0.0  6037.0  \n",
       "1   0.0     0.0  6037.0  \n",
       "2   0.0     0.0  6037.0  \n",
       "3   0.0     0.0  6037.0  \n",
       "4   0.0     0.0  6037.0  "
      ]
     },
     "execution_count": 6,
     "metadata": {},
     "output_type": "execute_result"
    }
   ],
   "source": [
    "df.head()"
   ]
  },
  {
   "cell_type": "code",
   "execution_count": 7,
   "id": "a3683c98",
   "metadata": {
    "scrolled": false
   },
   "outputs": [],
   "source": [
    "df =new_features(df)"
   ]
  },
  {
   "cell_type": "code",
   "execution_count": 8,
   "id": "28bafadf",
   "metadata": {},
   "outputs": [
    {
     "data": {
      "text/html": [
       "<div>\n",
       "<style scoped>\n",
       "    .dataframe tbody tr th:only-of-type {\n",
       "        vertical-align: middle;\n",
       "    }\n",
       "\n",
       "    .dataframe tbody tr th {\n",
       "        vertical-align: top;\n",
       "    }\n",
       "\n",
       "    .dataframe thead th {\n",
       "        text-align: right;\n",
       "    }\n",
       "</style>\n",
       "<table border=\"1\" class=\"dataframe\">\n",
       "  <thead>\n",
       "    <tr style=\"text-align: right;\">\n",
       "      <th></th>\n",
       "      <th>home_value</th>\n",
       "      <th>squarefeet</th>\n",
       "      <th>bathrooms</th>\n",
       "      <th>bedrooms</th>\n",
       "      <th>yearbuilt</th>\n",
       "      <th>fireplace</th>\n",
       "      <th>deck</th>\n",
       "      <th>pool</th>\n",
       "      <th>garage</th>\n",
       "      <th>county</th>\n",
       "      <th>home_age</th>\n",
       "      <th>optional_features</th>\n",
       "    </tr>\n",
       "  </thead>\n",
       "  <tbody>\n",
       "    <tr>\n",
       "      <th>0</th>\n",
       "      <td>434855.0</td>\n",
       "      <td>1570.0</td>\n",
       "      <td>2.0</td>\n",
       "      <td>3.0</td>\n",
       "      <td>1956.0</td>\n",
       "      <td>0.0</td>\n",
       "      <td>0.0</td>\n",
       "      <td>0.0</td>\n",
       "      <td>0.0</td>\n",
       "      <td>6037.0</td>\n",
       "      <td>61.0</td>\n",
       "      <td>False</td>\n",
       "    </tr>\n",
       "    <tr>\n",
       "      <th>1</th>\n",
       "      <td>218089.0</td>\n",
       "      <td>981.0</td>\n",
       "      <td>1.0</td>\n",
       "      <td>2.0</td>\n",
       "      <td>1939.0</td>\n",
       "      <td>0.0</td>\n",
       "      <td>0.0</td>\n",
       "      <td>0.0</td>\n",
       "      <td>0.0</td>\n",
       "      <td>6037.0</td>\n",
       "      <td>78.0</td>\n",
       "      <td>False</td>\n",
       "    </tr>\n",
       "    <tr>\n",
       "      <th>2</th>\n",
       "      <td>161802.0</td>\n",
       "      <td>1484.0</td>\n",
       "      <td>1.0</td>\n",
       "      <td>2.0</td>\n",
       "      <td>1913.0</td>\n",
       "      <td>0.0</td>\n",
       "      <td>0.0</td>\n",
       "      <td>0.0</td>\n",
       "      <td>0.0</td>\n",
       "      <td>6037.0</td>\n",
       "      <td>104.0</td>\n",
       "      <td>False</td>\n",
       "    </tr>\n",
       "    <tr>\n",
       "      <th>3</th>\n",
       "      <td>635000.0</td>\n",
       "      <td>3108.0</td>\n",
       "      <td>3.0</td>\n",
       "      <td>5.0</td>\n",
       "      <td>2006.0</td>\n",
       "      <td>0.0</td>\n",
       "      <td>0.0</td>\n",
       "      <td>0.0</td>\n",
       "      <td>0.0</td>\n",
       "      <td>6037.0</td>\n",
       "      <td>11.0</td>\n",
       "      <td>False</td>\n",
       "    </tr>\n",
       "    <tr>\n",
       "      <th>4</th>\n",
       "      <td>424414.0</td>\n",
       "      <td>1518.0</td>\n",
       "      <td>2.0</td>\n",
       "      <td>3.0</td>\n",
       "      <td>1947.0</td>\n",
       "      <td>0.0</td>\n",
       "      <td>0.0</td>\n",
       "      <td>0.0</td>\n",
       "      <td>0.0</td>\n",
       "      <td>6037.0</td>\n",
       "      <td>70.0</td>\n",
       "      <td>False</td>\n",
       "    </tr>\n",
       "  </tbody>\n",
       "</table>\n",
       "</div>"
      ],
      "text/plain": [
       "   home_value  squarefeet  bathrooms  bedrooms  yearbuilt  fireplace  deck  \\\n",
       "0    434855.0      1570.0        2.0       3.0     1956.0        0.0   0.0   \n",
       "1    218089.0       981.0        1.0       2.0     1939.0        0.0   0.0   \n",
       "2    161802.0      1484.0        1.0       2.0     1913.0        0.0   0.0   \n",
       "3    635000.0      3108.0        3.0       5.0     2006.0        0.0   0.0   \n",
       "4    424414.0      1518.0        2.0       3.0     1947.0        0.0   0.0   \n",
       "\n",
       "   pool  garage  county  home_age  optional_features  \n",
       "0   0.0     0.0  6037.0      61.0              False  \n",
       "1   0.0     0.0  6037.0      78.0              False  \n",
       "2   0.0     0.0  6037.0     104.0              False  \n",
       "3   0.0     0.0  6037.0      11.0              False  \n",
       "4   0.0     0.0  6037.0      70.0              False  "
      ]
     },
     "execution_count": 8,
     "metadata": {},
     "output_type": "execute_result"
    }
   ],
   "source": [
    "df.head()"
   ]
  },
  {
   "cell_type": "code",
   "execution_count": 9,
   "id": "9ee76697",
   "metadata": {},
   "outputs": [],
   "source": [
    "df=encode_features(df)"
   ]
  },
  {
   "cell_type": "code",
   "execution_count": 12,
   "id": "3549e0a5",
   "metadata": {},
   "outputs": [
    {
     "data": {
      "text/html": [
       "<div>\n",
       "<style scoped>\n",
       "    .dataframe tbody tr th:only-of-type {\n",
       "        vertical-align: middle;\n",
       "    }\n",
       "\n",
       "    .dataframe tbody tr th {\n",
       "        vertical-align: top;\n",
       "    }\n",
       "\n",
       "    .dataframe thead th {\n",
       "        text-align: right;\n",
       "    }\n",
       "</style>\n",
       "<table border=\"1\" class=\"dataframe\">\n",
       "  <thead>\n",
       "    <tr style=\"text-align: right;\">\n",
       "      <th></th>\n",
       "      <th>home_value</th>\n",
       "      <th>squarefeet</th>\n",
       "      <th>bathrooms</th>\n",
       "      <th>bedrooms</th>\n",
       "      <th>yearbuilt</th>\n",
       "      <th>fireplace</th>\n",
       "      <th>deck</th>\n",
       "      <th>pool</th>\n",
       "      <th>garage</th>\n",
       "      <th>county</th>\n",
       "      <th>home_age</th>\n",
       "      <th>optional_features</th>\n",
       "      <th>6037.0</th>\n",
       "      <th>6059.0</th>\n",
       "      <th>6111.0</th>\n",
       "    </tr>\n",
       "  </thead>\n",
       "  <tbody>\n",
       "    <tr>\n",
       "      <th>0</th>\n",
       "      <td>434855.0</td>\n",
       "      <td>1570.0</td>\n",
       "      <td>2.0</td>\n",
       "      <td>3.0</td>\n",
       "      <td>1956.0</td>\n",
       "      <td>0.0</td>\n",
       "      <td>0.0</td>\n",
       "      <td>0.0</td>\n",
       "      <td>0.0</td>\n",
       "      <td>6037.0</td>\n",
       "      <td>61.0</td>\n",
       "      <td>0</td>\n",
       "      <td>1</td>\n",
       "      <td>0</td>\n",
       "      <td>0</td>\n",
       "    </tr>\n",
       "    <tr>\n",
       "      <th>1</th>\n",
       "      <td>218089.0</td>\n",
       "      <td>981.0</td>\n",
       "      <td>1.0</td>\n",
       "      <td>2.0</td>\n",
       "      <td>1939.0</td>\n",
       "      <td>0.0</td>\n",
       "      <td>0.0</td>\n",
       "      <td>0.0</td>\n",
       "      <td>0.0</td>\n",
       "      <td>6037.0</td>\n",
       "      <td>78.0</td>\n",
       "      <td>0</td>\n",
       "      <td>1</td>\n",
       "      <td>0</td>\n",
       "      <td>0</td>\n",
       "    </tr>\n",
       "    <tr>\n",
       "      <th>2</th>\n",
       "      <td>161802.0</td>\n",
       "      <td>1484.0</td>\n",
       "      <td>1.0</td>\n",
       "      <td>2.0</td>\n",
       "      <td>1913.0</td>\n",
       "      <td>0.0</td>\n",
       "      <td>0.0</td>\n",
       "      <td>0.0</td>\n",
       "      <td>0.0</td>\n",
       "      <td>6037.0</td>\n",
       "      <td>104.0</td>\n",
       "      <td>0</td>\n",
       "      <td>1</td>\n",
       "      <td>0</td>\n",
       "      <td>0</td>\n",
       "    </tr>\n",
       "    <tr>\n",
       "      <th>3</th>\n",
       "      <td>635000.0</td>\n",
       "      <td>3108.0</td>\n",
       "      <td>3.0</td>\n",
       "      <td>5.0</td>\n",
       "      <td>2006.0</td>\n",
       "      <td>0.0</td>\n",
       "      <td>0.0</td>\n",
       "      <td>0.0</td>\n",
       "      <td>0.0</td>\n",
       "      <td>6037.0</td>\n",
       "      <td>11.0</td>\n",
       "      <td>0</td>\n",
       "      <td>1</td>\n",
       "      <td>0</td>\n",
       "      <td>0</td>\n",
       "    </tr>\n",
       "    <tr>\n",
       "      <th>4</th>\n",
       "      <td>424414.0</td>\n",
       "      <td>1518.0</td>\n",
       "      <td>2.0</td>\n",
       "      <td>3.0</td>\n",
       "      <td>1947.0</td>\n",
       "      <td>0.0</td>\n",
       "      <td>0.0</td>\n",
       "      <td>0.0</td>\n",
       "      <td>0.0</td>\n",
       "      <td>6037.0</td>\n",
       "      <td>70.0</td>\n",
       "      <td>0</td>\n",
       "      <td>1</td>\n",
       "      <td>0</td>\n",
       "      <td>0</td>\n",
       "    </tr>\n",
       "  </tbody>\n",
       "</table>\n",
       "</div>"
      ],
      "text/plain": [
       "   home_value  squarefeet  bathrooms  bedrooms  yearbuilt  fireplace  deck  \\\n",
       "0    434855.0      1570.0        2.0       3.0     1956.0        0.0   0.0   \n",
       "1    218089.0       981.0        1.0       2.0     1939.0        0.0   0.0   \n",
       "2    161802.0      1484.0        1.0       2.0     1913.0        0.0   0.0   \n",
       "3    635000.0      3108.0        3.0       5.0     2006.0        0.0   0.0   \n",
       "4    424414.0      1518.0        2.0       3.0     1947.0        0.0   0.0   \n",
       "\n",
       "   pool  garage  county  home_age  optional_features  6037.0  6059.0  6111.0  \n",
       "0   0.0     0.0  6037.0      61.0                  0       1       0       0  \n",
       "1   0.0     0.0  6037.0      78.0                  0       1       0       0  \n",
       "2   0.0     0.0  6037.0     104.0                  0       1       0       0  \n",
       "3   0.0     0.0  6037.0      11.0                  0       1       0       0  \n",
       "4   0.0     0.0  6037.0      70.0                  0       1       0       0  "
      ]
     },
     "execution_count": 12,
     "metadata": {},
     "output_type": "execute_result"
    }
   ],
   "source": [
    "df.head(5)"
   ]
  },
  {
   "cell_type": "markdown",
   "id": "8c32a11e",
   "metadata": {},
   "source": [
    "# Prepare:"
   ]
  },
  {
   "cell_type": "code",
   "execution_count": null,
   "id": "54ace1c3",
   "metadata": {},
   "outputs": [],
   "source": []
  },
  {
   "cell_type": "markdown",
   "id": "6580469d",
   "metadata": {},
   "source": [
    "prepare actions:\n",
    "* After the follwing steps I retained 95.9% of original data:\n",
    "    * Outliers were removed\n",
    "    (to better fit the definition of Single Family Property):\n",
    "    \n",
    "        * Beds above 6 \n",
    "        * Baths above 6 \n",
    "        * Home values above 1_750_000\n",
    "        * Rows with both 0 beds and 0 baths \n",
    "        \n",
    "    * For the following features it was assumed null values meant the structure did not exist on property:\n",
    "        * fireplace (45198)\n",
    "        * deck (52052)\n",
    "        * pool (41345)\n",
    "        * garage (34425)\n",
    "            \n",
    "    * The following null values were dropped:\n",
    "        * home_value (1)\n",
    "        * squarefeet (82)\n",
    "        * yearbuilt (116)\n",
    "\n",
    "* Encoded categorical variables\n",
    "* Split data into train, validate and test \n",
    "    * Approximately: train 56%, validate 24%, test 20%\n",
    "    * Stratified on 'churn'\n"
   ]
  },
  {
   "cell_type": "markdown",
   "id": "f11fbd93",
   "metadata": {},
   "source": [
    "###                                                        <h1><center>Data Dictionary</center></h1>     \n",
    "\n",
    "\n",
    "|Feature          | Description|\n",
    "| :---------------: | :---------------------------------- |\n",
    "| home_value (target) | The total tax assessed value of the parcel  |\n",
    "| squarefeet:  | Calculated total finished living area of the home |\n",
    "| bathrooms:   |  Number of bathrooms in home including fractional bathrooms |\n",
    "| bedrooms: | Number of bedrooms in home  |\n",
    "| yearbuilt:  |  The Year the principal residence was built   |\n",
    "| fireplace: | fireplace on property (if any = 1) |\n",
    "| deck:  | deck on property (if any = 1) |\n",
    "| pool:  | pool on property (if any = 1) |\n",
    "| garage: | garage on property (if any = 1) |\n",
    "| county: | FIPS code for californian counties: 6111 Ventura County, 6059  Orange County, 6037 Los Angeles County |\n",
    "| home_age: | The age of the home in 2017   |\n",
    "|optional_features: |If a home has any of the follwing: fireplace, deck, pool, garage it is noted as 1   |\n",
    "|additional Features: | \tEncoded and values for categorical data"
   ]
  },
  {
   "cell_type": "code",
   "execution_count": null,
   "id": "55ead39e",
   "metadata": {},
   "outputs": [],
   "source": [
    "# cleaning data\n",
    "df = w.prep_telco(df)\n",
    "\n",
    "# split data: train, validate and test\n",
    "train, validate, test = w.split_telco_data(df)"
   ]
  },
  {
   "cell_type": "markdown",
   "id": "1500c993",
   "metadata": {},
   "source": [
    "# Looking at the data"
   ]
  },
  {
   "cell_type": "code",
   "execution_count": null,
   "id": "46ee4353",
   "metadata": {
    "scrolled": true
   },
   "outputs": [],
   "source": [
    "train.head(10)"
   ]
  },
  {
   "cell_type": "markdown",
   "id": "7a07fc42",
   "metadata": {},
   "source": [
    "# Data Summary"
   ]
  },
  {
   "cell_type": "code",
   "execution_count": null,
   "id": "5a5d1543",
   "metadata": {},
   "outputs": [],
   "source": [
    "train.describe()"
   ]
  },
  {
   "cell_type": "markdown",
   "id": "03e989b5",
   "metadata": {},
   "source": [
    "# Explore:"
   ]
  },
  {
   "cell_type": "markdown",
   "id": "9879e4e5",
   "metadata": {},
   "source": [
    "## How often does churn occur?"
   ]
  },
  {
   "cell_type": "code",
   "execution_count": null,
   "id": "c94dbc72",
   "metadata": {
    "scrolled": false
   },
   "outputs": [],
   "source": [
    "e.get_churn_mean_bar(train)"
   ]
  },
  {
   "cell_type": "markdown",
   "id": "93087f71",
   "metadata": {},
   "source": [
    " * **It appears that about 27% of Telco customers churn.**"
   ]
  },
  {
   "cell_type": "markdown",
   "id": "12fdac35",
   "metadata": {},
   "source": [
    "## Do customer who churn have higher monthly charges?"
   ]
  },
  {
   "cell_type": "code",
   "execution_count": null,
   "id": "b23241a5",
   "metadata": {
    "scrolled": true
   },
   "outputs": [],
   "source": [
    "# Obtain boxplot displaying mean of monthly charges\n",
    "e.get_monthly_charges(train)"
   ]
  },
  {
   "cell_type": "markdown",
   "id": "3a3cdb5e",
   "metadata": {},
   "source": [
    "* **The mean monthly charges of customers who churn is slightly higher than the mean monthly charges of customers who do not churn.** "
   ]
  },
  {
   "cell_type": "markdown",
   "id": "1a7aba1a",
   "metadata": {},
   "source": [
    "**I will now conduct a T-test to test for a significant difference between the mean of monthly charges of customers who churn and the mean oc monthly charges of customers who do not churn.**\n",
    "\n",
    "* The confidence interval is 95%\n",
    "* Alpha is set to 0.05 \n",
    "* p/2 will be compared to alpha\n",
    "\n",
    "$H_0$: Mean tenure of Telco customers who churn == mean tenure of Telco customers who do not churn.\n",
    "\n",
    "$H_a$: Tean tenure of Telco customers who churn != mean tenure of Telco customers who do not churn."
   ]
  },
  {
   "cell_type": "code",
   "execution_count": null,
   "id": "7b0a2555",
   "metadata": {
    "scrolled": true
   },
   "outputs": [],
   "source": [
    "# Stats T-Test result\n",
    "e.get_ttest_monthly_charges(train)"
   ]
  },
  {
   "cell_type": "markdown",
   "id": "05932cdf",
   "metadata": {},
   "source": [
    "The p-value/2 is less than the alpha. **There is  evidence to support that customers who churn on average pay higher monthly charges than customers who do not churn.** Based on this statistical finding I believe that monthly charges is a driver of customer churn.Adding an encoded version of this feature to the model will likely increase the model's accuracy.\n"
   ]
  },
  {
   "cell_type": "markdown",
   "id": "f0a86d4a",
   "metadata": {},
   "source": [
    "## Is the mean tenure of customers who churn lower?"
   ]
  },
  {
   "cell_type": "code",
   "execution_count": null,
   "id": "26b069a5",
   "metadata": {
    "scrolled": true
   },
   "outputs": [],
   "source": [
    "# Obtain boxplot on tenure vs churn\n",
    "e.get_boxplot_tenure(train)"
   ]
  },
  {
   "cell_type": "markdown",
   "id": "1fb64347",
   "metadata": {},
   "source": [
    "* **We can see that the tenure mean of customers who churn  is less than the tenure mean of customers who do not churn.**"
   ]
  },
  {
   "cell_type": "markdown",
   "id": "d7cb0e80",
   "metadata": {},
   "source": [
    "**I will now conduct a T-test to determine if there on average customers who churn have a lower tenure than customers who do not churn.**\n",
    "\n",
    "* The confidence interval is 95%\n",
    "* Alpha is set to 0.05 \n",
    "* p/2 will be compared to alpha\n",
    "\n",
    "$H_0$: Mean tenure of Telco customers who churn >= mean tenure of Telco customers who do not churn.\n",
    "\n",
    "$H_a$: Tean tenure of Telco customers who churn < mean tenure of Telco customers who do not churn."
   ]
  },
  {
   "cell_type": "code",
   "execution_count": null,
   "id": "b4a0dded",
   "metadata": {
    "scrolled": true
   },
   "outputs": [],
   "source": [
    "# obtain T-test for tenure vs churn\n",
    "e.get_ttest_tenure(train)"
   ]
  },
  {
   "cell_type": "markdown",
   "id": "1764a3e5",
   "metadata": {},
   "source": [
    "The p-value/2 is less than alpha. **Therefore we have evidence to support that customors who churn have a tenure average that is lower than customers who do not churn.** Based on this statistical finding I believe that tenure is a driver of customer churn.Adding an encoded version of this feature to the model will likely increase the model's accuracy.**"
   ]
  },
  {
   "cell_type": "markdown",
   "id": "8ad2a4c9",
   "metadata": {},
   "source": [
    "## Does having Senior Citizen status affect churn?"
   ]
  },
  {
   "cell_type": "code",
   "execution_count": null,
   "id": "b42a55ac",
   "metadata": {
    "scrolled": true
   },
   "outputs": [],
   "source": [
    "# Obtain bar graph for senior Citizen count\n",
    "e.get_bar_senior(train)"
   ]
  },
  {
   "cell_type": "markdown",
   "id": "e8c42d7e",
   "metadata": {},
   "source": [
    "* **We can see that the population count of churned senior citizens is closer to the total population of senior citizens.**"
   ]
  },
  {
   "cell_type": "markdown",
   "id": "a4d40879",
   "metadata": {},
   "source": [
    "**I will now conduct a chi-square test to determine if there is an association between senior citizen status and churn.**\n",
    "\n",
    "* The confidence interval is 95%\n",
    "* Alpha is set to 0.05 \n",
    "\n",
    "$H_0$: There is **no** relationship between a customers with senior status and churn.\n",
    "\n",
    "$H_a$: There is a relationship between a customers senior status and churn."
   ]
  },
  {
   "cell_type": "code",
   "execution_count": null,
   "id": "147fb7e0",
   "metadata": {
    "scrolled": true
   },
   "outputs": [],
   "source": [
    "# Obtain chi-square test\n",
    "e.get_chi2_senior(train)"
   ]
  },
  {
   "cell_type": "markdown",
   "id": "350f38c2",
   "metadata": {},
   "source": [
    "The p-value is less thant the alpha. **Therefore there is evidence to support that a customer senior citizen status has an association with churn.** I believe that senior citizen status is a driver of churn. Adding an encoded version of this feature to the model will likely increase the mode's accuracy. "
   ]
  },
  {
   "cell_type": "markdown",
   "id": "f40b6040",
   "metadata": {},
   "source": [
    "## Does contract type affect churn?"
   ]
  },
  {
   "cell_type": "code",
   "execution_count": null,
   "id": "9a687cea",
   "metadata": {
    "scrolled": true
   },
   "outputs": [],
   "source": [
    "# Obtain plot for contract type vs churn\n",
    "e.get_plot_contract(train)"
   ]
  },
  {
   "cell_type": "markdown",
   "id": "c67dc437",
   "metadata": {},
   "source": [
    "* **It seems that customers with a two-year contracts churn less than customers with month-to-month contract.**"
   ]
  },
  {
   "cell_type": "markdown",
   "id": "2174084c",
   "metadata": {},
   "source": [
    "**I will now conduct a chi-square test to determine if there is an association between contract type and churn.**\n",
    "\n",
    "* The confidence interval is 95%\n",
    "* Alpha is set to 0.05 \n",
    "\n",
    "$H_0$: There is **no** relationship between contract type and churn.\n",
    "\n",
    "$H_a$: There is a relationship between contract type and churn."
   ]
  },
  {
   "cell_type": "code",
   "execution_count": null,
   "id": "6469764a",
   "metadata": {
    "scrolled": false
   },
   "outputs": [],
   "source": [
    "# Obtain chi-square on Contract type\n",
    "e.get_chi2_contract(train)"
   ]
  },
  {
   "cell_type": "markdown",
   "id": "83fba473",
   "metadata": {},
   "source": [
    "The p-value is less than alpha. **There is evidence to support that tenure has an association with churn.** I believe that tenure is a driver of churn. Adding an encoded version of this feature to the model will likely increase the mode's accuracy."
   ]
  },
  {
   "cell_type": "markdown",
   "id": "0babf409",
   "metadata": {},
   "source": [
    "# Exploration Summary"
   ]
  },
  {
   "cell_type": "markdown",
   "id": "f0f0c472",
   "metadata": {},
   "source": [
    "* Monthly Charges is a driver of churn\n",
    "* Senior Citizen status is a driver of churn\n",
    "* Tenure is a driver of churn\n",
    "* Contract type is a driver of churn\n",
    "* Partner is a driver of churn\n",
    "* Gender is not a driver of churn"
   ]
  },
  {
   "cell_type": "markdown",
   "id": "b91df37d",
   "metadata": {},
   "source": [
    "# Features that will be included in my model"
   ]
  },
  {
   "cell_type": "markdown",
   "id": "014f864c",
   "metadata": {},
   "source": [
    "* **Monthly charges**  has a significant statistical relationship to churn\n",
    "* **Senior Citizen**  has a significant statistical relationship to churn\n",
    "* **Tenure**  has a significant statistical relationship to churn\n",
    "* **Contract type** has a significan statistical relationship to churn\n",
    "* **Partner**  has a significant statistical relationship to churn"
   ]
  },
  {
   "cell_type": "markdown",
   "id": "293fa781",
   "metadata": {},
   "source": [
    "# Features that will be not included in my model"
   ]
  },
  {
   "cell_type": "markdown",
   "id": "d20728ae",
   "metadata": {},
   "source": [
    "* **Gender** did not have a statistical significant relationship to churn.\n",
    "* **Other features** have unknow significance to churn at the moment\n",
    "    * Given more time I would determined if these other features would result in any model gains"
   ]
  },
  {
   "cell_type": "markdown",
   "id": "84774416",
   "metadata": {},
   "source": [
    "# Modeling:"
   ]
  },
  {
   "cell_type": "markdown",
   "id": "d9914f0a",
   "metadata": {},
   "source": [
    "* Accuracy is the metric use in the models.\n",
    "    * Accuracy helps gauge the percentage of correct predictions\n",
    "* Churn customers makeup 27% of the data \n",
    "* Since non-churned customers make up 73% of the data \n",
    "    * 73% will be the baseline\n",
    "* I will evaluate my top model of Decision Tree, KNN, and Logistic Regression on train and validate data\n",
    "* The model that performs the best will then be evaluated on test data"
   ]
  },
  {
   "cell_type": "code",
   "execution_count": null,
   "id": "20d77621",
   "metadata": {},
   "outputs": [],
   "source": [
    "# prep data for modeling\n",
    "x_train,y_train,x_validate,y_validate, x_test, y_test = m.model_prep(train,validate,test)"
   ]
  },
  {
   "cell_type": "markdown",
   "id": "5ee628c6",
   "metadata": {},
   "source": [
    "## Decision Tree"
   ]
  },
  {
   "cell_type": "code",
   "execution_count": null,
   "id": "5983266b",
   "metadata": {
    "scrolled": true
   },
   "outputs": [],
   "source": [
    "# Get Decision Tree results\n",
    "m.get_tree_model(x_train,y_train,x_validate,y_validate)"
   ]
  },
  {
   "cell_type": "markdown",
   "id": "c6098a3d",
   "metadata": {},
   "source": [
    "**The accuracy of the Decision Tree model is above the baseline in both train and validate.** "
   ]
  },
  {
   "cell_type": "markdown",
   "id": "c3148e4a",
   "metadata": {},
   "source": [
    "## KNN"
   ]
  },
  {
   "cell_type": "code",
   "execution_count": null,
   "id": "e748bc35",
   "metadata": {},
   "outputs": [],
   "source": [
    "# Get KNN model results\n",
    "m.get_knn_model(x_train,y_train,x_validate,y_validate)"
   ]
  },
  {
   "cell_type": "markdown",
   "id": "7d706d99",
   "metadata": {},
   "source": [
    "**The accuracy of the KNN is above the baseline in both train and validate.** "
   ]
  },
  {
   "cell_type": "markdown",
   "id": "b804b6f0",
   "metadata": {},
   "source": [
    "## Logistic Regression"
   ]
  },
  {
   "cell_type": "code",
   "execution_count": null,
   "id": "8b505463",
   "metadata": {
    "scrolled": true
   },
   "outputs": [],
   "source": [
    "# Get Logic Regression model results\n",
    "m.get_logit_model(x_train,y_train,x_validate,y_validate)"
   ]
  },
  {
   "cell_type": "markdown",
   "id": "fd22cbfd",
   "metadata": {},
   "source": [
    "**The accuracy of the Logistic Regression model is above the baseline in both train and validate.** "
   ]
  },
  {
   "cell_type": "markdown",
   "id": "c07aaeb2",
   "metadata": {},
   "source": [
    "# Comparing Models"
   ]
  },
  {
   "cell_type": "markdown",
   "id": "d6e42405",
   "metadata": {},
   "source": [
    "* All Models performed above the baseline in both train and validate data\n",
    "* Since all models performed well I will select the Model with the least accuracy diffirence between train and validate\n",
    "* I will select the Logistic Regression as the final model."
   ]
  },
  {
   "cell_type": "markdown",
   "id": "337e98f9",
   "metadata": {},
   "source": [
    "# Logistic regression on Test data"
   ]
  },
  {
   "cell_type": "code",
   "execution_count": null,
   "id": "08c630c9",
   "metadata": {},
   "outputs": [],
   "source": [
    "m.get_logit_model(x_train,y_train,x_test,y_test, True)"
   ]
  },
  {
   "cell_type": "markdown",
   "id": "7a3f2e74",
   "metadata": {},
   "source": [
    "## Modeling Summary"
   ]
  },
  {
   "cell_type": "markdown",
   "id": "c40cc762",
   "metadata": {},
   "source": [
    "* Decision Tree, KNN and Logistic Regression models all performed aboved the baseline\n",
    "\n",
    "* Logistic Regression Model performed 7% above the baseline in terms of accuracy."
   ]
  },
  {
   "cell_type": "markdown",
   "id": "f896f6c0",
   "metadata": {},
   "source": [
    "# Conclusion"
   ]
  },
  {
   "cell_type": "markdown",
   "id": "fcbf80fc",
   "metadata": {},
   "source": [
    "## Exploration\n",
    "\n"
   ]
  },
  {
   "cell_type": "markdown",
   "id": "8fbf3a1f",
   "metadata": {},
   "source": [
    "* About 27% of Telco customers churn.\n",
    "* Customers who churn tend to:\n",
    "    * have a higher a monthly charge\n",
    "    * lower tenure mean\n",
    "* Contract type, partner status and senior status have an association with churn \n",
    "* Gender has no influence on churn "
   ]
  },
  {
   "cell_type": "markdown",
   "id": "058105b7",
   "metadata": {},
   "source": [
    "## Modeling"
   ]
  },
  {
   "cell_type": "markdown",
   "id": "ed93530a",
   "metadata": {},
   "source": [
    "**The final model performed well above the baseline by 7% in terms of accuracy.**"
   ]
  },
  {
   "cell_type": "markdown",
   "id": "c1a19a11",
   "metadata": {},
   "source": [
    "## Recommendations"
   ]
  },
  {
   "cell_type": "markdown",
   "id": "7030b4ae",
   "metadata": {},
   "source": [
    "* Have appealing incentives for customers to sign a two-year contract.\n",
    "* Run a promotion to lower monthly charges for new customers.\n",
    "* Give discounts to senior citizens"
   ]
  },
  {
   "cell_type": "markdown",
   "id": "14228d48",
   "metadata": {},
   "source": [
    "## Next Steps"
   ]
  },
  {
   "cell_type": "markdown",
   "id": "8550784b",
   "metadata": {},
   "source": [
    "* Explore the statistical significance of other features in regards to churn.\n",
    "* Use bivariate data to explore if other factors are causing senior citizens to churn.\n",
    "* Use bivariate data to explore what other services  are utilized by customers with two-year contracts."
   ]
  },
  {
   "cell_type": "code",
   "execution_count": null,
   "id": "ca9e1afa",
   "metadata": {},
   "outputs": [],
   "source": []
  }
 ],
 "metadata": {
  "kernelspec": {
   "display_name": "Python 3 (ipykernel)",
   "language": "python",
   "name": "python3"
  },
  "language_info": {
   "codemirror_mode": {
    "name": "ipython",
    "version": 3
   },
   "file_extension": ".py",
   "mimetype": "text/x-python",
   "name": "python",
   "nbconvert_exporter": "python",
   "pygments_lexer": "ipython3",
   "version": "3.9.12"
  }
 },
 "nbformat": 4,
 "nbformat_minor": 5
}
