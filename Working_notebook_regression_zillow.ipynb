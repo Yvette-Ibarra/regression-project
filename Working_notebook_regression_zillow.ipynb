{
 "cells": [
  {
   "cell_type": "markdown",
   "id": "8eef34fd",
   "metadata": {},
   "source": [
    "# Working Notebook 1"
   ]
  },
  {
   "cell_type": "markdown",
   "id": "39e526d4",
   "metadata": {},
   "source": [
    "# Imports"
   ]
  },
  {
   "cell_type": "code",
   "execution_count": 225,
   "id": "f83c0be5",
   "metadata": {},
   "outputs": [],
   "source": [
    "import pandas as pd\n",
    "import numpy as np\n",
    "import seaborn as sns\n",
    "\n",
    "\n",
    "import matplotlib.pyplot as plt\n",
    "import scipy.stats as stats\n",
    "\n",
    "from sklearn.metrics import mean_squared_error\n",
    "from sklearn.preprocessing import QuantileTransformer, PolynomialFeatures\n",
    "from sklearn.feature_selection import SelectKBest, RFE, f_regression, SequentialFeatureSelector\n",
    "from sklearn.model_selection import train_test_split\n",
    "from sklearn.linear_model import LinearRegression,LassoLars, TweedieRegressor\n",
    "\n",
    "import env"
   ]
  },
  {
   "cell_type": "code",
   "execution_count": null,
   "id": "e7b53408",
   "metadata": {},
   "outputs": [],
   "source": []
  },
  {
   "cell_type": "markdown",
   "id": "4e848d21",
   "metadata": {},
   "source": [
    "# Acquire data"
   ]
  },
  {
   "cell_type": "code",
   "execution_count": 80,
   "id": "8478bb80",
   "metadata": {},
   "outputs": [],
   "source": [
    "def get_zillow_data():\n",
    "        ''' Acquire Zillow data using properties_2017 table from Code up Data Base. Columns bedroomcnt, \n",
    "            bathroomcnt, calculatedfinishedsquarefeet, taxvaluedollarcnt, yearbuilt, taxamount, fips \n",
    "        '''\n",
    "   \n",
    "         # sql query for acquisition\n",
    "        sql_query = \"\"\"\n",
    "        SELECT calculatedfinishedsquarefeet,bathroomcnt,bedroomcnt,taxvaluedollarcnt\n",
    "\n",
    "        FROM properties_2017\n",
    "        LEFT JOIN propertylandusetype USING(propertylandusetypeid)\n",
    "        LEFT JOIN predictions_2017 USING(parcelid)\n",
    "        WHERE (propertylandusetype.propertylandusedesc LIKE (\"%%Single%%\")) \n",
    "            AND (predictions_2017.transactiondate like \"2017%%\");\n",
    "        \"\"\"\n",
    "        # Acquisition\n",
    "        df = pd.read_sql(sql_query, env.get_connection('zillow'))\n",
    "        return df"
   ]
  },
  {
   "cell_type": "code",
   "execution_count": 78,
   "id": "fca5a627",
   "metadata": {},
   "outputs": [],
   "source": [
    "# had to adress % by using %% so it could be read by notebook"
   ]
  },
  {
   "cell_type": "code",
   "execution_count": 81,
   "id": "a1b972b8",
   "metadata": {},
   "outputs": [],
   "source": [
    "# import data\n",
    "df = get_zillow_data()"
   ]
  },
  {
   "cell_type": "code",
   "execution_count": 82,
   "id": "f290a0f9",
   "metadata": {},
   "outputs": [
    {
     "data": {
      "text/plain": [
       "(52441, 4)"
      ]
     },
     "execution_count": 82,
     "metadata": {},
     "output_type": "execute_result"
    }
   ],
   "source": [
    "# 52441 observations\n",
    "df.shape"
   ]
  },
  {
   "cell_type": "code",
   "execution_count": 83,
   "id": "03b6f820",
   "metadata": {
    "scrolled": true
   },
   "outputs": [
    {
     "name": "stdout",
     "output_type": "stream",
     "text": [
      "<class 'pandas.core.frame.DataFrame'>\n",
      "RangeIndex: 52441 entries, 0 to 52440\n",
      "Data columns (total 4 columns):\n",
      " #   Column                        Non-Null Count  Dtype  \n",
      "---  ------                        --------------  -----  \n",
      " 0   calculatedfinishedsquarefeet  52359 non-null  float64\n",
      " 1   bathroomcnt                   52441 non-null  float64\n",
      " 2   bedroomcnt                    52441 non-null  float64\n",
      " 3   taxvaluedollarcnt             52440 non-null  float64\n",
      "dtypes: float64(4)\n",
      "memory usage: 1.6 MB\n"
     ]
    }
   ],
   "source": [
    "# info\n",
    "df.info()"
   ]
  },
  {
   "cell_type": "markdown",
   "id": "7d46e4bf",
   "metadata": {},
   "source": [
    "<div class=\"alert alert-info\"> There seems to be nulls in calculatedfiniched square feet"
   ]
  },
  {
   "cell_type": "code",
   "execution_count": 84,
   "id": "c1a01a5e",
   "metadata": {
    "scrolled": true
   },
   "outputs": [
    {
     "data": {
      "text/plain": [
       "calculatedfinishedsquarefeet    82\n",
       "bathroomcnt                      0\n",
       "bedroomcnt                       0\n",
       "taxvaluedollarcnt                1\n",
       "dtype: int64"
      ]
     },
     "execution_count": 84,
     "metadata": {},
     "output_type": "execute_result"
    }
   ],
   "source": [
    "df.isnull().sum()"
   ]
  },
  {
   "cell_type": "markdown",
   "id": "dd104997",
   "metadata": {},
   "source": [
    "<div class=\"alert alert-info\"> There are 82 nulls in calculatedfinishedsquarefeet and one in taxvalluedollarcnt I could drop them or try to fill in with mean or median value."
   ]
  },
  {
   "cell_type": "code",
   "execution_count": 87,
   "id": "afd92148",
   "metadata": {
    "scrolled": true
   },
   "outputs": [
    {
     "data": {
      "text/html": [
       "<div>\n",
       "<style scoped>\n",
       "    .dataframe tbody tr th:only-of-type {\n",
       "        vertical-align: middle;\n",
       "    }\n",
       "\n",
       "    .dataframe tbody tr th {\n",
       "        vertical-align: top;\n",
       "    }\n",
       "\n",
       "    .dataframe thead th {\n",
       "        text-align: right;\n",
       "    }\n",
       "</style>\n",
       "<table border=\"1\" class=\"dataframe\">\n",
       "  <thead>\n",
       "    <tr style=\"text-align: right;\">\n",
       "      <th></th>\n",
       "      <th>count</th>\n",
       "      <th>mean</th>\n",
       "      <th>std</th>\n",
       "      <th>min</th>\n",
       "      <th>25%</th>\n",
       "      <th>50%</th>\n",
       "      <th>75%</th>\n",
       "      <th>max</th>\n",
       "    </tr>\n",
       "  </thead>\n",
       "  <tbody>\n",
       "    <tr>\n",
       "      <th>squarefeet</th>\n",
       "      <td>52359.0</td>\n",
       "      <td>1922.890754</td>\n",
       "      <td>1004.365838</td>\n",
       "      <td>128.0</td>\n",
       "      <td>1268.0</td>\n",
       "      <td>1659.0</td>\n",
       "      <td>2306.00</td>\n",
       "      <td>21929.0</td>\n",
       "    </tr>\n",
       "    <tr>\n",
       "      <th>bathrooms</th>\n",
       "      <td>52441.0</td>\n",
       "      <td>2.299403</td>\n",
       "      <td>1.022772</td>\n",
       "      <td>0.0</td>\n",
       "      <td>2.0</td>\n",
       "      <td>2.0</td>\n",
       "      <td>3.00</td>\n",
       "      <td>18.0</td>\n",
       "    </tr>\n",
       "    <tr>\n",
       "      <th>bedrooms</th>\n",
       "      <td>52441.0</td>\n",
       "      <td>3.300681</td>\n",
       "      <td>0.949094</td>\n",
       "      <td>0.0</td>\n",
       "      <td>3.0</td>\n",
       "      <td>3.0</td>\n",
       "      <td>4.00</td>\n",
       "      <td>14.0</td>\n",
       "    </tr>\n",
       "    <tr>\n",
       "      <th>tax_value</th>\n",
       "      <td>52440.0</td>\n",
       "      <td>529688.163921</td>\n",
       "      <td>751894.553363</td>\n",
       "      <td>1000.0</td>\n",
       "      <td>193747.5</td>\n",
       "      <td>373612.0</td>\n",
       "      <td>619301.25</td>\n",
       "      <td>49061236.0</td>\n",
       "    </tr>\n",
       "  </tbody>\n",
       "</table>\n",
       "</div>"
      ],
      "text/plain": [
       "              count           mean            std     min       25%       50%  \\\n",
       "squarefeet  52359.0    1922.890754    1004.365838   128.0    1268.0    1659.0   \n",
       "bathrooms   52441.0       2.299403       1.022772     0.0       2.0       2.0   \n",
       "bedrooms    52441.0       3.300681       0.949094     0.0       3.0       3.0   \n",
       "tax_value   52440.0  529688.163921  751894.553363  1000.0  193747.5  373612.0   \n",
       "\n",
       "                  75%         max  \n",
       "squarefeet    2306.00     21929.0  \n",
       "bathrooms        3.00        18.0  \n",
       "bedrooms         4.00        14.0  \n",
       "tax_value   619301.25  49061236.0  "
      ]
     },
     "execution_count": 87,
     "metadata": {},
     "output_type": "execute_result"
    }
   ],
   "source": [
    "df.describe().T"
   ]
  },
  {
   "cell_type": "markdown",
   "id": "c7055f17",
   "metadata": {},
   "source": [
    "<div class=\"alert alert-info\"> There seems to be bathrooms/ bedrooms with min of 0 and max above what ight be consider a single family dweling"
   ]
  },
  {
   "cell_type": "code",
   "execution_count": 88,
   "id": "46b4cd80",
   "metadata": {},
   "outputs": [],
   "source": [
    "# rename columns\n",
    "df = df.rename(columns={'bedroomcnt': 'bedrooms','bathroomcnt': 'bathrooms',\n",
    "            'calculatedfinishedsquarefeet': 'squarefeet','taxvaluedollarcnt': 'tax_value'})"
   ]
  },
  {
   "cell_type": "code",
   "execution_count": 89,
   "id": "143ca08a",
   "metadata": {},
   "outputs": [],
   "source": [
    "df = df.dropna()"
   ]
  },
  {
   "cell_type": "code",
   "execution_count": 90,
   "id": "8901fe38",
   "metadata": {
    "scrolled": false
   },
   "outputs": [],
   "source": [
    "df= df[~(df.bathrooms==0) & ~(df.bedrooms ==0)]"
   ]
  },
  {
   "cell_type": "code",
   "execution_count": 91,
   "id": "dacecafb",
   "metadata": {},
   "outputs": [],
   "source": [
    "def handle_outliers(df):\n",
    "    \"\"\"Manually handle outliers that do not represent properties likely for 99% of buyers and zillow visitors\"\"\"\n",
    "    df = df[df.bathrooms <= 5.5]\n",
    "    \n",
    "    df = df[df.bedrooms<= 6]\n",
    "    \n",
    "    return df\n"
   ]
  },
  {
   "cell_type": "code",
   "execution_count": 92,
   "id": "042eb273",
   "metadata": {
    "scrolled": false
   },
   "outputs": [
    {
     "data": {
      "text/html": [
       "<div>\n",
       "<style scoped>\n",
       "    .dataframe tbody tr th:only-of-type {\n",
       "        vertical-align: middle;\n",
       "    }\n",
       "\n",
       "    .dataframe tbody tr th {\n",
       "        vertical-align: top;\n",
       "    }\n",
       "\n",
       "    .dataframe thead th {\n",
       "        text-align: right;\n",
       "    }\n",
       "</style>\n",
       "<table border=\"1\" class=\"dataframe\">\n",
       "  <thead>\n",
       "    <tr style=\"text-align: right;\">\n",
       "      <th></th>\n",
       "      <th>squarefeet</th>\n",
       "      <th>bathrooms</th>\n",
       "      <th>bedrooms</th>\n",
       "      <th>tax_value</th>\n",
       "    </tr>\n",
       "  </thead>\n",
       "  <tbody>\n",
       "    <tr>\n",
       "      <th>0</th>\n",
       "      <td>1788.0</td>\n",
       "      <td>2.0</td>\n",
       "      <td>4.0</td>\n",
       "      <td>112973.0</td>\n",
       "    </tr>\n",
       "    <tr>\n",
       "      <th>1</th>\n",
       "      <td>3054.0</td>\n",
       "      <td>5.0</td>\n",
       "      <td>6.0</td>\n",
       "      <td>416251.0</td>\n",
       "    </tr>\n",
       "    <tr>\n",
       "      <th>2</th>\n",
       "      <td>1214.0</td>\n",
       "      <td>2.0</td>\n",
       "      <td>3.0</td>\n",
       "      <td>1827450.0</td>\n",
       "    </tr>\n",
       "    <tr>\n",
       "      <th>3</th>\n",
       "      <td>1926.0</td>\n",
       "      <td>2.0</td>\n",
       "      <td>3.0</td>\n",
       "      <td>239251.0</td>\n",
       "    </tr>\n",
       "    <tr>\n",
       "      <th>4</th>\n",
       "      <td>2448.0</td>\n",
       "      <td>2.0</td>\n",
       "      <td>4.0</td>\n",
       "      <td>480382.0</td>\n",
       "    </tr>\n",
       "    <tr>\n",
       "      <th>...</th>\n",
       "      <td>...</td>\n",
       "      <td>...</td>\n",
       "      <td>...</td>\n",
       "      <td>...</td>\n",
       "    </tr>\n",
       "    <tr>\n",
       "      <th>52436</th>\n",
       "      <td>1193.0</td>\n",
       "      <td>1.0</td>\n",
       "      <td>3.0</td>\n",
       "      <td>87686.0</td>\n",
       "    </tr>\n",
       "    <tr>\n",
       "      <th>52437</th>\n",
       "      <td>1719.0</td>\n",
       "      <td>2.5</td>\n",
       "      <td>3.0</td>\n",
       "      <td>464276.0</td>\n",
       "    </tr>\n",
       "    <tr>\n",
       "      <th>52438</th>\n",
       "      <td>1466.0</td>\n",
       "      <td>1.0</td>\n",
       "      <td>2.0</td>\n",
       "      <td>81167.0</td>\n",
       "    </tr>\n",
       "    <tr>\n",
       "      <th>52439</th>\n",
       "      <td>726.0</td>\n",
       "      <td>1.0</td>\n",
       "      <td>2.0</td>\n",
       "      <td>137268.0</td>\n",
       "    </tr>\n",
       "    <tr>\n",
       "      <th>52440</th>\n",
       "      <td>1188.0</td>\n",
       "      <td>1.0</td>\n",
       "      <td>3.0</td>\n",
       "      <td>264217.0</td>\n",
       "    </tr>\n",
       "  </tbody>\n",
       "</table>\n",
       "<p>51648 rows × 4 columns</p>\n",
       "</div>"
      ],
      "text/plain": [
       "       squarefeet  bathrooms  bedrooms  tax_value\n",
       "0          1788.0        2.0       4.0   112973.0\n",
       "1          3054.0        5.0       6.0   416251.0\n",
       "2          1214.0        2.0       3.0  1827450.0\n",
       "3          1926.0        2.0       3.0   239251.0\n",
       "4          2448.0        2.0       4.0   480382.0\n",
       "...           ...        ...       ...        ...\n",
       "52436      1193.0        1.0       3.0    87686.0\n",
       "52437      1719.0        2.5       3.0   464276.0\n",
       "52438      1466.0        1.0       2.0    81167.0\n",
       "52439       726.0        1.0       2.0   137268.0\n",
       "52440      1188.0        1.0       3.0   264217.0\n",
       "\n",
       "[51648 rows x 4 columns]"
      ]
     },
     "execution_count": 92,
     "metadata": {},
     "output_type": "execute_result"
    }
   ],
   "source": [
    "df = handle_outliers(df)\n",
    "df"
   ]
  },
  {
   "cell_type": "markdown",
   "id": "70b349db",
   "metadata": {},
   "source": [
    "# split data for exploration"
   ]
  },
  {
   "cell_type": "code",
   "execution_count": 93,
   "id": "b7de6615",
   "metadata": {},
   "outputs": [],
   "source": [
    "def split_data(df):\n",
    "    '''\n",
    "    split_data takes in data Frame and splits into  train , validate, test.\n",
    "    The split is 20% test 80% train/validate. Then 30% of 80% validate and 70% of 80% train.\n",
    "    Aproximately (train 56%, validate 24%, test 20%)\n",
    "    Returns train, validate, and test \n",
    "    '''\n",
    "    # split test data from train/validate\n",
    "    train_and_validate, test = train_test_split(df, random_state=123, test_size=.2)\n",
    "\n",
    "    # split train from validate\n",
    "    train, validate = train_test_split(train_and_validate, random_state=123, test_size=.3)\n",
    "                                   \n",
    "    return train, validate, test"
   ]
  },
  {
   "cell_type": "code",
   "execution_count": 94,
   "id": "279a1e87",
   "metadata": {},
   "outputs": [],
   "source": [
    "train, validate, test = split_data(df)"
   ]
  },
  {
   "cell_type": "code",
   "execution_count": 95,
   "id": "00e21f74",
   "metadata": {},
   "outputs": [
    {
     "name": "stdout",
     "output_type": "stream",
     "text": [
      "<class 'pandas.core.frame.DataFrame'>\n",
      "Int64Index: 28922 entries, 6813 to 1606\n",
      "Data columns (total 4 columns):\n",
      " #   Column      Non-Null Count  Dtype  \n",
      "---  ------      --------------  -----  \n",
      " 0   squarefeet  28922 non-null  float64\n",
      " 1   bathrooms   28922 non-null  float64\n",
      " 2   bedrooms    28922 non-null  float64\n",
      " 3   tax_value   28922 non-null  float64\n",
      "dtypes: float64(4)\n",
      "memory usage: 1.1 MB\n"
     ]
    }
   ],
   "source": [
    "train.info()"
   ]
  },
  {
   "cell_type": "code",
   "execution_count": 96,
   "id": "6eb0dc5b",
   "metadata": {},
   "outputs": [
    {
     "data": {
      "text/html": [
       "<div>\n",
       "<style scoped>\n",
       "    .dataframe tbody tr th:only-of-type {\n",
       "        vertical-align: middle;\n",
       "    }\n",
       "\n",
       "    .dataframe tbody tr th {\n",
       "        vertical-align: top;\n",
       "    }\n",
       "\n",
       "    .dataframe thead th {\n",
       "        text-align: right;\n",
       "    }\n",
       "</style>\n",
       "<table border=\"1\" class=\"dataframe\">\n",
       "  <thead>\n",
       "    <tr style=\"text-align: right;\">\n",
       "      <th></th>\n",
       "      <th>count</th>\n",
       "      <th>mean</th>\n",
       "      <th>std</th>\n",
       "      <th>min</th>\n",
       "      <th>25%</th>\n",
       "      <th>50%</th>\n",
       "      <th>75%</th>\n",
       "      <th>max</th>\n",
       "    </tr>\n",
       "  </thead>\n",
       "  <tbody>\n",
       "    <tr>\n",
       "      <th>squarefeet</th>\n",
       "      <td>28922.0</td>\n",
       "      <td>1874.470265</td>\n",
       "      <td>864.287137</td>\n",
       "      <td>152.0</td>\n",
       "      <td>1260.0</td>\n",
       "      <td>1647.0</td>\n",
       "      <td>2283.75</td>\n",
       "      <td>8305.0</td>\n",
       "    </tr>\n",
       "    <tr>\n",
       "      <th>bathrooms</th>\n",
       "      <td>28922.0</td>\n",
       "      <td>2.256085</td>\n",
       "      <td>0.912468</td>\n",
       "      <td>1.0</td>\n",
       "      <td>2.0</td>\n",
       "      <td>2.0</td>\n",
       "      <td>3.00</td>\n",
       "      <td>5.5</td>\n",
       "    </tr>\n",
       "    <tr>\n",
       "      <th>bedrooms</th>\n",
       "      <td>28922.0</td>\n",
       "      <td>3.280548</td>\n",
       "      <td>0.894095</td>\n",
       "      <td>1.0</td>\n",
       "      <td>3.0</td>\n",
       "      <td>3.0</td>\n",
       "      <td>4.00</td>\n",
       "      <td>6.0</td>\n",
       "    </tr>\n",
       "    <tr>\n",
       "      <th>tax_value</th>\n",
       "      <td>28922.0</td>\n",
       "      <td>497602.206625</td>\n",
       "      <td>563179.499456</td>\n",
       "      <td>3254.0</td>\n",
       "      <td>192165.5</td>\n",
       "      <td>369853.5</td>\n",
       "      <td>607845.25</td>\n",
       "      <td>15618488.0</td>\n",
       "    </tr>\n",
       "  </tbody>\n",
       "</table>\n",
       "</div>"
      ],
      "text/plain": [
       "              count           mean            std     min       25%       50%  \\\n",
       "squarefeet  28922.0    1874.470265     864.287137   152.0    1260.0    1647.0   \n",
       "bathrooms   28922.0       2.256085       0.912468     1.0       2.0       2.0   \n",
       "bedrooms    28922.0       3.280548       0.894095     1.0       3.0       3.0   \n",
       "tax_value   28922.0  497602.206625  563179.499456  3254.0  192165.5  369853.5   \n",
       "\n",
       "                  75%         max  \n",
       "squarefeet    2283.75      8305.0  \n",
       "bathrooms        3.00         5.5  \n",
       "bedrooms         4.00         6.0  \n",
       "tax_value   607845.25  15618488.0  "
      ]
     },
     "execution_count": 96,
     "metadata": {},
     "output_type": "execute_result"
    }
   ],
   "source": [
    "train.describe().T"
   ]
  },
  {
   "cell_type": "code",
   "execution_count": 97,
   "id": "5534dcd5",
   "metadata": {},
   "outputs": [
    {
     "data": {
      "text/html": [
       "<div>\n",
       "<style scoped>\n",
       "    .dataframe tbody tr th:only-of-type {\n",
       "        vertical-align: middle;\n",
       "    }\n",
       "\n",
       "    .dataframe tbody tr th {\n",
       "        vertical-align: top;\n",
       "    }\n",
       "\n",
       "    .dataframe thead th {\n",
       "        text-align: right;\n",
       "    }\n",
       "</style>\n",
       "<table border=\"1\" class=\"dataframe\">\n",
       "  <thead>\n",
       "    <tr style=\"text-align: right;\">\n",
       "      <th></th>\n",
       "      <th>squarefeet</th>\n",
       "      <th>bathrooms</th>\n",
       "      <th>bedrooms</th>\n",
       "      <th>tax_value</th>\n",
       "    </tr>\n",
       "  </thead>\n",
       "  <tbody>\n",
       "    <tr>\n",
       "      <th>6813</th>\n",
       "      <td>1618.0</td>\n",
       "      <td>2.0</td>\n",
       "      <td>2.0</td>\n",
       "      <td>412018.0</td>\n",
       "    </tr>\n",
       "    <tr>\n",
       "      <th>41016</th>\n",
       "      <td>1236.0</td>\n",
       "      <td>2.0</td>\n",
       "      <td>4.0</td>\n",
       "      <td>434923.0</td>\n",
       "    </tr>\n",
       "    <tr>\n",
       "      <th>50907</th>\n",
       "      <td>1866.0</td>\n",
       "      <td>2.5</td>\n",
       "      <td>4.0</td>\n",
       "      <td>307895.0</td>\n",
       "    </tr>\n",
       "    <tr>\n",
       "      <th>34211</th>\n",
       "      <td>624.0</td>\n",
       "      <td>1.0</td>\n",
       "      <td>1.0</td>\n",
       "      <td>225000.0</td>\n",
       "    </tr>\n",
       "    <tr>\n",
       "      <th>16927</th>\n",
       "      <td>1143.0</td>\n",
       "      <td>2.0</td>\n",
       "      <td>3.0</td>\n",
       "      <td>56691.0</td>\n",
       "    </tr>\n",
       "  </tbody>\n",
       "</table>\n",
       "</div>"
      ],
      "text/plain": [
       "       squarefeet  bathrooms  bedrooms  tax_value\n",
       "6813       1618.0        2.0       2.0   412018.0\n",
       "41016      1236.0        2.0       4.0   434923.0\n",
       "50907      1866.0        2.5       4.0   307895.0\n",
       "34211       624.0        1.0       1.0   225000.0\n",
       "16927      1143.0        2.0       3.0    56691.0"
      ]
     },
     "execution_count": 97,
     "metadata": {},
     "output_type": "execute_result"
    }
   ],
   "source": [
    "train.head()"
   ]
  },
  {
   "cell_type": "code",
   "execution_count": 98,
   "id": "0845873c",
   "metadata": {},
   "outputs": [
    {
     "data": {
      "text/plain": [
       "<seaborn.axisgrid.PairGrid at 0x13d994d00>"
      ]
     },
     "execution_count": 98,
     "metadata": {},
     "output_type": "execute_result"
    },
    {
     "data": {
      "image/png": "[encoded data removed]",
      "text/plain": [
       "<Figure size 720x720 with 20 Axes>"
      ]
     },
     "metadata": {
      "needs_background": "light"
     },
     "output_type": "display_data"
    }
   ],
   "source": [
    "sns.pairplot(train)"
   ]
  },
  {
   "cell_type": "code",
   "execution_count": 99,
   "id": "62be57c1",
   "metadata": {},
   "outputs": [
    {
     "data": {
      "text/html": [
       "<div>\n",
       "<style scoped>\n",
       "    .dataframe tbody tr th:only-of-type {\n",
       "        vertical-align: middle;\n",
       "    }\n",
       "\n",
       "    .dataframe tbody tr th {\n",
       "        vertical-align: top;\n",
       "    }\n",
       "\n",
       "    .dataframe thead th {\n",
       "        text-align: right;\n",
       "    }\n",
       "</style>\n",
       "<table border=\"1\" class=\"dataframe\">\n",
       "  <thead>\n",
       "    <tr style=\"text-align: right;\">\n",
       "      <th></th>\n",
       "      <th>squarefeet</th>\n",
       "      <th>bathrooms</th>\n",
       "      <th>bedrooms</th>\n",
       "      <th>tax_value</th>\n",
       "    </tr>\n",
       "  </thead>\n",
       "  <tbody>\n",
       "    <tr>\n",
       "      <th>squarefeet</th>\n",
       "      <td>1.000000</td>\n",
       "      <td>0.833684</td>\n",
       "      <td>0.662777</td>\n",
       "      <td>0.515967</td>\n",
       "    </tr>\n",
       "    <tr>\n",
       "      <th>bathrooms</th>\n",
       "      <td>0.833684</td>\n",
       "      <td>1.000000</td>\n",
       "      <td>0.626727</td>\n",
       "      <td>0.478538</td>\n",
       "    </tr>\n",
       "    <tr>\n",
       "      <th>bedrooms</th>\n",
       "      <td>0.662777</td>\n",
       "      <td>0.626727</td>\n",
       "      <td>1.000000</td>\n",
       "      <td>0.284940</td>\n",
       "    </tr>\n",
       "    <tr>\n",
       "      <th>tax_value</th>\n",
       "      <td>0.515967</td>\n",
       "      <td>0.478538</td>\n",
       "      <td>0.284940</td>\n",
       "      <td>1.000000</td>\n",
       "    </tr>\n",
       "  </tbody>\n",
       "</table>\n",
       "</div>"
      ],
      "text/plain": [
       "            squarefeet  bathrooms  bedrooms  tax_value\n",
       "squarefeet    1.000000   0.833684  0.662777   0.515967\n",
       "bathrooms     0.833684   1.000000  0.626727   0.478538\n",
       "bedrooms      0.662777   0.626727  1.000000   0.284940\n",
       "tax_value     0.515967   0.478538  0.284940   1.000000"
      ]
     },
     "execution_count": 99,
     "metadata": {},
     "output_type": "execute_result"
    }
   ],
   "source": [
    "# correaltion between variables\n",
    "zillow_corr = train.corr(method='spearman')\n",
    "zillow_corr"
   ]
  },
  {
   "cell_type": "code",
   "execution_count": 100,
   "id": "acf25451",
   "metadata": {},
   "outputs": [
    {
     "data": {
      "text/plain": [
       "<AxesSubplot:>"
      ]
     },
     "execution_count": 100,
     "metadata": {},
     "output_type": "execute_result"
    },
    {
     "data": {
      "image/png": "[encoded data removed]",
      "text/plain": [
       "<Figure size 432x288 with 2 Axes>"
      ]
     },
     "metadata": {
      "needs_background": "light"
     },
     "output_type": "display_data"
    }
   ],
   "source": [
    "# pass my correlation matrix to Seaborn's heatmap \n",
    "kwargs = {'alpha':.9,\n",
    "          'linewidth':3, \n",
    "          'linestyle':'-',\n",
    "          'linecolor':'black'}\n",
    "sns.heatmap(zillow_corr, cmap='Purples', annot=True, \n",
    "            mask=np.triu(zillow_corr), **kwargs)"
   ]
  },
  {
   "cell_type": "code",
   "execution_count": 101,
   "id": "5d00b37e",
   "metadata": {},
   "outputs": [],
   "source": [
    "def plot_variable_pair(df):\n",
    "    columns = ['bedrooms',\n",
    " 'bathrooms',\n",
    " 'squarefeet']\n",
    "    for i, col in enumerate(columns):\n",
    "        sns.lmplot(data=df, x=col, y='tax_value', line_kws={'color':'red'})\n",
    "        plt.show()"
   ]
  },
  {
   "cell_type": "code",
   "execution_count": 102,
   "id": "0b2d78c3",
   "metadata": {},
   "outputs": [
    {
     "data": {
      "image/png": "[encoded data removed]",
      "text/plain": [
       "<Figure size 360x360 with 1 Axes>"
      ]
     },
     "metadata": {
      "needs_background": "light"
     },
     "output_type": "display_data"
    },
    {
     "data": {
      "image/png": "[encoded data removed]",
      "text/plain": [
       "<Figure size 360x360 with 1 Axes>"
      ]
     },
     "metadata": {
      "needs_background": "light"
     },
     "output_type": "display_data"
    },
    {
     "data": {
      "image/png": "[encoded data removed]",
      "text/plain": [
       "<Figure size 360x360 with 1 Axes>"
      ]
     },
     "metadata": {
      "needs_background": "light"
     },
     "output_type": "display_data"
    }
   ],
   "source": [
    "plot_variable_pair(train)"
   ]
  },
  {
   "cell_type": "code",
   "execution_count": 103,
   "id": "032a3de8",
   "metadata": {},
   "outputs": [],
   "source": [
    "def plot_categorical_and_continuous_vars(df, cat_vars, cont_vars):\n",
    "    for col in cat_vars:\n",
    "        for col2 in cont_vars:\n",
    "            fig, (ax1, ax2, ax3) = plt.subplots(1,3, figsize=(16,6))\n",
    "            fig.suptitle(f'{col} vs. {col2}')\n",
    "            sns.boxplot(data=df, x=col, y=col2, ax=ax1)\n",
    "            sns.violinplot(data=df, x=col, y=col2, ax=ax2)\n",
    "            sns.barplot(data=df, x=col, y=col2, ax=ax3)\n",
    "            plt.show()"
   ]
  },
  {
   "cell_type": "code",
   "execution_count": 121,
   "id": "1280acf1",
   "metadata": {},
   "outputs": [],
   "source": [
    "# set categories\n",
    "cat_vars =['bathrooms','bedrooms']\n",
    "cont_vars =['tax_value','squarefeet']"
   ]
  },
  {
   "cell_type": "code",
   "execution_count": 122,
   "id": "a2c550ed",
   "metadata": {},
   "outputs": [
    {
     "data": {
      "image/png": "[encoded data removed]",
      "text/plain": [
       "<Figure size 1152x432 with 3 Axes>"
      ]
     },
     "metadata": {
      "needs_background": "light"
     },
     "output_type": "display_data"
    },
    {
     "data": {
      "image/png": "[encoded data removed]",
      "text/plain": [
       "<Figure size 1152x432 with 3 Axes>"
      ]
     },
     "metadata": {
      "needs_background": "light"
     },
     "output_type": "display_data"
    },
    {
     "data": {
      "image/png": "[encoded data removed]",
      "text/plain": [
       "<Figure size 1152x432 with 3 Axes>"
      ]
     },
     "metadata": {
      "needs_background": "light"
     },
     "output_type": "display_data"
    },
    {
     "data": {
      "image/png": "[encoded data removed]",
      "text/plain": [
       "<Figure size 1152x432 with 3 Axes>"
      ]
     },
     "metadata": {
      "needs_background": "light"
     },
     "output_type": "display_data"
    }
   ],
   "source": [
    "plot_categorical_and_continuous_vars(train, cat_vars, cont_vars)"
   ]
  },
  {
   "cell_type": "code",
   "execution_count": 123,
   "id": "91b8d6c5",
   "metadata": {},
   "outputs": [],
   "source": [
    "def show_cat_vs_cont(df, cat_vars=cat_vars, cont_vars=cont_vars):\n",
    "    print('Categorical vs Continuous Variables:')\n",
    "    #number = 1\n",
    "    palettes = ['flare', 'Blues_r', 'PuRd_r', 'Accent']\n",
    "    for j, cont in enumerate(cont_vars):\n",
    "        plt.figure(figsize=(20,4))\n",
    "        plt.suptitle(cont)\n",
    "        for i, cat in enumerate(cat_vars):\n",
    "            plt.subplot(1, 4, i+1)\n",
    "            sns.barplot(data=df, x=cat, y=cont, palette=palettes[j])\n",
    "            plt.title(cat + ' vs ' + cont)\n",
    "        plt.show()"
   ]
  },
  {
   "cell_type": "code",
   "execution_count": 124,
   "id": "ca03f754",
   "metadata": {},
   "outputs": [
    {
     "name": "stdout",
     "output_type": "stream",
     "text": [
      "Categorical vs Continuous Variables:\n"
     ]
    },
    {
     "data": {
      "image/png": "[encoded data removed]",
      "text/plain": [
       "<Figure size 1440x288 with 2 Axes>"
      ]
     },
     "metadata": {
      "needs_background": "light"
     },
     "output_type": "display_data"
    },
    {
     "data": {
      "image/png": "[encoded data removed]",
      "text/plain": [
       "<Figure size 1440x288 with 2 Axes>"
      ]
     },
     "metadata": {
      "needs_background": "light"
     },
     "output_type": "display_data"
    }
   ],
   "source": [
    "show_cat_vs_cont(train, cat_vars,cont_vars)"
   ]
  },
  {
   "cell_type": "code",
   "execution_count": 125,
   "id": "c67dafff",
   "metadata": {
    "scrolled": false
   },
   "outputs": [
    {
     "data": {
      "image/png": "[encoded data removed]",
      "text/plain": [
       "<Figure size 576x864 with 2 Axes>"
      ]
     },
     "metadata": {
      "needs_background": "light"
     },
     "output_type": "display_data"
    }
   ],
   "source": [
    "plt.figure(figsize=(8, 12))\n",
    "heatmap = sns.heatmap(train.corr(method='spearman')[['tax_value']].sort_values(by='tax_value', ascending=False), vmin=-1, vmax=1, annot=True, cmap='Purples')\n",
    "heatmap.set_title('Features Correlating with Home Price', fontdict={'fontsize':18}, pad=16);"
   ]
  },
  {
   "cell_type": "code",
   "execution_count": 134,
   "id": "a0592ae6",
   "metadata": {
    "scrolled": true
   },
   "outputs": [
    {
     "data": {
      "text/plain": [
       "<AxesSubplot:xlabel='bathrooms', ylabel='count'>"
      ]
     },
     "execution_count": 134,
     "metadata": {},
     "output_type": "execute_result"
    },
    {
     "data": {
      "image/png": "[encoded data removed]",
      "text/plain": [
       "<Figure size 432x288 with 1 Axes>"
      ]
     },
     "metadata": {
      "needs_background": "light"
     },
     "output_type": "display_data"
    }
   ],
   "source": [
    "sns.countplot(x='bathrooms', data=train)"
   ]
  },
  {
   "cell_type": "code",
   "execution_count": 135,
   "id": "6f7d0725",
   "metadata": {},
   "outputs": [
    {
     "data": {
      "text/plain": [
       "<AxesSubplot:xlabel='bedrooms', ylabel='count'>"
      ]
     },
     "execution_count": 135,
     "metadata": {},
     "output_type": "execute_result"
    },
    {
     "data": {
      "image/png": "[encoded data removed]",
      "text/plain": [
       "<Figure size 432x288 with 1 Axes>"
      ]
     },
     "metadata": {
      "needs_background": "light"
     },
     "output_type": "display_data"
    }
   ],
   "source": [
    "sns.countplot(x='bedrooms', data=train)"
   ]
  },
  {
   "cell_type": "code",
   "execution_count": null,
   "id": "7c9ddc04",
   "metadata": {},
   "outputs": [],
   "source": []
  },
  {
   "cell_type": "code",
   "execution_count": null,
   "id": "4fe0672d",
   "metadata": {},
   "outputs": [],
   "source": []
  },
  {
   "cell_type": "markdown",
   "id": "dd3e82c9",
   "metadata": {},
   "source": [
    "# Stats"
   ]
  },
  {
   "cell_type": "code",
   "execution_count": 126,
   "id": "3e113779",
   "metadata": {},
   "outputs": [],
   "source": [
    "above_mean_bathrooms = train.bathrooms[train.bathrooms > train.bathrooms.mean()]\n",
    "overall_mean = train.bathrooms.mean()"
   ]
  },
  {
   "cell_type": "code",
   "execution_count": 127,
   "id": "9bd57ec4",
   "metadata": {
    "scrolled": true
   },
   "outputs": [
    {
     "name": "stdout",
     "output_type": "stream",
     "text": [
      "147.09547864648172 0.0\n"
     ]
    }
   ],
   "source": [
    "alpha=0.05\n",
    "t, p = stats.ttest_1samp(above_mean_bathrooms, overall_mean)\n",
    "\n",
    "print(t, p/2)"
   ]
  },
  {
   "cell_type": "code",
   "execution_count": 132,
   "id": "1e838b57",
   "metadata": {},
   "outputs": [
    {
     "name": "stdout",
     "output_type": "stream",
     "text": [
      "_____________________________________________________\n",
      "HYPOTHESIS\n",
      "H0: There is no significant difference between tax_value in different tax_value\n",
      "Ha:(There is a significant difference between tax_value in different tax_value\n",
      "tax_value correlation 0.9999999999999973, p-val0.0\n",
      "We reject the null hypothesis.\n",
      "There is a correlation between tax_value and tax_value\n",
      "_____________________________________________________\n",
      "HYPOTHESIS\n",
      "H0: There is no significant difference between tax_value in different squarefeet\n",
      "Ha:(There is a significant difference between tax_value in different squarefeet\n",
      "squarefeet correlation 0.5543698771789676, p-val0.0\n",
      "We reject the null hypothesis.\n",
      "There is a correlation between tax_value and squarefeet\n"
     ]
    }
   ],
   "source": [
    "# pearsonr r for continuous variables\n",
    "for i in cont_vars:\n",
    "    α =0.05\n",
    "    corr, p = stats.pearsonr(train[i], train.tax_value)\n",
    "    print('_____________________________________________________')\n",
    "    print('HYPOTHESIS')\n",
    "    print(f'H0: There is no significant difference between tax_value in different {i}')\n",
    "    print(f'Ha:(There is a significant difference between tax_value in different {i}')\n",
    "    print(f'{i} correlation {corr}, p-val{p}')\n",
    "    if p < α:\n",
    "        print('We reject the null hypothesis.')\n",
    "        print(f'There is a correlation between tax_value and {i}')\n",
    "    else:\n",
    "        print('We fail to reject the null hypothesis.')\n",
    "        print(f'There is no correlation between tax_value and {i}')"
   ]
  },
  {
   "cell_type": "code",
   "execution_count": 133,
   "id": "0278ee09",
   "metadata": {
    "scrolled": true
   },
   "outputs": [
    {
     "name": "stdout",
     "output_type": "stream",
     "text": [
      "_____________________________________________________\n",
      "HYPOTHESIS\n",
      "H0: There is no significant difference between tax_value in different bathrooms\n",
      "Ha:(There is a significant difference between tax_value in different bathrooms\n",
      "bathrooms correlation 0.4755068971071995, p-val0.0\n",
      "We reject the null hypothesis.\n",
      "There is a correlation between tax_value and bathrooms\n",
      "_____________________________________________________\n",
      "HYPOTHESIS\n",
      "H0: There is no significant difference between tax_value in different bedrooms\n",
      "Ha:(There is a significant difference between tax_value in different bedrooms\n",
      "bedrooms correlation 0.2392011790565752, p-val0.0\n",
      "We reject the null hypothesis.\n",
      "There is a correlation between tax_value and bedrooms\n"
     ]
    }
   ],
   "source": [
    "for i in cat_vars:\n",
    "    α =0.05\n",
    "    corr, p = stats.pearsonr(train[i], train.tax_value)\n",
    "    print('_____________________________________________________')\n",
    "    print('HYPOTHESIS')\n",
    "    print(f'H0: There is no significant difference between tax_value in different {i}')\n",
    "    print(f'Ha:(There is a significant difference between tax_value in different {i}')\n",
    "    print(f'{i} correlation {corr}, p-val{p}')\n",
    "    if p < α:\n",
    "        print('We reject the null hypothesis.')\n",
    "        print(f'There is a correlation between tax_value and {i}')\n",
    "    else:\n",
    "        print('We fail to reject the null hypothesis.')\n",
    "        print(f'There is no correlation between tax_value and {i}')"
   ]
  },
  {
   "cell_type": "markdown",
   "id": "f4fbd858",
   "metadata": {},
   "source": [
    "# Model"
   ]
  },
  {
   "cell_type": "markdown",
   "id": "a17cb977",
   "metadata": {},
   "source": [
    "### Scale Data"
   ]
  },
  {
   "cell_type": "code",
   "execution_count": 237,
   "id": "379982a6",
   "metadata": {},
   "outputs": [],
   "source": [
    "def scale_data(train, \n",
    "               validate, \n",
    "               test, \n",
    "               columns_to_scale=['bedrooms', 'bathrooms', 'squarefeet']):\n",
    "    '''\n",
    "    scale_data takes in train , validate, test data  and returns their scaled counterparts.\n",
    "    '''\n",
    "    # create copies of our original data\n",
    "    train_scaled = train.copy()\n",
    "    validate_scaled = validate.copy()\n",
    "    test_scaled = test.copy()\n",
    "    #create the scaler\n",
    "    scaler = QuantileTransformer(output_distribution='normal')\n",
    "    # fit the scaler into train data\n",
    "    scaler.fit(train[columns_to_scale])\n",
    "    \n",
    "    # applying the scaler to train, validate, and test data\n",
    "    train_scaled[columns_to_scale] = pd.DataFrame(scaler.transform(train[columns_to_scale]),\n",
    "                                                  columns=train[columns_to_scale].columns.values).set_index([train.index.values])\n",
    "                                                  \n",
    "    validate_scaled[columns_to_scale] = pd.DataFrame(scaler.transform(validate[columns_to_scale]),\n",
    "                                                  columns=validate[columns_to_scale].columns.values).set_index([validate.index.values])\n",
    "    \n",
    "    test_scaled[columns_to_scale] = pd.DataFrame(scaler.transform(test[columns_to_scale]),\n",
    "                                                 columns=test[columns_to_scale].columns.values).set_index([test.index.values])\n",
    "    \n",
    "    return train_scaled, validate_scaled, test_scaled"
   ]
  },
  {
   "cell_type": "code",
   "execution_count": 238,
   "id": "33c80f1e",
   "metadata": {
    "scrolled": true
   },
   "outputs": [],
   "source": [
    "X_train_scaled, X_validate_scaled, X_test_scaled = scale_data(train,validate,test)"
   ]
  },
  {
   "cell_type": "code",
   "execution_count": 239,
   "id": "b6bdb171",
   "metadata": {},
   "outputs": [],
   "source": [
    "\n",
    "# Setup X and y\n",
    "X_train_scaled = X_train_scaled.drop(columns='tax_value')\n",
    "y_train = train.tax_value\n",
    "\n",
    "X_validate_scaled = X_validate_scaled.drop(columns='tax_value')\n",
    "y_validate = validate.tax_value\n",
    "\n",
    "X_test_scaled = X_test_scaled.drop(columns='tax_value')\n",
    "y_test = test.tax_value"
   ]
  },
  {
   "cell_type": "code",
   "execution_count": 240,
   "id": "225b2eb8",
   "metadata": {},
   "outputs": [],
   "source": [
    "# Turn everything into a dataframe\n",
    "X_train_scaled = pd.DataFrame(X_train_scaled, columns=X_train.columns)\n",
    "X_validate_scaled = pd.DataFrame(X_validate_scaled, columns=X_train.columns)\n",
    "X_test_scaled = pd.DataFrame(X_test_scaled, columns=X_train.columns)"
   ]
  },
  {
   "cell_type": "code",
   "execution_count": null,
   "id": "2c843db6",
   "metadata": {},
   "outputs": [],
   "source": []
  },
  {
   "cell_type": "markdown",
   "id": "d623dd94",
   "metadata": {},
   "source": [
    "### Select Features for model"
   ]
  },
  {
   "cell_type": "code",
   "execution_count": 241,
   "id": "e0f5ac29",
   "metadata": {},
   "outputs": [],
   "source": [
    "def select_Kbest(X, y, k=2):   \n",
    "    '''\n",
    "    select_Kbest takes in :\n",
    "    X: a dataframe representing numerical independent features\n",
    "    y: a pandas Series representing a target variable\n",
    "    k: a keyword argument defaulted to 2 for the number of features\n",
    "    \n",
    "    returns: a list of the selected features using SelectBest \n",
    "    '''\n",
    "    # model\n",
    "    kbest = SelectKBest(f_regression, k=k)\n",
    "    # fit\n",
    "    kbest.fit(X, y)\n",
    "    # mask of selection\n",
    "    feature_mask = kbest.get_support()\n",
    "    rank = X.columns[feature_mask]\n",
    "    \n",
    "    # convert to list\n",
    "    rank = rank.to_list()\n",
    "\n",
    "\n",
    "    return f'TOP {k} features: {rank}'"
   ]
  },
  {
   "cell_type": "code",
   "execution_count": 242,
   "id": "b137e607",
   "metadata": {},
   "outputs": [
    {
     "data": {
      "text/plain": [
       "\"TOP 2 features: ['squarefeet', 'bathrooms']\""
      ]
     },
     "execution_count": 242,
     "metadata": {},
     "output_type": "execute_result"
    }
   ],
   "source": [
    "select_Kbest(X_train_scaled,y_train, k=2)"
   ]
  },
  {
   "cell_type": "markdown",
   "id": "8f837506",
   "metadata": {},
   "source": [
    "### Simple model"
   ]
  },
  {
   "cell_type": "code",
   "execution_count": 243,
   "id": "ab6a86a4",
   "metadata": {},
   "outputs": [],
   "source": [
    "predictions = pd.DataFrame({\n",
    "    'actual': validate.tax_value\n",
    "}) "
   ]
  },
  {
   "cell_type": "code",
   "execution_count": 244,
   "id": "d7b8de67",
   "metadata": {},
   "outputs": [],
   "source": [
    "# X must be 2-d array\n",
    "#X_train_scaled = X_train_scaled[['bathrooms']]\n",
    "# y can be 1-d array\n",
    "#y_train = train.tax_value\n",
    "\n",
    "# 1. make the thing\n",
    "lm = LinearRegression()\n",
    "# 2. fit the thing\n",
    "lm.fit(X_train_scaled[['bathrooms']], y_train)\n",
    "# 3. use the thing (make predictions)\n",
    "#X_validate = validate[['taxamount']]\n",
    "predictions['simple_lm'] = lm.predict(X_validate[['bathrooms']])"
   ]
  },
  {
   "cell_type": "code",
   "execution_count": 245,
   "id": "cc5669e6",
   "metadata": {},
   "outputs": [
    {
     "data": {
      "text/plain": [
       "(array([78884.35411346]), 552182.3291759454)"
      ]
     },
     "execution_count": 245,
     "metadata": {},
     "output_type": "execute_result"
    }
   ],
   "source": [
    "# look into modesl make up \n",
    "lm.coef_, lm.intercept_"
   ]
  },
  {
   "cell_type": "code",
   "execution_count": 246,
   "id": "96d24a12",
   "metadata": {},
   "outputs": [
    {
     "name": "stdout",
     "output_type": "stream",
     "text": [
      "tax_value = [78884.35411346]*bathrooms + 552182.3291759454\n"
     ]
    }
   ],
   "source": [
    "print(f'tax_value = {lm.coef_}*bathrooms + {lm.intercept_}')"
   ]
  },
  {
   "cell_type": "code",
   "execution_count": 247,
   "id": "d759bdc8",
   "metadata": {},
   "outputs": [
    {
     "data": {
      "text/html": [
       "<div>\n",
       "<style scoped>\n",
       "    .dataframe tbody tr th:only-of-type {\n",
       "        vertical-align: middle;\n",
       "    }\n",
       "\n",
       "    .dataframe tbody tr th {\n",
       "        vertical-align: top;\n",
       "    }\n",
       "\n",
       "    .dataframe thead th {\n",
       "        text-align: right;\n",
       "    }\n",
       "</style>\n",
       "<table border=\"1\" class=\"dataframe\">\n",
       "  <thead>\n",
       "    <tr style=\"text-align: right;\">\n",
       "      <th></th>\n",
       "      <th>actual</th>\n",
       "      <th>simple_lm</th>\n",
       "    </tr>\n",
       "  </thead>\n",
       "  <tbody>\n",
       "    <tr>\n",
       "      <th>21619</th>\n",
       "      <td>207,835.000</td>\n",
       "      <td>670,508.860</td>\n",
       "    </tr>\n",
       "    <tr>\n",
       "      <th>21052</th>\n",
       "      <td>171,656.000</td>\n",
       "      <td>788,835.392</td>\n",
       "    </tr>\n",
       "    <tr>\n",
       "      <th>50980</th>\n",
       "      <td>609,150.000</td>\n",
       "      <td>709,951.037</td>\n",
       "    </tr>\n",
       "    <tr>\n",
       "      <th>4359</th>\n",
       "      <td>656,000.000</td>\n",
       "      <td>788,835.392</td>\n",
       "    </tr>\n",
       "    <tr>\n",
       "      <th>36190</th>\n",
       "      <td>515,696.000</td>\n",
       "      <td>709,951.037</td>\n",
       "    </tr>\n",
       "    <tr>\n",
       "      <th>...</th>\n",
       "      <td>...</td>\n",
       "      <td>...</td>\n",
       "    </tr>\n",
       "    <tr>\n",
       "      <th>41577</th>\n",
       "      <td>1,700,543.000</td>\n",
       "      <td>788,835.392</td>\n",
       "    </tr>\n",
       "    <tr>\n",
       "      <th>36765</th>\n",
       "      <td>1,623,391.000</td>\n",
       "      <td>828,277.569</td>\n",
       "    </tr>\n",
       "    <tr>\n",
       "      <th>50087</th>\n",
       "      <td>465,466.000</td>\n",
       "      <td>788,835.392</td>\n",
       "    </tr>\n",
       "    <tr>\n",
       "      <th>23800</th>\n",
       "      <td>790,000.000</td>\n",
       "      <td>788,835.392</td>\n",
       "    </tr>\n",
       "    <tr>\n",
       "      <th>22337</th>\n",
       "      <td>481,525.000</td>\n",
       "      <td>709,951.037</td>\n",
       "    </tr>\n",
       "  </tbody>\n",
       "</table>\n",
       "<p>12396 rows × 2 columns</p>\n",
       "</div>"
      ],
      "text/plain": [
       "             actual   simple_lm\n",
       "21619   207,835.000 670,508.860\n",
       "21052   171,656.000 788,835.392\n",
       "50980   609,150.000 709,951.037\n",
       "4359    656,000.000 788,835.392\n",
       "36190   515,696.000 709,951.037\n",
       "...             ...         ...\n",
       "41577 1,700,543.000 788,835.392\n",
       "36765 1,623,391.000 828,277.569\n",
       "50087   465,466.000 788,835.392\n",
       "23800   790,000.000 788,835.392\n",
       "22337   481,525.000 709,951.037\n",
       "\n",
       "[12396 rows x 2 columns]"
      ]
     },
     "execution_count": 247,
     "metadata": {},
     "output_type": "execute_result"
    }
   ],
   "source": [
    "predictions"
   ]
  },
  {
   "cell_type": "markdown",
   "id": "03bac608",
   "metadata": {},
   "source": [
    "### Multiple + RFE"
   ]
  },
  {
   "cell_type": "code",
   "execution_count": 248,
   "id": "9f56f277",
   "metadata": {},
   "outputs": [],
   "source": [
    "def rfe(X, y, k=2):\n",
    "    ''' \n",
    "    rfe takes in:\n",
    "    X: a dataframe representing numerical independent features\n",
    "    y: a pandas Series representing a target variable\n",
    "    k: a keyword argument defaulted to 2 for the number of features\n",
    "    \n",
    "    returns: a list of the selected features using RFE\n",
    "    '''\n",
    "    # Model\n",
    "    model = LinearRegression()\n",
    "    rfe = RFE(model, n_features_to_select= k)\n",
    "    #fit\n",
    "    rfe.fit(X, y)\n",
    "    # mask selection\n",
    "    mask = rfe.get_support()\n",
    "    \n",
    "    return X.columns[mask]"
   ]
  },
  {
   "cell_type": "code",
   "execution_count": 249,
   "id": "d133e602",
   "metadata": {
    "scrolled": false
   },
   "outputs": [
    {
     "data": {
      "text/plain": [
       "Index(['squarefeet', 'bedrooms'], dtype='object')"
      ]
     },
     "execution_count": 249,
     "metadata": {},
     "output_type": "execute_result"
    }
   ],
   "source": [
    "rfe(X_train_scaled, y_train, k=2)"
   ]
  },
  {
   "cell_type": "code",
   "execution_count": 252,
   "id": "4cdc4d4d",
   "metadata": {},
   "outputs": [
    {
     "name": "stdout",
     "output_type": "stream",
     "text": [
      "selected top 2 features: Index(['squarefeet', 'bedrooms'], dtype='object')\n"
     ]
    }
   ],
   "source": [
    "\n",
    "\n",
    "lm = LinearRegression()\n",
    "k = 2\n",
    "\n",
    "### 1. Transform our X\n",
    "rfe = RFE(lm, n_features_to_select=2)\n",
    "rfe.fit(X_train_scaled, y_train)\n",
    "print('selected top 2 features:', X_train_scaled.columns[rfe.support_])\n",
    "X_train_rfe = rfe.transform(X_train_scaled)"
   ]
  },
  {
   "cell_type": "code",
   "execution_count": null,
   "id": "9b65169a",
   "metadata": {},
   "outputs": [],
   "source": []
  },
  {
   "cell_type": "code",
   "execution_count": 253,
   "id": "a13f5169",
   "metadata": {
    "scrolled": true
   },
   "outputs": [
    {
     "data": {
      "text/html": [
       "<div>\n",
       "<style scoped>\n",
       "    .dataframe tbody tr th:only-of-type {\n",
       "        vertical-align: middle;\n",
       "    }\n",
       "\n",
       "    .dataframe tbody tr th {\n",
       "        vertical-align: top;\n",
       "    }\n",
       "\n",
       "    .dataframe thead th {\n",
       "        text-align: right;\n",
       "    }\n",
       "</style>\n",
       "<table border=\"1\" class=\"dataframe\">\n",
       "  <thead>\n",
       "    <tr style=\"text-align: right;\">\n",
       "      <th></th>\n",
       "      <th>actual</th>\n",
       "      <th>simple_lm</th>\n",
       "      <th>multiple_rfe</th>\n",
       "    </tr>\n",
       "  </thead>\n",
       "  <tbody>\n",
       "    <tr>\n",
       "      <th>21619</th>\n",
       "      <td>207,835.000</td>\n",
       "      <td>670,508.860</td>\n",
       "      <td>573,281,111.787</td>\n",
       "    </tr>\n",
       "    <tr>\n",
       "      <th>21052</th>\n",
       "      <td>171,656.000</td>\n",
       "      <td>788,835.392</td>\n",
       "      <td>725,039,406.455</td>\n",
       "    </tr>\n",
       "    <tr>\n",
       "      <th>50980</th>\n",
       "      <td>609,150.000</td>\n",
       "      <td>709,951.037</td>\n",
       "      <td>466,992,981.286</td>\n",
       "    </tr>\n",
       "    <tr>\n",
       "      <th>4359</th>\n",
       "      <td>656,000.000</td>\n",
       "      <td>788,835.392</td>\n",
       "      <td>829,809,777.252</td>\n",
       "    </tr>\n",
       "    <tr>\n",
       "      <th>36190</th>\n",
       "      <td>515,696.000</td>\n",
       "      <td>709,951.037</td>\n",
       "      <td>396,828,581.450</td>\n",
       "    </tr>\n",
       "  </tbody>\n",
       "</table>\n",
       "</div>"
      ],
      "text/plain": [
       "           actual   simple_lm    multiple_rfe\n",
       "21619 207,835.000 670,508.860 573,281,111.787\n",
       "21052 171,656.000 788,835.392 725,039,406.455\n",
       "50980 609,150.000 709,951.037 466,992,981.286\n",
       "4359  656,000.000 788,835.392 829,809,777.252\n",
       "36190 515,696.000 709,951.037 396,828,581.450"
      ]
     },
     "execution_count": 253,
     "metadata": {},
     "output_type": "execute_result"
    }
   ],
   "source": [
    "# 1. Transform our X\n",
    "X_train_rfe = rfe.transform(X_train_scaled)\n",
    "# 2. Use the transformed x in our model\n",
    "lm.fit(X_train_rfe, y_train)\n",
    "\n",
    "# 3. Make predictions\n",
    "X_validate_rfe = rfe.transform(X_validate)\n",
    "predictions['multiple_rfe'] = lm.predict(X_validate_rfe)\n",
    "\n",
    "predictions.head()"
   ]
  },
  {
   "cell_type": "code",
   "execution_count": 254,
   "id": "d48f58bf",
   "metadata": {},
   "outputs": [
    {
     "data": {
      "text/plain": [
       "(array([317485.97211022, -69670.15670327]), 497612.7544168949)"
      ]
     },
     "execution_count": 254,
     "metadata": {},
     "output_type": "execute_result"
    }
   ],
   "source": [
    "# look into models make up\n",
    "lm.coef_, lm.intercept_"
   ]
  },
  {
   "cell_type": "code",
   "execution_count": 255,
   "id": "92f239b8",
   "metadata": {},
   "outputs": [
    {
     "name": "stdout",
     "output_type": "stream",
     "text": [
      "tax_value = 317485.97 x squarefeet + -69670.16 x bedroom + 497612.75\n"
     ]
    }
   ],
   "source": [
    "print(f'tax_value = {lm.coef_[0]:.2f} x squarefeet + {lm.coef_[1]:.2f} x bedroom + {lm.intercept_:.2f}')"
   ]
  },
  {
   "cell_type": "markdown",
   "id": "b21f7902",
   "metadata": {},
   "source": [
    "### Poly Degree2"
   ]
  },
  {
   "cell_type": "code",
   "execution_count": 256,
   "id": "64abdd74",
   "metadata": {},
   "outputs": [
    {
     "name": "stderr",
     "output_type": "stream",
     "text": [
      "/opt/homebrew/anaconda3/lib/python3.9/site-packages/sklearn/utils/deprecation.py:87: FutureWarning: Function get_feature_names is deprecated; get_feature_names is deprecated in 1.0 and will be removed in 1.2. Please use get_feature_names_out instead.\n",
      "  warnings.warn(msg, category=FutureWarning)\n"
     ]
    },
    {
     "data": {
      "text/html": [
       "<div>\n",
       "<style scoped>\n",
       "    .dataframe tbody tr th:only-of-type {\n",
       "        vertical-align: middle;\n",
       "    }\n",
       "\n",
       "    .dataframe tbody tr th {\n",
       "        vertical-align: top;\n",
       "    }\n",
       "\n",
       "    .dataframe thead th {\n",
       "        text-align: right;\n",
       "    }\n",
       "</style>\n",
       "<table border=\"1\" class=\"dataframe\">\n",
       "  <thead>\n",
       "    <tr style=\"text-align: right;\">\n",
       "      <th></th>\n",
       "      <th>squarefeet</th>\n",
       "      <th>bathrooms</th>\n",
       "      <th>bedrooms</th>\n",
       "      <th>squarefeet^2</th>\n",
       "      <th>squarefeet bathrooms</th>\n",
       "      <th>squarefeet bedrooms</th>\n",
       "      <th>bathrooms^2</th>\n",
       "      <th>bathrooms bedrooms</th>\n",
       "      <th>bedrooms^2</th>\n",
       "    </tr>\n",
       "  </thead>\n",
       "  <tbody>\n",
       "    <tr>\n",
       "      <th>6813</th>\n",
       "      <td>-0.044</td>\n",
       "      <td>-0.219</td>\n",
       "      <td>-1.325</td>\n",
       "      <td>0.002</td>\n",
       "      <td>0.010</td>\n",
       "      <td>0.058</td>\n",
       "      <td>0.048</td>\n",
       "      <td>0.290</td>\n",
       "      <td>1.756</td>\n",
       "    </tr>\n",
       "    <tr>\n",
       "      <th>41016</th>\n",
       "      <td>-0.738</td>\n",
       "      <td>-0.219</td>\n",
       "      <td>0.745</td>\n",
       "      <td>0.545</td>\n",
       "      <td>0.161</td>\n",
       "      <td>-0.550</td>\n",
       "      <td>0.048</td>\n",
       "      <td>-0.163</td>\n",
       "      <td>0.555</td>\n",
       "    </tr>\n",
       "    <tr>\n",
       "      <th>50907</th>\n",
       "      <td>0.267</td>\n",
       "      <td>0.417</td>\n",
       "      <td>0.745</td>\n",
       "      <td>0.071</td>\n",
       "      <td>0.111</td>\n",
       "      <td>0.199</td>\n",
       "      <td>0.174</td>\n",
       "      <td>0.311</td>\n",
       "      <td>0.555</td>\n",
       "    </tr>\n",
       "    <tr>\n",
       "      <th>34211</th>\n",
       "      <td>-2.575</td>\n",
       "      <td>-5.199</td>\n",
       "      <td>-5.199</td>\n",
       "      <td>6.633</td>\n",
       "      <td>13.391</td>\n",
       "      <td>13.391</td>\n",
       "      <td>27.033</td>\n",
       "      <td>27.033</td>\n",
       "      <td>27.033</td>\n",
       "    </tr>\n",
       "    <tr>\n",
       "      <th>16927</th>\n",
       "      <td>-0.965</td>\n",
       "      <td>-0.219</td>\n",
       "      <td>-0.252</td>\n",
       "      <td>0.932</td>\n",
       "      <td>0.211</td>\n",
       "      <td>0.244</td>\n",
       "      <td>0.048</td>\n",
       "      <td>0.055</td>\n",
       "      <td>0.064</td>\n",
       "    </tr>\n",
       "  </tbody>\n",
       "</table>\n",
       "</div>"
      ],
      "text/plain": [
       "       squarefeet  bathrooms  bedrooms  squarefeet^2  squarefeet bathrooms  \\\n",
       "6813       -0.044     -0.219    -1.325         0.002                 0.010   \n",
       "41016      -0.738     -0.219     0.745         0.545                 0.161   \n",
       "50907       0.267      0.417     0.745         0.071                 0.111   \n",
       "34211      -2.575     -5.199    -5.199         6.633                13.391   \n",
       "16927      -0.965     -0.219    -0.252         0.932                 0.211   \n",
       "\n",
       "       squarefeet bedrooms  bathrooms^2  bathrooms bedrooms  bedrooms^2  \n",
       "6813                 0.058        0.048               0.290       1.756  \n",
       "41016               -0.550        0.048              -0.163       0.555  \n",
       "50907                0.199        0.174               0.311       0.555  \n",
       "34211               13.391       27.033              27.033      27.033  \n",
       "16927                0.244        0.048               0.055       0.064  "
      ]
     },
     "execution_count": 256,
     "metadata": {},
     "output_type": "execute_result"
    }
   ],
   "source": [
    "# 1. Generate Polynomial Features\n",
    "poly = PolynomialFeatures(degree=2, include_bias=False, interaction_only=False)\n",
    "poly.fit(X_train_scaled)\n",
    "X_train_poly = pd.DataFrame(\n",
    "    poly.transform(X_train_scaled),\n",
    "    columns=poly.get_feature_names(X_train_scaled.columns),\n",
    "    index=train.index,\n",
    ")\n",
    "X_train_poly.head()"
   ]
  },
  {
   "cell_type": "code",
   "execution_count": 257,
   "id": "ef6fba86",
   "metadata": {
    "scrolled": true
   },
   "outputs": [
    {
     "name": "stderr",
     "output_type": "stream",
     "text": [
      "/opt/homebrew/anaconda3/lib/python3.9/site-packages/sklearn/base.py:450: UserWarning: X does not have valid feature names, but LinearRegression was fitted with feature names\n",
      "  warnings.warn(\n"
     ]
    },
    {
     "data": {
      "text/html": [
       "<div>\n",
       "<style scoped>\n",
       "    .dataframe tbody tr th:only-of-type {\n",
       "        vertical-align: middle;\n",
       "    }\n",
       "\n",
       "    .dataframe tbody tr th {\n",
       "        vertical-align: top;\n",
       "    }\n",
       "\n",
       "    .dataframe thead th {\n",
       "        text-align: right;\n",
       "    }\n",
       "</style>\n",
       "<table border=\"1\" class=\"dataframe\">\n",
       "  <thead>\n",
       "    <tr style=\"text-align: right;\">\n",
       "      <th></th>\n",
       "      <th>actual</th>\n",
       "      <th>simple_lm</th>\n",
       "      <th>multiple_rfe</th>\n",
       "      <th>polynomial degree 2</th>\n",
       "    </tr>\n",
       "  </thead>\n",
       "  <tbody>\n",
       "    <tr>\n",
       "      <th>21619</th>\n",
       "      <td>207,835.000</td>\n",
       "      <td>670,508.860</td>\n",
       "      <td>573,281,111.787</td>\n",
       "      <td>316,077.807</td>\n",
       "    </tr>\n",
       "    <tr>\n",
       "      <th>21052</th>\n",
       "      <td>171,656.000</td>\n",
       "      <td>788,835.392</td>\n",
       "      <td>725,039,406.455</td>\n",
       "      <td>593,995.910</td>\n",
       "    </tr>\n",
       "    <tr>\n",
       "      <th>50980</th>\n",
       "      <td>609,150.000</td>\n",
       "      <td>709,951.037</td>\n",
       "      <td>466,992,981.286</td>\n",
       "      <td>306,494.603</td>\n",
       "    </tr>\n",
       "    <tr>\n",
       "      <th>4359</th>\n",
       "      <td>656,000.000</td>\n",
       "      <td>788,835.392</td>\n",
       "      <td>829,809,777.252</td>\n",
       "      <td>717,811.146</td>\n",
       "    </tr>\n",
       "    <tr>\n",
       "      <th>36190</th>\n",
       "      <td>515,696.000</td>\n",
       "      <td>709,951.037</td>\n",
       "      <td>396,828,581.450</td>\n",
       "      <td>262,905.479</td>\n",
       "    </tr>\n",
       "    <tr>\n",
       "      <th>...</th>\n",
       "      <td>...</td>\n",
       "      <td>...</td>\n",
       "      <td>...</td>\n",
       "      <td>...</td>\n",
       "    </tr>\n",
       "    <tr>\n",
       "      <th>41577</th>\n",
       "      <td>1,700,543.000</td>\n",
       "      <td>788,835.392</td>\n",
       "      <td>910,838,370.296</td>\n",
       "      <td>932,315.905</td>\n",
       "    </tr>\n",
       "    <tr>\n",
       "      <th>36765</th>\n",
       "      <td>1,623,391.000</td>\n",
       "      <td>828,277.569</td>\n",
       "      <td>1,590,506,166.428</td>\n",
       "      <td>1,791,828.274</td>\n",
       "    </tr>\n",
       "    <tr>\n",
       "      <th>50087</th>\n",
       "      <td>465,466.000</td>\n",
       "      <td>788,835.392</td>\n",
       "      <td>864,415,748.212</td>\n",
       "      <td>757,656.988</td>\n",
       "    </tr>\n",
       "    <tr>\n",
       "      <th>23800</th>\n",
       "      <td>790,000.000</td>\n",
       "      <td>788,835.392</td>\n",
       "      <td>761,550,293.248</td>\n",
       "      <td>634,796.316</td>\n",
       "    </tr>\n",
       "    <tr>\n",
       "      <th>22337</th>\n",
       "      <td>481,525.000</td>\n",
       "      <td>709,951.037</td>\n",
       "      <td>419,439,755.627</td>\n",
       "      <td>342,438.532</td>\n",
       "    </tr>\n",
       "  </tbody>\n",
       "</table>\n",
       "<p>12396 rows × 4 columns</p>\n",
       "</div>"
      ],
      "text/plain": [
       "             actual   simple_lm      multiple_rfe  polynomial degree 2\n",
       "21619   207,835.000 670,508.860   573,281,111.787          316,077.807\n",
       "21052   171,656.000 788,835.392   725,039,406.455          593,995.910\n",
       "50980   609,150.000 709,951.037   466,992,981.286          306,494.603\n",
       "4359    656,000.000 788,835.392   829,809,777.252          717,811.146\n",
       "36190   515,696.000 709,951.037   396,828,581.450          262,905.479\n",
       "...             ...         ...               ...                  ...\n",
       "41577 1,700,543.000 788,835.392   910,838,370.296          932,315.905\n",
       "36765 1,623,391.000 828,277.569 1,590,506,166.428        1,791,828.274\n",
       "50087   465,466.000 788,835.392   864,415,748.212          757,656.988\n",
       "23800   790,000.000 788,835.392   761,550,293.248          634,796.316\n",
       "22337   481,525.000 709,951.037   419,439,755.627          342,438.532\n",
       "\n",
       "[12396 rows x 4 columns]"
      ]
     },
     "execution_count": 257,
     "metadata": {},
     "output_type": "execute_result"
    }
   ],
   "source": [
    "# 2. Use the features\n",
    "lm = LinearRegression()\n",
    "lm.fit(X_train_poly, y_train)\n",
    "\n",
    "X_validate_poly = poly.transform(X_validate_scaled)\n",
    "predictions['polynomial degree 2'] = lm.predict(X_validate_poly)\n",
    "predictions"
   ]
  },
  {
   "cell_type": "markdown",
   "id": "5342486a",
   "metadata": {},
   "source": [
    "# Poly interactions_only "
   ]
  },
  {
   "cell_type": "code",
   "execution_count": 258,
   "id": "a1256f8b",
   "metadata": {},
   "outputs": [
    {
     "name": "stderr",
     "output_type": "stream",
     "text": [
      "/opt/homebrew/anaconda3/lib/python3.9/site-packages/sklearn/utils/deprecation.py:87: FutureWarning: Function get_feature_names is deprecated; get_feature_names is deprecated in 1.0 and will be removed in 1.2. Please use get_feature_names_out instead.\n",
      "  warnings.warn(msg, category=FutureWarning)\n",
      "/opt/homebrew/anaconda3/lib/python3.9/site-packages/sklearn/base.py:450: UserWarning: X does not have valid feature names, but LinearRegression was fitted with feature names\n",
      "  warnings.warn(\n",
      "/opt/homebrew/anaconda3/lib/python3.9/site-packages/sklearn/utils/deprecation.py:87: FutureWarning: Function get_feature_names is deprecated; get_feature_names is deprecated in 1.0 and will be removed in 1.2. Please use get_feature_names_out instead.\n",
      "  warnings.warn(msg, category=FutureWarning)\n"
     ]
    },
    {
     "data": {
      "text/plain": [
       "bathrooms bedrooms     -52,582.859\n",
       "squarefeet bedrooms         -2.844\n",
       "squarefeet                  19.449\n",
       "squarefeet bathrooms       114.117\n",
       "bathrooms               31,164.667\n",
       "bedrooms                37,162.127\n",
       "dtype: float64"
      ]
     },
     "execution_count": 258,
     "metadata": {},
     "output_type": "execute_result"
    }
   ],
   "source": [
    "poly = PolynomialFeatures(degree=2, include_bias=False, interaction_only=True)\n",
    "poly.fit(X_train_scaled)\n",
    "X_train_poly = pd.DataFrame(\n",
    "    poly.transform(X_train),\n",
    "    columns=poly.get_feature_names(X_train.columns),\n",
    "    index=train.index,\n",
    ")\n",
    "lm = LinearRegression()\n",
    "lm.fit(X_train_poly, y_train)\n",
    "\n",
    "X_validate_poly = poly.transform(X_validate_scaled)\n",
    "predictions['polynomial only interaction'] = lm.predict(X_validate_poly)\n",
    "\n",
    "pd.Series(lm.coef_, index=poly.get_feature_names(X_train_scaled.columns)).sort_values()"
   ]
  },
  {
   "cell_type": "code",
   "execution_count": 259,
   "id": "bbd3279c",
   "metadata": {},
   "outputs": [
    {
     "data": {
      "text/html": [
       "<div>\n",
       "<style scoped>\n",
       "    .dataframe tbody tr th:only-of-type {\n",
       "        vertical-align: middle;\n",
       "    }\n",
       "\n",
       "    .dataframe tbody tr th {\n",
       "        vertical-align: top;\n",
       "    }\n",
       "\n",
       "    .dataframe thead th {\n",
       "        text-align: right;\n",
       "    }\n",
       "</style>\n",
       "<table border=\"1\" class=\"dataframe\">\n",
       "  <thead>\n",
       "    <tr style=\"text-align: right;\">\n",
       "      <th></th>\n",
       "      <th>actual</th>\n",
       "      <th>simple_lm</th>\n",
       "      <th>multiple_rfe</th>\n",
       "      <th>polynomial degree 2</th>\n",
       "      <th>polynomial only interaction</th>\n",
       "    </tr>\n",
       "  </thead>\n",
       "  <tbody>\n",
       "    <tr>\n",
       "      <th>21619</th>\n",
       "      <td>207,835.000</td>\n",
       "      <td>670,508.860</td>\n",
       "      <td>573,281,111.787</td>\n",
       "      <td>316,077.807</td>\n",
       "      <td>180,867.466</td>\n",
       "    </tr>\n",
       "    <tr>\n",
       "      <th>21052</th>\n",
       "      <td>171,656.000</td>\n",
       "      <td>788,835.392</td>\n",
       "      <td>725,039,406.455</td>\n",
       "      <td>593,995.910</td>\n",
       "      <td>167,272.454</td>\n",
       "    </tr>\n",
       "    <tr>\n",
       "      <th>50980</th>\n",
       "      <td>609,150.000</td>\n",
       "      <td>709,951.037</td>\n",
       "      <td>466,992,981.286</td>\n",
       "      <td>306,494.603</td>\n",
       "      <td>127,233.146</td>\n",
       "    </tr>\n",
       "    <tr>\n",
       "      <th>4359</th>\n",
       "      <td>656,000.000</td>\n",
       "      <td>788,835.392</td>\n",
       "      <td>829,809,777.252</td>\n",
       "      <td>717,811.146</td>\n",
       "      <td>167,305.063</td>\n",
       "    </tr>\n",
       "    <tr>\n",
       "      <th>36190</th>\n",
       "      <td>515,696.000</td>\n",
       "      <td>709,951.037</td>\n",
       "      <td>396,828,581.450</td>\n",
       "      <td>262,905.479</td>\n",
       "      <td>127,235.186</td>\n",
       "    </tr>\n",
       "    <tr>\n",
       "      <th>...</th>\n",
       "      <td>...</td>\n",
       "      <td>...</td>\n",
       "      <td>...</td>\n",
       "      <td>...</td>\n",
       "      <td>...</td>\n",
       "    </tr>\n",
       "    <tr>\n",
       "      <th>41577</th>\n",
       "      <td>1,700,543.000</td>\n",
       "      <td>788,835.392</td>\n",
       "      <td>910,838,370.296</td>\n",
       "      <td>932,315.905</td>\n",
       "      <td>174,929.445</td>\n",
       "    </tr>\n",
       "    <tr>\n",
       "      <th>36765</th>\n",
       "      <td>1,623,391.000</td>\n",
       "      <td>828,277.569</td>\n",
       "      <td>1,590,506,166.428</td>\n",
       "      <td>1,791,828.274</td>\n",
       "      <td>163,414.370</td>\n",
       "    </tr>\n",
       "    <tr>\n",
       "      <th>50087</th>\n",
       "      <td>465,466.000</td>\n",
       "      <td>788,835.392</td>\n",
       "      <td>864,415,748.212</td>\n",
       "      <td>757,656.988</td>\n",
       "      <td>167,314.413</td>\n",
       "    </tr>\n",
       "    <tr>\n",
       "      <th>23800</th>\n",
       "      <td>790,000.000</td>\n",
       "      <td>788,835.392</td>\n",
       "      <td>761,550,293.248</td>\n",
       "      <td>634,796.316</td>\n",
       "      <td>167,283.906</td>\n",
       "    </tr>\n",
       "    <tr>\n",
       "      <th>22337</th>\n",
       "      <td>481,525.000</td>\n",
       "      <td>709,951.037</td>\n",
       "      <td>419,439,755.627</td>\n",
       "      <td>342,438.532</td>\n",
       "      <td>75,031.524</td>\n",
       "    </tr>\n",
       "  </tbody>\n",
       "</table>\n",
       "<p>12396 rows × 5 columns</p>\n",
       "</div>"
      ],
      "text/plain": [
       "             actual   simple_lm      multiple_rfe  polynomial degree 2  \\\n",
       "21619   207,835.000 670,508.860   573,281,111.787          316,077.807   \n",
       "21052   171,656.000 788,835.392   725,039,406.455          593,995.910   \n",
       "50980   609,150.000 709,951.037   466,992,981.286          306,494.603   \n",
       "4359    656,000.000 788,835.392   829,809,777.252          717,811.146   \n",
       "36190   515,696.000 709,951.037   396,828,581.450          262,905.479   \n",
       "...             ...         ...               ...                  ...   \n",
       "41577 1,700,543.000 788,835.392   910,838,370.296          932,315.905   \n",
       "36765 1,623,391.000 828,277.569 1,590,506,166.428        1,791,828.274   \n",
       "50087   465,466.000 788,835.392   864,415,748.212          757,656.988   \n",
       "23800   790,000.000 788,835.392   761,550,293.248          634,796.316   \n",
       "22337   481,525.000 709,951.037   419,439,755.627          342,438.532   \n",
       "\n",
       "       polynomial only interaction  \n",
       "21619                  180,867.466  \n",
       "21052                  167,272.454  \n",
       "50980                  127,233.146  \n",
       "4359                   167,305.063  \n",
       "36190                  127,235.186  \n",
       "...                            ...  \n",
       "41577                  174,929.445  \n",
       "36765                  163,414.370  \n",
       "50087                  167,314.413  \n",
       "23800                  167,283.906  \n",
       "22337                   75,031.524  \n",
       "\n",
       "[12396 rows x 5 columns]"
      ]
     },
     "execution_count": 259,
     "metadata": {},
     "output_type": "execute_result"
    }
   ],
   "source": [
    "predictions"
   ]
  },
  {
   "cell_type": "markdown",
   "id": "76797922",
   "metadata": {},
   "source": [
    "## Laso Lars"
   ]
  },
  {
   "cell_type": "code",
   "execution_count": 260,
   "id": "c892bda9",
   "metadata": {},
   "outputs": [
    {
     "name": "stderr",
     "output_type": "stream",
     "text": [
      "/opt/homebrew/anaconda3/lib/python3.9/site-packages/sklearn/linear_model/_base.py:133: FutureWarning: The default of 'normalize' will be set to False in version 1.2 and deprecated in version 1.4.\n",
      "If you wish to scale the data, use Pipeline with a StandardScaler in a preprocessing stage. To reproduce the previous behavior:\n",
      "\n",
      "from sklearn.pipeline import make_pipeline\n",
      "\n",
      "model = make_pipeline(StandardScaler(with_mean=False), LassoLars())\n",
      "\n",
      "If you wish to pass a sample_weight parameter, you need to pass it as a fit parameter to each step of the pipeline as follows:\n",
      "\n",
      "kwargs = {s[0] + '__sample_weight': sample_weight for s in model.steps}\n",
      "model.fit(X, y, **kwargs)\n",
      "\n",
      "Set parameter alpha to: original_alpha * np.sqrt(n_samples). \n",
      "  warnings.warn(\n"
     ]
    }
   ],
   "source": [
    "# create the model object\n",
    "lars = LassoLars(alpha=1)\n",
    "\n",
    "# fit the model to our training data\n",
    "lars.fit(X_train, y_train)\n",
    "\n",
    "# predict validate\n",
    "X_validate_pred_lars = lars.predict(X_validate)\n",
    "\n",
    "# Add lassolars predictions to our predictions DataFrame\n",
    "predictions['lasso_lars'] = X_validate_pred_lars"
   ]
  },
  {
   "cell_type": "code",
   "execution_count": 261,
   "id": "850e55f9",
   "metadata": {
    "scrolled": true
   },
   "outputs": [
    {
     "data": {
      "text/html": [
       "<div>\n",
       "<style scoped>\n",
       "    .dataframe tbody tr th:only-of-type {\n",
       "        vertical-align: middle;\n",
       "    }\n",
       "\n",
       "    .dataframe tbody tr th {\n",
       "        vertical-align: top;\n",
       "    }\n",
       "\n",
       "    .dataframe thead th {\n",
       "        text-align: right;\n",
       "    }\n",
       "</style>\n",
       "<table border=\"1\" class=\"dataframe\">\n",
       "  <thead>\n",
       "    <tr style=\"text-align: right;\">\n",
       "      <th></th>\n",
       "      <th>actual</th>\n",
       "      <th>simple_lm</th>\n",
       "      <th>multiple_rfe</th>\n",
       "      <th>polynomial degree 2</th>\n",
       "      <th>polynomial only interaction</th>\n",
       "      <th>lasso_lars</th>\n",
       "    </tr>\n",
       "  </thead>\n",
       "  <tbody>\n",
       "    <tr>\n",
       "      <th>21619</th>\n",
       "      <td>207,835.000</td>\n",
       "      <td>670,508.860</td>\n",
       "      <td>573,281,111.787</td>\n",
       "      <td>316,077.807</td>\n",
       "      <td>180,867.466</td>\n",
       "      <td>329,134.487</td>\n",
       "    </tr>\n",
       "    <tr>\n",
       "      <th>21052</th>\n",
       "      <td>171,656.000</td>\n",
       "      <td>788,835.392</td>\n",
       "      <td>725,039,406.455</td>\n",
       "      <td>593,995.910</td>\n",
       "      <td>167,272.454</td>\n",
       "      <td>615,295.580</td>\n",
       "    </tr>\n",
       "    <tr>\n",
       "      <th>50980</th>\n",
       "      <td>609,150.000</td>\n",
       "      <td>709,951.037</td>\n",
       "      <td>466,992,981.286</td>\n",
       "      <td>306,494.603</td>\n",
       "      <td>127,233.146</td>\n",
       "      <td>360,748.390</td>\n",
       "    </tr>\n",
       "    <tr>\n",
       "      <th>4359</th>\n",
       "      <td>656,000.000</td>\n",
       "      <td>788,835.392</td>\n",
       "      <td>829,809,777.252</td>\n",
       "      <td>717,811.146</td>\n",
       "      <td>167,305.063</td>\n",
       "      <td>740,909.595</td>\n",
       "    </tr>\n",
       "    <tr>\n",
       "      <th>36190</th>\n",
       "      <td>515,696.000</td>\n",
       "      <td>709,951.037</td>\n",
       "      <td>396,828,581.450</td>\n",
       "      <td>262,905.479</td>\n",
       "      <td>127,235.186</td>\n",
       "      <td>276,625.064</td>\n",
       "    </tr>\n",
       "    <tr>\n",
       "      <th>...</th>\n",
       "      <td>...</td>\n",
       "      <td>...</td>\n",
       "      <td>...</td>\n",
       "      <td>...</td>\n",
       "      <td>...</td>\n",
       "      <td>...</td>\n",
       "    </tr>\n",
       "    <tr>\n",
       "      <th>41577</th>\n",
       "      <td>1,700,543.000</td>\n",
       "      <td>788,835.392</td>\n",
       "      <td>910,838,370.296</td>\n",
       "      <td>932,315.905</td>\n",
       "      <td>174,929.445</td>\n",
       "      <td>962,369.101</td>\n",
       "    </tr>\n",
       "    <tr>\n",
       "      <th>36765</th>\n",
       "      <td>1,623,391.000</td>\n",
       "      <td>828,277.569</td>\n",
       "      <td>1,590,506,166.428</td>\n",
       "      <td>1,791,828.274</td>\n",
       "      <td>163,414.370</td>\n",
       "      <td>1,687,680.511</td>\n",
       "    </tr>\n",
       "    <tr>\n",
       "      <th>50087</th>\n",
       "      <td>465,466.000</td>\n",
       "      <td>788,835.392</td>\n",
       "      <td>864,415,748.212</td>\n",
       "      <td>757,656.988</td>\n",
       "      <td>167,314.413</td>\n",
       "      <td>782,400.286</td>\n",
       "    </tr>\n",
       "    <tr>\n",
       "      <th>23800</th>\n",
       "      <td>790,000.000</td>\n",
       "      <td>788,835.392</td>\n",
       "      <td>761,550,293.248</td>\n",
       "      <td>634,796.316</td>\n",
       "      <td>167,283.906</td>\n",
       "      <td>659,070.161</td>\n",
       "    </tr>\n",
       "    <tr>\n",
       "      <th>22337</th>\n",
       "      <td>481,525.000</td>\n",
       "      <td>709,951.037</td>\n",
       "      <td>419,439,755.627</td>\n",
       "      <td>342,438.532</td>\n",
       "      <td>75,031.524</td>\n",
       "      <td>428,045.240</td>\n",
       "    </tr>\n",
       "  </tbody>\n",
       "</table>\n",
       "<p>12396 rows × 6 columns</p>\n",
       "</div>"
      ],
      "text/plain": [
       "             actual   simple_lm      multiple_rfe  polynomial degree 2  \\\n",
       "21619   207,835.000 670,508.860   573,281,111.787          316,077.807   \n",
       "21052   171,656.000 788,835.392   725,039,406.455          593,995.910   \n",
       "50980   609,150.000 709,951.037   466,992,981.286          306,494.603   \n",
       "4359    656,000.000 788,835.392   829,809,777.252          717,811.146   \n",
       "36190   515,696.000 709,951.037   396,828,581.450          262,905.479   \n",
       "...             ...         ...               ...                  ...   \n",
       "41577 1,700,543.000 788,835.392   910,838,370.296          932,315.905   \n",
       "36765 1,623,391.000 828,277.569 1,590,506,166.428        1,791,828.274   \n",
       "50087   465,466.000 788,835.392   864,415,748.212          757,656.988   \n",
       "23800   790,000.000 788,835.392   761,550,293.248          634,796.316   \n",
       "22337   481,525.000 709,951.037   419,439,755.627          342,438.532   \n",
       "\n",
       "       polynomial only interaction    lasso_lars  \n",
       "21619                  180,867.466   329,134.487  \n",
       "21052                  167,272.454   615,295.580  \n",
       "50980                  127,233.146   360,748.390  \n",
       "4359                   167,305.063   740,909.595  \n",
       "36190                  127,235.186   276,625.064  \n",
       "...                            ...           ...  \n",
       "41577                  174,929.445   962,369.101  \n",
       "36765                  163,414.370 1,687,680.511  \n",
       "50087                  167,314.413   782,400.286  \n",
       "23800                  167,283.906   659,070.161  \n",
       "22337                   75,031.524   428,045.240  \n",
       "\n",
       "[12396 rows x 6 columns]"
      ]
     },
     "execution_count": 261,
     "metadata": {},
     "output_type": "execute_result"
    }
   ],
   "source": [
    "predictions"
   ]
  },
  {
   "cell_type": "markdown",
   "id": "5e8be426",
   "metadata": {},
   "source": [
    "# GLM"
   ]
  },
  {
   "cell_type": "code",
   "execution_count": 262,
   "id": "06088dcb",
   "metadata": {},
   "outputs": [],
   "source": [
    "# create the model object\n",
    "glm = TweedieRegressor(power=1, alpha=0)\n",
    "\n",
    "# fit the model to our training data\n",
    "glm.fit(X_train_scaled, y_train)\n",
    "\n",
    "# predict validate\n",
    "X_validate_predict_glm = glm.predict(X_validate_scaled)\n",
    "\n",
    "# Add lassolars predictions to our predictions DataFrame\n",
    "predictions['glm'] = X_validate_predict_glm"
   ]
  },
  {
   "cell_type": "markdown",
   "id": "b3456260",
   "metadata": {},
   "source": [
    "### Baseline"
   ]
  },
  {
   "cell_type": "code",
   "execution_count": 263,
   "id": "eedb3bd6",
   "metadata": {},
   "outputs": [],
   "source": [
    "# add a baseline model\n",
    "predictions['baseline'] = train.tax_value.mean()"
   ]
  },
  {
   "cell_type": "code",
   "execution_count": 264,
   "id": "421c1eb5",
   "metadata": {
    "scrolled": true
   },
   "outputs": [
    {
     "data": {
      "text/html": [
       "<div>\n",
       "<style scoped>\n",
       "    .dataframe tbody tr th:only-of-type {\n",
       "        vertical-align: middle;\n",
       "    }\n",
       "\n",
       "    .dataframe tbody tr th {\n",
       "        vertical-align: top;\n",
       "    }\n",
       "\n",
       "    .dataframe thead th {\n",
       "        text-align: right;\n",
       "    }\n",
       "</style>\n",
       "<table border=\"1\" class=\"dataframe\">\n",
       "  <thead>\n",
       "    <tr style=\"text-align: right;\">\n",
       "      <th></th>\n",
       "      <th>actual</th>\n",
       "      <th>simple_lm</th>\n",
       "      <th>multiple_rfe</th>\n",
       "      <th>polynomial degree 2</th>\n",
       "      <th>polynomial only interaction</th>\n",
       "      <th>lasso_lars</th>\n",
       "      <th>glm</th>\n",
       "      <th>baseline</th>\n",
       "    </tr>\n",
       "  </thead>\n",
       "  <tbody>\n",
       "    <tr>\n",
       "      <th>21619</th>\n",
       "      <td>207,835.000</td>\n",
       "      <td>670,508.860</td>\n",
       "      <td>573,281,111.787</td>\n",
       "      <td>316,077.807</td>\n",
       "      <td>180,867.466</td>\n",
       "      <td>329,134.487</td>\n",
       "      <td>444,406.380</td>\n",
       "      <td>497,602.207</td>\n",
       "    </tr>\n",
       "    <tr>\n",
       "      <th>21052</th>\n",
       "      <td>171,656.000</td>\n",
       "      <td>788,835.392</td>\n",
       "      <td>725,039,406.455</td>\n",
       "      <td>593,995.910</td>\n",
       "      <td>167,272.454</td>\n",
       "      <td>615,295.580</td>\n",
       "      <td>597,101.190</td>\n",
       "      <td>497,602.207</td>\n",
       "    </tr>\n",
       "    <tr>\n",
       "      <th>50980</th>\n",
       "      <td>609,150.000</td>\n",
       "      <td>709,951.037</td>\n",
       "      <td>466,992,981.286</td>\n",
       "      <td>306,494.603</td>\n",
       "      <td>127,233.146</td>\n",
       "      <td>360,748.390</td>\n",
       "      <td>374,613.443</td>\n",
       "      <td>497,602.207</td>\n",
       "    </tr>\n",
       "    <tr>\n",
       "      <th>4359</th>\n",
       "      <td>656,000.000</td>\n",
       "      <td>788,835.392</td>\n",
       "      <td>829,809,777.252</td>\n",
       "      <td>717,811.146</td>\n",
       "      <td>167,305.063</td>\n",
       "      <td>740,909.595</td>\n",
       "      <td>709,175.393</td>\n",
       "      <td>497,602.207</td>\n",
       "    </tr>\n",
       "    <tr>\n",
       "      <th>36190</th>\n",
       "      <td>515,696.000</td>\n",
       "      <td>709,951.037</td>\n",
       "      <td>396,828,581.450</td>\n",
       "      <td>262,905.479</td>\n",
       "      <td>127,235.186</td>\n",
       "      <td>276,625.064</td>\n",
       "      <td>289,784.730</td>\n",
       "      <td>497,602.207</td>\n",
       "    </tr>\n",
       "    <tr>\n",
       "      <th>...</th>\n",
       "      <td>...</td>\n",
       "      <td>...</td>\n",
       "      <td>...</td>\n",
       "      <td>...</td>\n",
       "      <td>...</td>\n",
       "      <td>...</td>\n",
       "      <td>...</td>\n",
       "      <td>...</td>\n",
       "    </tr>\n",
       "    <tr>\n",
       "      <th>41577</th>\n",
       "      <td>1,700,543.000</td>\n",
       "      <td>788,835.392</td>\n",
       "      <td>910,838,370.296</td>\n",
       "      <td>932,315.905</td>\n",
       "      <td>174,929.445</td>\n",
       "      <td>962,369.101</td>\n",
       "      <td>893,179.714</td>\n",
       "      <td>497,602.207</td>\n",
       "    </tr>\n",
       "    <tr>\n",
       "      <th>36765</th>\n",
       "      <td>1,623,391.000</td>\n",
       "      <td>828,277.569</td>\n",
       "      <td>1,590,506,166.428</td>\n",
       "      <td>1,791,828.274</td>\n",
       "      <td>163,414.370</td>\n",
       "      <td>1,687,680.511</td>\n",
       "      <td>1,746,264.157</td>\n",
       "      <td>497,602.207</td>\n",
       "    </tr>\n",
       "    <tr>\n",
       "      <th>50087</th>\n",
       "      <td>465,466.000</td>\n",
       "      <td>788,835.392</td>\n",
       "      <td>864,415,748.212</td>\n",
       "      <td>757,656.988</td>\n",
       "      <td>167,314.413</td>\n",
       "      <td>782,400.286</td>\n",
       "      <td>745,029.945</td>\n",
       "      <td>497,602.207</td>\n",
       "    </tr>\n",
       "    <tr>\n",
       "      <th>23800</th>\n",
       "      <td>790,000.000</td>\n",
       "      <td>788,835.392</td>\n",
       "      <td>761,550,293.248</td>\n",
       "      <td>634,796.316</td>\n",
       "      <td>167,283.906</td>\n",
       "      <td>659,070.161</td>\n",
       "      <td>634,285.097</td>\n",
       "      <td>497,602.207</td>\n",
       "    </tr>\n",
       "    <tr>\n",
       "      <th>22337</th>\n",
       "      <td>481,525.000</td>\n",
       "      <td>709,951.037</td>\n",
       "      <td>419,439,755.627</td>\n",
       "      <td>342,438.532</td>\n",
       "      <td>75,031.524</td>\n",
       "      <td>428,045.240</td>\n",
       "      <td>358,052.834</td>\n",
       "      <td>497,602.207</td>\n",
       "    </tr>\n",
       "  </tbody>\n",
       "</table>\n",
       "<p>12396 rows × 8 columns</p>\n",
       "</div>"
      ],
      "text/plain": [
       "             actual   simple_lm      multiple_rfe  polynomial degree 2  \\\n",
       "21619   207,835.000 670,508.860   573,281,111.787          316,077.807   \n",
       "21052   171,656.000 788,835.392   725,039,406.455          593,995.910   \n",
       "50980   609,150.000 709,951.037   466,992,981.286          306,494.603   \n",
       "4359    656,000.000 788,835.392   829,809,777.252          717,811.146   \n",
       "36190   515,696.000 709,951.037   396,828,581.450          262,905.479   \n",
       "...             ...         ...               ...                  ...   \n",
       "41577 1,700,543.000 788,835.392   910,838,370.296          932,315.905   \n",
       "36765 1,623,391.000 828,277.569 1,590,506,166.428        1,791,828.274   \n",
       "50087   465,466.000 788,835.392   864,415,748.212          757,656.988   \n",
       "23800   790,000.000 788,835.392   761,550,293.248          634,796.316   \n",
       "22337   481,525.000 709,951.037   419,439,755.627          342,438.532   \n",
       "\n",
       "       polynomial only interaction    lasso_lars           glm    baseline  \n",
       "21619                  180,867.466   329,134.487   444,406.380 497,602.207  \n",
       "21052                  167,272.454   615,295.580   597,101.190 497,602.207  \n",
       "50980                  127,233.146   360,748.390   374,613.443 497,602.207  \n",
       "4359                   167,305.063   740,909.595   709,175.393 497,602.207  \n",
       "36190                  127,235.186   276,625.064   289,784.730 497,602.207  \n",
       "...                            ...           ...           ...         ...  \n",
       "41577                  174,929.445   962,369.101   893,179.714 497,602.207  \n",
       "36765                  163,414.370 1,687,680.511 1,746,264.157 497,602.207  \n",
       "50087                  167,314.413   782,400.286   745,029.945 497,602.207  \n",
       "23800                  167,283.906   659,070.161   634,285.097 497,602.207  \n",
       "22337                   75,031.524   428,045.240   358,052.834 497,602.207  \n",
       "\n",
       "[12396 rows x 8 columns]"
      ]
     },
     "execution_count": 264,
     "metadata": {},
     "output_type": "execute_result"
    }
   ],
   "source": [
    "predictions"
   ]
  },
  {
   "cell_type": "markdown",
   "id": "2e36e633",
   "metadata": {},
   "source": [
    "# Evaluate"
   ]
  },
  {
   "cell_type": "code",
   "execution_count": 265,
   "id": "e10e126d",
   "metadata": {},
   "outputs": [
    {
     "data": {
      "text/plain": [
       "actual                                              0.000\n",
       "polynomial degree 2                   202,325,034,009.401\n",
       "glm                                   204,628,627,087.153\n",
       "lasso_lars                            205,881,516,805.602\n",
       "baseline                              309,062,184,941.573\n",
       "simple_lm                             331,639,969,340.622\n",
       "polynomial only interaction           532,133,789,977.674\n",
       "multiple_rfe                  429,966,899,414,687,168.000\n",
       "dtype: float64"
      ]
     },
     "execution_count": 265,
     "metadata": {},
     "output_type": "execute_result"
    }
   ],
   "source": [
    "def calculate_mse(y_predicted):\n",
    "    return mean_squared_error(predictions.actual, y_predicted)\n",
    "\n",
    "predictions.apply(calculate_mse).sort_values()"
   ]
  },
  {
   "cell_type": "code",
   "execution_count": 266,
   "id": "9d89bed2",
   "metadata": {
    "scrolled": false
   },
   "outputs": [
    {
     "data": {
      "text/plain": [
       "actual                                  0.000\n",
       "polynomial degree 2               449,805.551\n",
       "glm                               452,358.958\n",
       "lasso_lars                        453,741.685\n",
       "baseline                          555,933.616\n",
       "simple_lm                         575,881.906\n",
       "polynomial only interaction       729,475.010\n",
       "multiple_rfe                  655,718,612.985\n",
       "dtype: float64"
      ]
     },
     "execution_count": 266,
     "metadata": {},
     "output_type": "execute_result"
    }
   ],
   "source": [
    "pd.options.display.float_format = '{:,.3f}'.format\n",
    "def calculate_RMSE(y_predicted):\n",
    "    return mean_squared_error(predictions.acual,y_predicted)\n",
    "predictions.apply(calculate_mse).sort_values()**.5"
   ]
  },
  {
   "cell_type": "markdown",
   "id": "6b4bbd4d",
   "metadata": {},
   "source": [
    "First itteration of models Polynomial degree2 was best, Then glm, then lasso_lars then baseline"
   ]
  },
  {
   "cell_type": "code",
   "execution_count": null,
   "id": "9ca46abb",
   "metadata": {},
   "outputs": [],
   "source": []
  }
 ],
 "metadata": {
  "kernelspec": {
   "display_name": "Python 3 (ipykernel)",
   "language": "python",
   "name": "python3"
  },
  "language_info": {
   "codemirror_mode": {
    "name": "ipython",
    "version": 3
   },
   "file_extension": ".py",
   "mimetype": "text/x-python",
   "name": "python",
   "nbconvert_exporter": "python",
   "pygments_lexer": "ipython3",
   "version": "3.9.12"
  }
 },
 "nbformat": 4,
 "nbformat_minor": 5
}
