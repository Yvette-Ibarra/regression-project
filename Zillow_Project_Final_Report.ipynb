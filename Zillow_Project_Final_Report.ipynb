{
 "cells": [
  {
   "cell_type": "markdown",
   "id": "11bba3ec",
   "metadata": {},
   "source": [
    "# $Zillow$ $Project$ $Final$ $Report$"
   ]
  },
  {
   "cell_type": "markdown",
   "id": "b148b892",
   "metadata": {},
   "source": [
    "# **Goals:**"
   ]
  },
  {
   "cell_type": "markdown",
   "id": "2c9b3b01",
   "metadata": {},
   "source": [
    "* Discover key attributes that influence home value.\n",
    "   * Carefully select attributes that will avoid data leakage.\n",
    "* Use those attributes to develop a machine learning model to predict home value.\n",
    "\n",
    "  \n"
   ]
  },
  {
   "cell_type": "markdown",
   "id": "eaeb77fb",
   "metadata": {},
   "source": [
    "## Imports"
   ]
  },
  {
   "cell_type": "code",
   "execution_count": 1,
   "id": "f6e1acc7",
   "metadata": {},
   "outputs": [],
   "source": [
    "import pandas as pd\n",
    "import numpy as np\n",
    "\n",
    "import matplotlib.pyplot as plt\n",
    "import seaborn as sns\n",
    "\n",
    "import wrangle as w\n",
    "import model as m\n",
    "import explore as e\n",
    "\n",
    "\n",
    "import warnings\n",
    "warnings.filterwarnings(\"ignore\")"
   ]
  },
  {
   "cell_type": "markdown",
   "id": "d47e63fd",
   "metadata": {},
   "source": [
    "# Acquire:"
   ]
  },
  {
   "cell_type": "code",
   "execution_count": 2,
   "id": "5f4a18a2",
   "metadata": {
    "scrolled": false
   },
   "outputs": [],
   "source": [
    "# acquire telco data \n",
    "df = w.get_zillow_data()"
   ]
  },
  {
   "cell_type": "markdown",
   "id": "83311917",
   "metadata": {},
   "source": [
    "* Data acquire from Codeup Database 11/17/22\n",
    "\n",
    "* It contained  52441 rows and 10 columns before cleaning\n",
    "\n",
    "* Each row represents a single family household:\n",
    "    * properties from 2017 with current transactions\n",
    "    * located in the Californian counties of 'Los Angeles' or 'Orange'or 'Ventura'\n",
    "\n",
    "* Each column represents a feature related to the single family residential."
   ]
  },
  {
   "cell_type": "markdown",
   "id": "8c32a11e",
   "metadata": {},
   "source": [
    "# Prepare:"
   ]
  },
  {
   "cell_type": "markdown",
   "id": "b78a7893",
   "metadata": {},
   "source": [
    "prepare actions:\n",
    "* After the follwing steps I retained 95.9% of original data:\n",
    "    * Outliers were removed\n",
    "    (to better fit the definition of Single Family Property):\n",
    "    \n",
    "        * Beds above 6 \n",
    "        * Baths above 6 \n",
    "        * Home values above 1_750_000\n",
    "        * Rows with both 0 beds and 0 baths \n",
    "        \n",
    "    * For the following features it was assumed null values meant the structure did not exist on property:\n",
    "        * fireplace (45198)\n",
    "        * deck (52052)\n",
    "        * pool (41345)\n",
    "        * garage (34425)\n",
    "            \n",
    "    * The following null values were dropped:\n",
    "        * home_value (1)\n",
    "        * squarefeet (82)\n",
    "        * yearbuilt (116)\n",
    "* Create home_age and optional_features\n",
    "* Encoded categorical variables\n",
    "* Split data into train, validate and test \n",
    "    * Approximately: train 56%, validate 24%, test 20%\n",
    "  \n"
   ]
  },
  {
   "cell_type": "markdown",
   "id": "f11fbd93",
   "metadata": {},
   "source": [
    "###                                                        <h1><center>Data Dictionary</center></h1>     \n",
    "\n",
    "|Feature          | Description|\n",
    "| :---------------: | :---------------------------------- |\n",
    "| home_value (target) | The total tax assessed value of the parcel  |\n",
    "| squarefeet:  | Calculated total finished living area of the home |\n",
    "| bathrooms:   |  Number of bathrooms in home including fractional bathrooms |\n",
    "| bedrooms: | Number of bedrooms in home  |\n",
    "| yearbuilt:  |  The Year the principal residence was built   |\n",
    "| fireplace: | fireplace on property (if any = 1) |\n",
    "| deck:  | deck on property (if any = 1) |\n",
    "| pool:  | pool on property (if any = 1) |\n",
    "| garage: | garage on property (if any = 1) |\n",
    "| county: | FIPS code for californian counties: 6111 Ventura County, 6059  Orange County, 6037 Los Angeles County |\n",
    "| home_age: | The age of the home in 2017   |\n",
    "|optional_features: |If a home has any of the follwing: fireplace, deck, pool, garage it is noted as 1   |\n",
    "|additional features: | \tEncoded and values for categorical data\n"
   ]
  },
  {
   "cell_type": "code",
   "execution_count": 3,
   "id": "f58139b3",
   "metadata": {
    "scrolled": true
   },
   "outputs": [],
   "source": [
    "# prepare data \n",
    "df = w.zillow_prep(df)"
   ]
  },
  {
   "cell_type": "code",
   "execution_count": 4,
   "id": "55ead39e",
   "metadata": {},
   "outputs": [],
   "source": [
    "# split data: train, validate and test\n",
    "train, validate, test = w.split_data(df)"
   ]
  },
  {
   "cell_type": "markdown",
   "id": "1500c993",
   "metadata": {},
   "source": [
    "# Looking at the data"
   ]
  },
  {
   "cell_type": "code",
   "execution_count": 5,
   "id": "46ee4353",
   "metadata": {
    "scrolled": true
   },
   "outputs": [
    {
     "data": {
      "text/html": [
       "<div>\n",
       "<style scoped>\n",
       "    .dataframe tbody tr th:only-of-type {\n",
       "        vertical-align: middle;\n",
       "    }\n",
       "\n",
       "    .dataframe tbody tr th {\n",
       "        vertical-align: top;\n",
       "    }\n",
       "\n",
       "    .dataframe thead th {\n",
       "        text-align: right;\n",
       "    }\n",
       "</style>\n",
       "<table border=\"1\" class=\"dataframe\">\n",
       "  <thead>\n",
       "    <tr style=\"text-align: right;\">\n",
       "      <th></th>\n",
       "      <th>home_value</th>\n",
       "      <th>squarefeet</th>\n",
       "      <th>bathrooms</th>\n",
       "      <th>bedrooms</th>\n",
       "      <th>yearbuilt</th>\n",
       "      <th>fireplace</th>\n",
       "      <th>deck</th>\n",
       "      <th>pool</th>\n",
       "      <th>garage</th>\n",
       "      <th>county</th>\n",
       "      <th>home_age</th>\n",
       "      <th>optional_features</th>\n",
       "      <th>los_angeles_county</th>\n",
       "      <th>orange_county</th>\n",
       "      <th>ventura_county</th>\n",
       "    </tr>\n",
       "  </thead>\n",
       "  <tbody>\n",
       "    <tr>\n",
       "      <th>32899</th>\n",
       "      <td>346258.0</td>\n",
       "      <td>1026.0</td>\n",
       "      <td>1.0</td>\n",
       "      <td>2.0</td>\n",
       "      <td>1924.0</td>\n",
       "      <td>0.0</td>\n",
       "      <td>0.0</td>\n",
       "      <td>0.0</td>\n",
       "      <td>0.0</td>\n",
       "      <td>6037.0</td>\n",
       "      <td>93.0</td>\n",
       "      <td>0</td>\n",
       "      <td>1</td>\n",
       "      <td>0</td>\n",
       "      <td>0</td>\n",
       "    </tr>\n",
       "    <tr>\n",
       "      <th>4511</th>\n",
       "      <td>520000.0</td>\n",
       "      <td>1728.0</td>\n",
       "      <td>2.0</td>\n",
       "      <td>3.0</td>\n",
       "      <td>1987.0</td>\n",
       "      <td>0.0</td>\n",
       "      <td>0.0</td>\n",
       "      <td>0.0</td>\n",
       "      <td>0.0</td>\n",
       "      <td>6037.0</td>\n",
       "      <td>30.0</td>\n",
       "      <td>0</td>\n",
       "      <td>1</td>\n",
       "      <td>0</td>\n",
       "      <td>0</td>\n",
       "    </tr>\n",
       "    <tr>\n",
       "      <th>29470</th>\n",
       "      <td>217589.0</td>\n",
       "      <td>1840.0</td>\n",
       "      <td>2.0</td>\n",
       "      <td>4.0</td>\n",
       "      <td>1973.0</td>\n",
       "      <td>0.0</td>\n",
       "      <td>0.0</td>\n",
       "      <td>0.0</td>\n",
       "      <td>1.0</td>\n",
       "      <td>6059.0</td>\n",
       "      <td>44.0</td>\n",
       "      <td>0</td>\n",
       "      <td>0</td>\n",
       "      <td>1</td>\n",
       "      <td>0</td>\n",
       "    </tr>\n",
       "    <tr>\n",
       "      <th>15398</th>\n",
       "      <td>210507.0</td>\n",
       "      <td>2581.0</td>\n",
       "      <td>3.0</td>\n",
       "      <td>4.0</td>\n",
       "      <td>1994.0</td>\n",
       "      <td>0.0</td>\n",
       "      <td>0.0</td>\n",
       "      <td>1.0</td>\n",
       "      <td>0.0</td>\n",
       "      <td>6037.0</td>\n",
       "      <td>23.0</td>\n",
       "      <td>1</td>\n",
       "      <td>1</td>\n",
       "      <td>0</td>\n",
       "      <td>0</td>\n",
       "    </tr>\n",
       "    <tr>\n",
       "      <th>14156</th>\n",
       "      <td>294263.0</td>\n",
       "      <td>902.0</td>\n",
       "      <td>2.0</td>\n",
       "      <td>2.0</td>\n",
       "      <td>1950.0</td>\n",
       "      <td>0.0</td>\n",
       "      <td>0.0</td>\n",
       "      <td>0.0</td>\n",
       "      <td>0.0</td>\n",
       "      <td>6037.0</td>\n",
       "      <td>67.0</td>\n",
       "      <td>0</td>\n",
       "      <td>1</td>\n",
       "      <td>0</td>\n",
       "      <td>0</td>\n",
       "    </tr>\n",
       "    <tr>\n",
       "      <th>32788</th>\n",
       "      <td>241475.0</td>\n",
       "      <td>1719.0</td>\n",
       "      <td>2.5</td>\n",
       "      <td>3.0</td>\n",
       "      <td>1992.0</td>\n",
       "      <td>1.0</td>\n",
       "      <td>0.0</td>\n",
       "      <td>0.0</td>\n",
       "      <td>1.0</td>\n",
       "      <td>6111.0</td>\n",
       "      <td>25.0</td>\n",
       "      <td>1</td>\n",
       "      <td>0</td>\n",
       "      <td>0</td>\n",
       "      <td>1</td>\n",
       "    </tr>\n",
       "    <tr>\n",
       "      <th>19187</th>\n",
       "      <td>108271.0</td>\n",
       "      <td>2018.0</td>\n",
       "      <td>3.0</td>\n",
       "      <td>3.0</td>\n",
       "      <td>1960.0</td>\n",
       "      <td>0.0</td>\n",
       "      <td>0.0</td>\n",
       "      <td>1.0</td>\n",
       "      <td>0.0</td>\n",
       "      <td>6037.0</td>\n",
       "      <td>57.0</td>\n",
       "      <td>1</td>\n",
       "      <td>1</td>\n",
       "      <td>0</td>\n",
       "      <td>0</td>\n",
       "    </tr>\n",
       "    <tr>\n",
       "      <th>29240</th>\n",
       "      <td>243917.0</td>\n",
       "      <td>2542.0</td>\n",
       "      <td>3.0</td>\n",
       "      <td>3.0</td>\n",
       "      <td>1955.0</td>\n",
       "      <td>0.0</td>\n",
       "      <td>0.0</td>\n",
       "      <td>0.0</td>\n",
       "      <td>0.0</td>\n",
       "      <td>6037.0</td>\n",
       "      <td>62.0</td>\n",
       "      <td>0</td>\n",
       "      <td>1</td>\n",
       "      <td>0</td>\n",
       "      <td>0</td>\n",
       "    </tr>\n",
       "    <tr>\n",
       "      <th>24385</th>\n",
       "      <td>482506.0</td>\n",
       "      <td>1668.0</td>\n",
       "      <td>2.0</td>\n",
       "      <td>3.0</td>\n",
       "      <td>1979.0</td>\n",
       "      <td>0.0</td>\n",
       "      <td>0.0</td>\n",
       "      <td>1.0</td>\n",
       "      <td>1.0</td>\n",
       "      <td>6059.0</td>\n",
       "      <td>38.0</td>\n",
       "      <td>1</td>\n",
       "      <td>0</td>\n",
       "      <td>1</td>\n",
       "      <td>0</td>\n",
       "    </tr>\n",
       "    <tr>\n",
       "      <th>46165</th>\n",
       "      <td>413000.0</td>\n",
       "      <td>1351.0</td>\n",
       "      <td>2.0</td>\n",
       "      <td>3.0</td>\n",
       "      <td>1954.0</td>\n",
       "      <td>0.0</td>\n",
       "      <td>0.0</td>\n",
       "      <td>0.0</td>\n",
       "      <td>0.0</td>\n",
       "      <td>6037.0</td>\n",
       "      <td>63.0</td>\n",
       "      <td>0</td>\n",
       "      <td>1</td>\n",
       "      <td>0</td>\n",
       "      <td>0</td>\n",
       "    </tr>\n",
       "  </tbody>\n",
       "</table>\n",
       "</div>"
      ],
      "text/plain": [
       "       home_value  squarefeet  bathrooms  bedrooms  yearbuilt  fireplace  \\\n",
       "32899    346258.0      1026.0        1.0       2.0     1924.0        0.0   \n",
       "4511     520000.0      1728.0        2.0       3.0     1987.0        0.0   \n",
       "29470    217589.0      1840.0        2.0       4.0     1973.0        0.0   \n",
       "15398    210507.0      2581.0        3.0       4.0     1994.0        0.0   \n",
       "14156    294263.0       902.0        2.0       2.0     1950.0        0.0   \n",
       "32788    241475.0      1719.0        2.5       3.0     1992.0        1.0   \n",
       "19187    108271.0      2018.0        3.0       3.0     1960.0        0.0   \n",
       "29240    243917.0      2542.0        3.0       3.0     1955.0        0.0   \n",
       "24385    482506.0      1668.0        2.0       3.0     1979.0        0.0   \n",
       "46165    413000.0      1351.0        2.0       3.0     1954.0        0.0   \n",
       "\n",
       "       deck  pool  garage  county  home_age  optional_features  \\\n",
       "32899   0.0   0.0     0.0  6037.0      93.0                  0   \n",
       "4511    0.0   0.0     0.0  6037.0      30.0                  0   \n",
       "29470   0.0   0.0     1.0  6059.0      44.0                  0   \n",
       "15398   0.0   1.0     0.0  6037.0      23.0                  1   \n",
       "14156   0.0   0.0     0.0  6037.0      67.0                  0   \n",
       "32788   0.0   0.0     1.0  6111.0      25.0                  1   \n",
       "19187   0.0   1.0     0.0  6037.0      57.0                  1   \n",
       "29240   0.0   0.0     0.0  6037.0      62.0                  0   \n",
       "24385   0.0   1.0     1.0  6059.0      38.0                  1   \n",
       "46165   0.0   0.0     0.0  6037.0      63.0                  0   \n",
       "\n",
       "       los_angeles_county  orange_county  ventura_county  \n",
       "32899                   1              0               0  \n",
       "4511                    1              0               0  \n",
       "29470                   0              1               0  \n",
       "15398                   1              0               0  \n",
       "14156                   1              0               0  \n",
       "32788                   0              0               1  \n",
       "19187                   1              0               0  \n",
       "29240                   1              0               0  \n",
       "24385                   0              1               0  \n",
       "46165                   1              0               0  "
      ]
     },
     "execution_count": 5,
     "metadata": {},
     "output_type": "execute_result"
    }
   ],
   "source": [
    "train.head(10)"
   ]
  },
  {
   "cell_type": "markdown",
   "id": "7a07fc42",
   "metadata": {},
   "source": [
    "# Data Summary"
   ]
  },
  {
   "cell_type": "code",
   "execution_count": 6,
   "id": "5a5d1543",
   "metadata": {},
   "outputs": [
    {
     "data": {
      "text/html": [
       "<div>\n",
       "<style scoped>\n",
       "    .dataframe tbody tr th:only-of-type {\n",
       "        vertical-align: middle;\n",
       "    }\n",
       "\n",
       "    .dataframe tbody tr th {\n",
       "        vertical-align: top;\n",
       "    }\n",
       "\n",
       "    .dataframe thead th {\n",
       "        text-align: right;\n",
       "    }\n",
       "</style>\n",
       "<table border=\"1\" class=\"dataframe\">\n",
       "  <thead>\n",
       "    <tr style=\"text-align: right;\">\n",
       "      <th></th>\n",
       "      <th>count</th>\n",
       "      <th>mean</th>\n",
       "      <th>std</th>\n",
       "      <th>min</th>\n",
       "      <th>25%</th>\n",
       "      <th>50%</th>\n",
       "      <th>75%</th>\n",
       "      <th>max</th>\n",
       "    </tr>\n",
       "  </thead>\n",
       "  <tbody>\n",
       "    <tr>\n",
       "      <th>home_value</th>\n",
       "      <td>28159.0</td>\n",
       "      <td>435017.576015</td>\n",
       "      <td>332865.944266</td>\n",
       "      <td>3254.0</td>\n",
       "      <td>187537.5</td>\n",
       "      <td>362951.0</td>\n",
       "      <td>583900.5</td>\n",
       "      <td>1750000.0</td>\n",
       "    </tr>\n",
       "    <tr>\n",
       "      <th>squarefeet</th>\n",
       "      <td>28159.0</td>\n",
       "      <td>1832.225576</td>\n",
       "      <td>803.292556</td>\n",
       "      <td>300.0</td>\n",
       "      <td>1256.0</td>\n",
       "      <td>1633.0</td>\n",
       "      <td>2227.0</td>\n",
       "      <td>8251.0</td>\n",
       "    </tr>\n",
       "    <tr>\n",
       "      <th>bathrooms</th>\n",
       "      <td>28159.0</td>\n",
       "      <td>2.228506</td>\n",
       "      <td>0.884596</td>\n",
       "      <td>1.0</td>\n",
       "      <td>2.0</td>\n",
       "      <td>2.0</td>\n",
       "      <td>3.0</td>\n",
       "      <td>6.0</td>\n",
       "    </tr>\n",
       "    <tr>\n",
       "      <th>bedrooms</th>\n",
       "      <td>28159.0</td>\n",
       "      <td>3.273483</td>\n",
       "      <td>0.886781</td>\n",
       "      <td>1.0</td>\n",
       "      <td>3.0</td>\n",
       "      <td>3.0</td>\n",
       "      <td>4.0</td>\n",
       "      <td>6.0</td>\n",
       "    </tr>\n",
       "    <tr>\n",
       "      <th>yearbuilt</th>\n",
       "      <td>28159.0</td>\n",
       "      <td>1963.118719</td>\n",
       "      <td>22.663952</td>\n",
       "      <td>1878.0</td>\n",
       "      <td>1950.0</td>\n",
       "      <td>1960.0</td>\n",
       "      <td>1978.0</td>\n",
       "      <td>2015.0</td>\n",
       "    </tr>\n",
       "    <tr>\n",
       "      <th>fireplace</th>\n",
       "      <td>28159.0</td>\n",
       "      <td>0.141376</td>\n",
       "      <td>0.348415</td>\n",
       "      <td>0.0</td>\n",
       "      <td>0.0</td>\n",
       "      <td>0.0</td>\n",
       "      <td>0.0</td>\n",
       "      <td>1.0</td>\n",
       "    </tr>\n",
       "    <tr>\n",
       "      <th>deck</th>\n",
       "      <td>28159.0</td>\n",
       "      <td>0.006925</td>\n",
       "      <td>0.082929</td>\n",
       "      <td>0.0</td>\n",
       "      <td>0.0</td>\n",
       "      <td>0.0</td>\n",
       "      <td>0.0</td>\n",
       "      <td>1.0</td>\n",
       "    </tr>\n",
       "    <tr>\n",
       "      <th>pool</th>\n",
       "      <td>28159.0</td>\n",
       "      <td>0.204020</td>\n",
       "      <td>0.402991</td>\n",
       "      <td>0.0</td>\n",
       "      <td>0.0</td>\n",
       "      <td>0.0</td>\n",
       "      <td>0.0</td>\n",
       "      <td>1.0</td>\n",
       "    </tr>\n",
       "    <tr>\n",
       "      <th>garage</th>\n",
       "      <td>28159.0</td>\n",
       "      <td>0.344259</td>\n",
       "      <td>0.475135</td>\n",
       "      <td>0.0</td>\n",
       "      <td>0.0</td>\n",
       "      <td>0.0</td>\n",
       "      <td>1.0</td>\n",
       "      <td>1.0</td>\n",
       "    </tr>\n",
       "    <tr>\n",
       "      <th>county</th>\n",
       "      <td>28159.0</td>\n",
       "      <td>6049.246031</td>\n",
       "      <td>21.220257</td>\n",
       "      <td>6037.0</td>\n",
       "      <td>6037.0</td>\n",
       "      <td>6037.0</td>\n",
       "      <td>6059.0</td>\n",
       "      <td>6111.0</td>\n",
       "    </tr>\n",
       "    <tr>\n",
       "      <th>home_age</th>\n",
       "      <td>28159.0</td>\n",
       "      <td>53.881281</td>\n",
       "      <td>22.663952</td>\n",
       "      <td>2.0</td>\n",
       "      <td>39.0</td>\n",
       "      <td>57.0</td>\n",
       "      <td>67.0</td>\n",
       "      <td>139.0</td>\n",
       "    </tr>\n",
       "    <tr>\n",
       "      <th>optional_features</th>\n",
       "      <td>28159.0</td>\n",
       "      <td>0.325473</td>\n",
       "      <td>0.468560</td>\n",
       "      <td>0.0</td>\n",
       "      <td>0.0</td>\n",
       "      <td>0.0</td>\n",
       "      <td>1.0</td>\n",
       "      <td>1.0</td>\n",
       "    </tr>\n",
       "    <tr>\n",
       "      <th>los_angeles_county</th>\n",
       "      <td>28159.0</td>\n",
       "      <td>0.646578</td>\n",
       "      <td>0.478041</td>\n",
       "      <td>0.0</td>\n",
       "      <td>0.0</td>\n",
       "      <td>1.0</td>\n",
       "      <td>1.0</td>\n",
       "      <td>1.0</td>\n",
       "    </tr>\n",
       "    <tr>\n",
       "      <th>orange_county</th>\n",
       "      <td>28159.0</td>\n",
       "      <td>0.267446</td>\n",
       "      <td>0.442635</td>\n",
       "      <td>0.0</td>\n",
       "      <td>0.0</td>\n",
       "      <td>0.0</td>\n",
       "      <td>1.0</td>\n",
       "      <td>1.0</td>\n",
       "    </tr>\n",
       "    <tr>\n",
       "      <th>ventura_county</th>\n",
       "      <td>28159.0</td>\n",
       "      <td>0.085976</td>\n",
       "      <td>0.280334</td>\n",
       "      <td>0.0</td>\n",
       "      <td>0.0</td>\n",
       "      <td>0.0</td>\n",
       "      <td>0.0</td>\n",
       "      <td>1.0</td>\n",
       "    </tr>\n",
       "  </tbody>\n",
       "</table>\n",
       "</div>"
      ],
      "text/plain": [
       "                      count           mean            std     min       25%  \\\n",
       "home_value          28159.0  435017.576015  332865.944266  3254.0  187537.5   \n",
       "squarefeet          28159.0    1832.225576     803.292556   300.0    1256.0   \n",
       "bathrooms           28159.0       2.228506       0.884596     1.0       2.0   \n",
       "bedrooms            28159.0       3.273483       0.886781     1.0       3.0   \n",
       "yearbuilt           28159.0    1963.118719      22.663952  1878.0    1950.0   \n",
       "fireplace           28159.0       0.141376       0.348415     0.0       0.0   \n",
       "deck                28159.0       0.006925       0.082929     0.0       0.0   \n",
       "pool                28159.0       0.204020       0.402991     0.0       0.0   \n",
       "garage              28159.0       0.344259       0.475135     0.0       0.0   \n",
       "county              28159.0    6049.246031      21.220257  6037.0    6037.0   \n",
       "home_age            28159.0      53.881281      22.663952     2.0      39.0   \n",
       "optional_features   28159.0       0.325473       0.468560     0.0       0.0   \n",
       "los_angeles_county  28159.0       0.646578       0.478041     0.0       0.0   \n",
       "orange_county       28159.0       0.267446       0.442635     0.0       0.0   \n",
       "ventura_county      28159.0       0.085976       0.280334     0.0       0.0   \n",
       "\n",
       "                         50%       75%        max  \n",
       "home_value          362951.0  583900.5  1750000.0  \n",
       "squarefeet            1633.0    2227.0     8251.0  \n",
       "bathrooms                2.0       3.0        6.0  \n",
       "bedrooms                 3.0       4.0        6.0  \n",
       "yearbuilt             1960.0    1978.0     2015.0  \n",
       "fireplace                0.0       0.0        1.0  \n",
       "deck                     0.0       0.0        1.0  \n",
       "pool                     0.0       0.0        1.0  \n",
       "garage                   0.0       1.0        1.0  \n",
       "county                6037.0    6059.0     6111.0  \n",
       "home_age                57.0      67.0      139.0  \n",
       "optional_features        0.0       1.0        1.0  \n",
       "los_angeles_county       1.0       1.0        1.0  \n",
       "orange_county            0.0       1.0        1.0  \n",
       "ventura_county           0.0       0.0        1.0  "
      ]
     },
     "execution_count": 6,
     "metadata": {},
     "output_type": "execute_result"
    }
   ],
   "source": [
    "train.describe().T"
   ]
  },
  {
   "cell_type": "markdown",
   "id": "03e989b5",
   "metadata": {},
   "source": [
    "# Explore:"
   ]
  },
  {
   "cell_type": "markdown",
   "id": "43ec4847",
   "metadata": {},
   "source": [
    "## How do optional features **(fireplace, garage, pool, deck)** influence home value?"
   ]
  },
  {
   "cell_type": "code",
   "execution_count": 7,
   "id": "f375b95d",
   "metadata": {
    "scrolled": false
   },
   "outputs": [
    {
     "data": {
      "image/png": "[encoded data removed]",
      "text/plain": [
       "<Figure size 720x360 with 1 Axes>"
      ]
     },
     "metadata": {
      "needs_background": "light"
     },
     "output_type": "display_data"
    }
   ],
   "source": [
    "# obtain lolipop plot\n",
    "e.get_loliplot(train)"
   ]
  },
  {
   "cell_type": "markdown",
   "id": "e549f0ce",
   "metadata": {},
   "source": [
    "#### Homes with a deck have a higher  home value on average than any other feature. Homes that have none  have the the lowest average home value."
   ]
  },
  {
   "cell_type": "markdown",
   "id": "74c335b1",
   "metadata": {},
   "source": [
    "I will now conduct a T-test to test for **a significant difference between the mean home value of homes with  optional features (such as: garage, fireplace,pool,deck) is greater than the mean home value  of homes with no optional features**\n",
    "\n",
    "* The confidence interval is 95%\n",
    "* Alpha is set to 0.05\n",
    "* p/2 value will be compared to alpha\n",
    "\n",
    "\n",
    "$H_0$: Mean home value of homes with optional featues <= mean home value of homes with no optional features \n",
    "\n",
    "$H_a$: Mean home value of homes with optional featues > mean home value of homes with no optional features "
   ]
  },
  {
   "cell_type": "code",
   "execution_count": 8,
   "id": "5a9ac043",
   "metadata": {
    "scrolled": false
   },
   "outputs": [
    {
     "name": "stdout",
     "output_type": "stream",
     "text": [
      "t-stat 28.8315\n",
      "p-value 0.0\n"
     ]
    }
   ],
   "source": [
    "e.get_ttest_optionalfeature(train)"
   ]
  },
  {
   "cell_type": "markdown",
   "id": "ee25635b",
   "metadata": {},
   "source": [
    "The p-value/2 is less than the alpha. **There is evidence to support that homes that have at least one of the following feature: garage, fireplace, pool,deck on average have a higher home value.** Based on this statistical finding I believe that optional features is a driver of home value.Adding an encoded version of this feature to the model will likely increase the model ability to predict home value."
   ]
  },
  {
   "cell_type": "markdown",
   "id": "0431f87f",
   "metadata": {},
   "source": [
    "# Does more house equal more home value?\n"
   ]
  },
  {
   "cell_type": "code",
   "execution_count": 9,
   "id": "6aec7f28",
   "metadata": {
    "scrolled": true
   },
   "outputs": [
    {
     "data": {
      "image/png": "[encoded data removed]",
      "text/plain": [
       "<Figure size 1080x324 with 3 Axes>"
      ]
     },
     "metadata": {},
     "output_type": "display_data"
    }
   ],
   "source": [
    "# obtain bed, bath and squarfeet graph\n",
    "e.get_regplot_more_house(train)"
   ]
  },
  {
   "cell_type": "markdown",
   "id": "bd18f4cc",
   "metadata": {},
   "source": [
    "#### It clear that more bedrooms , more bathrooms and more square feet space drives the home value up."
   ]
  },
  {
   "cell_type": "markdown",
   "id": "cda1d4fa",
   "metadata": {},
   "source": [
    " # Does county location make a difference in home value?\n",
    "   FIPS     6111: Ventura County    6059: Orange County    6037: Los Angeles County"
   ]
  },
  {
   "cell_type": "code",
   "execution_count": 10,
   "id": "d6996db5",
   "metadata": {},
   "outputs": [
    {
     "data": {
      "image/png": "[encoded data removed]",
      "text/plain": [
       "<Figure size 432x288 with 1 Axes>"
      ]
     },
     "metadata": {},
     "output_type": "display_data"
    }
   ],
   "source": [
    "# obtain counties and home value box_plot\n",
    "e.get_boxplot_county_vs_homevalue(train)"
   ]
  },
  {
   "cell_type": "markdown",
   "id": "c67dc437",
   "metadata": {},
   "source": [
    "* **It seems that different counties have a diffirent home value mean.** Orange county homes have a slightly larger mean home value. Los Angeles county homes have the lowest mean home value."
   ]
  },
  {
   "cell_type": "markdown",
   "id": "2174084c",
   "metadata": {},
   "source": [
    "**I will now conduct an anova test to test for a significant differences between the mean of the three different counties**\n",
    "\n",
    "* The confidence interval is 95%\n",
    "* Alpha is set to 0.05\n",
    "* p value will be compared to alpha\n",
    "\n",
    "\n",
    "$H_0$: There is  two or more counties that have the same home value mean. \n",
    "\n",
    "$H_a$: Mean home value of the 3 diffirent counties is not the same"
   ]
  },
  {
   "cell_type": "code",
   "execution_count": 11,
   "id": "d582b368",
   "metadata": {
    "scrolled": true
   },
   "outputs": [
    {
     "name": "stdout",
     "output_type": "stream",
     "text": [
      "t-stat 391.4815270923903\n",
      "p-value 2.0078897820183972e-168\n"
     ]
    }
   ],
   "source": [
    "# obtain anova test for county vs home_value\n",
    "e.get_anovatest_county_vs_homevalue(train)"
   ]
  },
  {
   "cell_type": "markdown",
   "id": "83fba473",
   "metadata": {},
   "source": [
    "The p-value is less than alpha. **There is evidence to support that the three counties have diffirent home value mean.** Based on this statistical finding I believe that county location is a driver of home value. Adding an encoded version of this feature to the model will likely improve the model ability to predict home value."
   ]
  },
  {
   "cell_type": "markdown",
   "id": "43f35282",
   "metadata": {},
   "source": [
    "# Is home age a driver of home value?"
   ]
  },
  {
   "cell_type": "code",
   "execution_count": 12,
   "id": "8c954e46",
   "metadata": {
    "scrolled": true
   },
   "outputs": [
    {
     "data": {
      "image/png": "[encoded data removed]",
      "text/plain": [
       "<Figure size 504x360 with 1 Axes>"
      ]
     },
     "metadata": {},
     "output_type": "display_data"
    }
   ],
   "source": [
    "# obtain home age vs home value scatterplot\n",
    "e.home_scatterplot(train)"
   ]
  },
  {
   "cell_type": "markdown",
   "id": "42b0783f",
   "metadata": {},
   "source": [
    "* **It seems that there is a relationship between home age and median home value.** The older the home the lower the median age; there are exeptions to this observation."
   ]
  },
  {
   "cell_type": "markdown",
   "id": "437b56c5",
   "metadata": {},
   "source": [
    "**I will now conduct pearsonr test to test for a relationship  between the median home value and home age.**\n",
    "\n",
    "* The confidence interval is 95%\n",
    "* Alpha is set to 0.05\n",
    "* p value will be compared to alpha\n",
    "\n",
    "$H_0$: There is **no linear correlation** between the median home value and home age.\n",
    "\n",
    "$H_a$: There **is a linear relationship** between the median home value and home age\n",
    "\n"
   ]
  },
  {
   "cell_type": "code",
   "execution_count": 13,
   "id": "729529ca",
   "metadata": {},
   "outputs": [
    {
     "name": "stdout",
     "output_type": "stream",
     "text": [
      "correlation -0.24472152550019294\n",
      "p-value 0.0\n"
     ]
    }
   ],
   "source": [
    "# obtrain pearsonr test for home_value vs home_age\n",
    "e.get_pearsonr_homevalue_vs_homeage(train)"
   ]
  },
  {
   "cell_type": "markdown",
   "id": "33de601e",
   "metadata": {},
   "source": [
    "The p-value is less than alpha. There is **evidence to support that there is a relationship between home value and home age.** While it is a weak-negative relatiohsip I believe that adding it to my model will help improve the models ability to predict."
   ]
  },
  {
   "cell_type": "markdown",
   "id": "0babf409",
   "metadata": {},
   "source": [
    "# Exploration Summary"
   ]
  },
  {
   "cell_type": "markdown",
   "id": "f0f0c472",
   "metadata": {},
   "source": [
    "* Homes with a deck feature are among the highest valued homes.\n",
    "* Homes with one or more optional features(fireplace, pool, deck, garage) have a higher home value than homes with no optional features.\n",
    "* The county location of the a home is a driver of home value.\n",
    "* Home value has a correlation with home age."
   ]
  },
  {
   "cell_type": "markdown",
   "id": "b91df37d",
   "metadata": {},
   "source": [
    "# Features that will be included in my model"
   ]
  },
  {
   "cell_type": "markdown",
   "id": "014f864c",
   "metadata": {},
   "source": [
    "* All features selected seem to have and influence or correlation to home value\n",
    "* **Square feet**  (scaled) \n",
    "* **Bathrooms**  (scaled)\n",
    "* **Bedrooms** (scaled)\n",
    "* **Home Age** (scaled)\n",
    "* **County**  (encoded)\n",
    "* **optional_features** (encoded)\n"
   ]
  },
  {
   "cell_type": "markdown",
   "id": "293fa781",
   "metadata": {},
   "source": [
    "# Features that will be not included in my model"
   ]
  },
  {
   "cell_type": "markdown",
   "id": "d20728ae",
   "metadata": {},
   "source": [
    "* **yearbuilt** - redundant information since it is used to calculate home age.\n",
    "* **'Fire place','Garage','Pool','Deck'** - the information will be included in the model through optional_features."
   ]
  },
  {
   "cell_type": "markdown",
   "id": "7adb7a1e",
   "metadata": {},
   "source": [
    "# Modeling:"
   ]
  },
  {
   "cell_type": "markdown",
   "id": "c4064826",
   "metadata": {},
   "source": [
    "* Since the  Home Value is not normaly distributed I will use **median as a baseline** set at $340,572.\n",
    "\n",
    "* $R^2$ is the primary metric I will use to evaluate models and secondary will be a favorable $RMSE$. \n",
    "* $R^2$ helps understand how well the model fits the data.\n",
    "\n",
    "* I will evaluate the following top models on train and validate:\n",
    "        * Polynomial Regression degree 2\n",
    "        * Polynomial Regression degree 2 with interactions only\n",
    "        * Polynomial Regression degree 3\n",
    "        * Polynomial Regression degree 4\n",
    "* The model that performs the best on validate data will be run with test data."
   ]
  },
  {
   "cell_type": "code",
   "execution_count": 14,
   "id": "fc1ac087",
   "metadata": {
    "scrolled": true
   },
   "outputs": [],
   "source": [
    "# prepare data for modeling\n",
    "X_train, y_train, X_validate, y_validate, X_test, y_test = m.model_data_prep(train, validate, test)"
   ]
  },
  {
   "cell_type": "code",
   "execution_count": 15,
   "id": "3249b889",
   "metadata": {},
   "outputs": [],
   "source": [
    "# run predictions on train data for models\n",
    "train_pred, validate_pred, test_pred = m.predictions(X_train,y_train,X_validate,y_validate,X_test, y_test)\n",
    "\n"
   ]
  },
  {
   "cell_type": "markdown",
   "id": "c07aaeb2",
   "metadata": {},
   "source": [
    "# Comparing Top Models on train and Validate "
   ]
  },
  {
   "cell_type": "markdown",
   "id": "6dc23063",
   "metadata": {},
   "source": [
    "### * Baseline Median Home Value                                                            $340,572"
   ]
  },
  {
   "cell_type": "code",
   "execution_count": 16,
   "id": "9474765f",
   "metadata": {
    "scrolled": false
   },
   "outputs": [
    {
     "data": {
      "text/html": [
       "<div>\n",
       "<style scoped>\n",
       "    .dataframe tbody tr th:only-of-type {\n",
       "        vertical-align: middle;\n",
       "    }\n",
       "\n",
       "    .dataframe tbody tr th {\n",
       "        vertical-align: top;\n",
       "    }\n",
       "\n",
       "    .dataframe thead th {\n",
       "        text-align: right;\n",
       "    }\n",
       "</style>\n",
       "<table border=\"1\" class=\"dataframe\">\n",
       "  <thead>\n",
       "    <tr style=\"text-align: right;\">\n",
       "      <th></th>\n",
       "      <th>model</th>\n",
       "      <th>train_RMSE</th>\n",
       "      <th>train_R2</th>\n",
       "      <th>val_RMSE</th>\n",
       "      <th>val_R2</th>\n",
       "    </tr>\n",
       "  </thead>\n",
       "  <tbody>\n",
       "    <tr>\n",
       "      <th>0</th>\n",
       "      <td>actual</td>\n",
       "      <td>0.0</td>\n",
       "      <td>1.0</td>\n",
       "      <td>0.0</td>\n",
       "      <td>1.0</td>\n",
       "    </tr>\n",
       "    <tr>\n",
       "      <th>1</th>\n",
       "      <td>baseline_median</td>\n",
       "      <td>340572.0</td>\n",
       "      <td>0.0</td>\n",
       "      <td>333213.0</td>\n",
       "      <td>0.0</td>\n",
       "    </tr>\n",
       "    <tr>\n",
       "      <th>2</th>\n",
       "      <td>poly_d2</td>\n",
       "      <td>264335.0</td>\n",
       "      <td>0.369357</td>\n",
       "      <td>257373.0</td>\n",
       "      <td>0.38237</td>\n",
       "    </tr>\n",
       "    <tr>\n",
       "      <th>3</th>\n",
       "      <td>Ipoly_d2</td>\n",
       "      <td>264575.0</td>\n",
       "      <td>0.368207</td>\n",
       "      <td>257777.0</td>\n",
       "      <td>0.380303</td>\n",
       "    </tr>\n",
       "    <tr>\n",
       "      <th>4</th>\n",
       "      <td>poly_d3</td>\n",
       "      <td>260512.0</td>\n",
       "      <td>0.387463</td>\n",
       "      <td>255389.0</td>\n",
       "      <td>0.391662</td>\n",
       "    </tr>\n",
       "    <tr>\n",
       "      <th>5</th>\n",
       "      <td>poly_d4</td>\n",
       "      <td>258806.0</td>\n",
       "      <td>0.395458</td>\n",
       "      <td>256378.0</td>\n",
       "      <td>0.387044</td>\n",
       "    </tr>\n",
       "  </tbody>\n",
       "</table>\n",
       "</div>"
      ],
      "text/plain": [
       "             model train_RMSE  train_R2  val_RMSE    val_R2\n",
       "0           actual        0.0       1.0       0.0       1.0\n",
       "1  baseline_median   340572.0       0.0  333213.0       0.0\n",
       "2          poly_d2   264335.0  0.369357  257373.0   0.38237\n",
       "3         Ipoly_d2   264575.0  0.368207  257777.0  0.380303\n",
       "4          poly_d3   260512.0  0.387463  255389.0  0.391662\n",
       "5          poly_d4   258806.0  0.395458  256378.0  0.387044"
      ]
     },
     "execution_count": 16,
     "metadata": {},
     "output_type": "execute_result"
    }
   ],
   "source": [
    "m.metrics(train_pred,y_train, validate_pred, y_validate)\n"
   ]
  },
  {
   "cell_type": "markdown",
   "id": "81ab9a2d",
   "metadata": {},
   "source": [
    "All models outperformed median baseline in terms of RMSE in both train and validate data.\n",
    "\n",
    "Polynomial Regressor degree 4 did best in train data in both RMSE and $R^2$\n",
    "\n",
    "The model with the best $R^2$ and RMSE in validate data is Polynomial Regressor degree 3."
   ]
  },
  {
   "cell_type": "markdown",
   "id": "575a6c3d",
   "metadata": {},
   "source": [
    "**I will select model Polynomial Regressor degree 3 since it has the highest R2 and a least RMSE to other models on validate**"
   ]
  },
  {
   "cell_type": "markdown",
   "id": "eb4dc015",
   "metadata": {},
   "source": [
    "# Model on Test data"
   ]
  },
  {
   "cell_type": "code",
   "execution_count": 17,
   "id": "60e4cac9",
   "metadata": {
    "scrolled": false
   },
   "outputs": [
    {
     "data": {
      "text/html": [
       "<div>\n",
       "<style scoped>\n",
       "    .dataframe tbody tr th:only-of-type {\n",
       "        vertical-align: middle;\n",
       "    }\n",
       "\n",
       "    .dataframe tbody tr th {\n",
       "        vertical-align: top;\n",
       "    }\n",
       "\n",
       "    .dataframe thead th {\n",
       "        text-align: right;\n",
       "    }\n",
       "</style>\n",
       "<table border=\"1\" class=\"dataframe\">\n",
       "  <thead>\n",
       "    <tr style=\"text-align: right;\">\n",
       "      <th></th>\n",
       "      <th>model</th>\n",
       "      <th>test_RMSE</th>\n",
       "      <th>test_R2</th>\n",
       "    </tr>\n",
       "  </thead>\n",
       "  <tbody>\n",
       "    <tr>\n",
       "      <th>0</th>\n",
       "      <td>poly_d3</td>\n",
       "      <td>256202.0</td>\n",
       "      <td>0.370163</td>\n",
       "    </tr>\n",
       "    <tr>\n",
       "      <th>1</th>\n",
       "      <td>baseline_median</td>\n",
       "      <td>329841.0</td>\n",
       "      <td>0.0</td>\n",
       "    </tr>\n",
       "  </tbody>\n",
       "</table>\n",
       "</div>"
      ],
      "text/plain": [
       "             model test_RMSE   test_R2\n",
       "0          poly_d3  256202.0  0.370163\n",
       "1  baseline_median  329841.0       0.0"
      ]
     },
     "execution_count": 17,
     "metadata": {},
     "output_type": "execute_result"
    }
   ],
   "source": [
    "# get metrics on Final Model\n",
    "m.metric_test(test_pred[['poly_d3','baseline_median']],y_test)"
   ]
  },
  {
   "cell_type": "markdown",
   "id": "7a3f2e74",
   "metadata": {},
   "source": [
    "## Modeling Summary"
   ]
  },
  {
   "cell_type": "markdown",
   "id": "c40cc762",
   "metadata": {},
   "source": [
    "* All models performed better than the baseline\n",
    "* The Final Model Polynomial Regressor degree 3 had an $R^2$ or .37 on test data and had a better RMSE than baseline by $73,639."
   ]
  },
  {
   "cell_type": "code",
   "execution_count": 18,
   "id": "0213e1f8",
   "metadata": {},
   "outputs": [
    {
     "data": {
      "image/png": "[encoded data removed]",
      "text/plain": [
       "<Figure size 1152x576 with 1 Axes>"
      ]
     },
     "metadata": {},
     "output_type": "display_data"
    }
   ],
   "source": [
    "e.distribution_top_model(y_test, test_pred)   \n"
   ]
  },
  {
   "cell_type": "markdown",
   "id": "f896f6c0",
   "metadata": {},
   "source": [
    "# Conclusion"
   ]
  },
  {
   "cell_type": "markdown",
   "id": "fcbf80fc",
   "metadata": {},
   "source": [
    "## Exploration\n",
    "\n"
   ]
  },
  {
   "cell_type": "markdown",
   "id": "8fbf3a1f",
   "metadata": {},
   "source": [
    "* Homes with an optional feature such as deck, pools, garage, fireplace have more value.\n",
    "* Home with more bedrooms and bathrooms tend to have more value on average.\n",
    "* County location make a difference in home value.\n",
    "* Home age has a relationship with home value."
   ]
  },
  {
   "cell_type": "markdown",
   "id": "058105b7",
   "metadata": {},
   "source": [
    "## Modeling"
   ]
  },
  {
   "cell_type": "markdown",
   "id": "ed93530a",
   "metadata": {},
   "source": [
    "**The final model has an $R^2$ of 0.37 and performed  better than the median baseline by $ 73,639 RMSE** \n"
   ]
  },
  {
   "cell_type": "markdown",
   "id": "c1a19a11",
   "metadata": {},
   "source": [
    "## Recommendations"
   ]
  },
  {
   "cell_type": "markdown",
   "id": "7030b4ae",
   "metadata": {},
   "source": [
    "* Standardize methods of data collection to increase data accuracy; this will likely improve models ability to predict future home values."
   ]
  },
  {
   "cell_type": "markdown",
   "id": "14228d48",
   "metadata": {},
   "source": [
    "## Next Steps"
   ]
  },
  {
   "cell_type": "markdown",
   "id": "8550784b",
   "metadata": {},
   "source": [
    "* Look into locations of homes with information about neighborhoods and/or longitute and latitute to explore relationships between location and home value.\n",
    "* Explore if lot size has and influence on home value.\n"
   ]
  }
 ],
 "metadata": {
  "kernelspec": {
   "display_name": "Python 3 (ipykernel)",
   "language": "python",
   "name": "python3"
  },
  "language_info": {
   "codemirror_mode": {
    "name": "ipython",
    "version": 3
   },
   "file_extension": ".py",
   "mimetype": "text/x-python",
   "name": "python",
   "nbconvert_exporter": "python",
   "pygments_lexer": "ipython3",
   "version": "3.9.12"
  }
 },
 "nbformat": 4,
 "nbformat_minor": 5
}
