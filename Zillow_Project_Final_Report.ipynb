{
 "cells": [
  {
   "cell_type": "markdown",
   "id": "11bba3ec",
   "metadata": {},
   "source": [
    "# Working notebook 4"
   ]
  },
  {
   "cell_type": "markdown",
   "id": "b148b892",
   "metadata": {},
   "source": [
    "# **Goals:**"
   ]
  },
  {
   "cell_type": "markdown",
   "id": "2c9b3b01",
   "metadata": {},
   "source": [
    "* Discover key attributes that drive and have a high correlation with home value.\n",
    "\n",
    "* Use those attributes to develop a machine learning model to predict home value.\n",
    "\n",
    "    * Carefully select features that will prevent data leakage. \n"
   ]
  },
  {
   "cell_type": "markdown",
   "id": "eaeb77fb",
   "metadata": {},
   "source": [
    "## Imports"
   ]
  },
  {
   "cell_type": "code",
   "execution_count": 1,
   "id": "f6e1acc7",
   "metadata": {},
   "outputs": [],
   "source": [
    "import pandas as pd\n",
    "import numpy as np\n",
    "\n",
    "import matplotlib.pyplot as plt\n",
    "import seaborn as sns\n",
    "\n",
    "import wrangle as w\n",
    "import model as m\n",
    "import explore as e"
   ]
  },
  {
   "cell_type": "markdown",
   "id": "d47e63fd",
   "metadata": {},
   "source": [
    "# Acquire:"
   ]
  },
  {
   "cell_type": "code",
   "execution_count": 2,
   "id": "5f4a18a2",
   "metadata": {
    "scrolled": false
   },
   "outputs": [],
   "source": [
    "# acquire telco data \n",
    "df = w.get_zillow_data()"
   ]
  },
  {
   "cell_type": "markdown",
   "id": "83311917",
   "metadata": {},
   "source": [
    "* Data acquire from Codeup Database 11/17/22\n",
    "\n",
    "* It contained  52441 rows and 10 columns before cleaning\n",
    "\n",
    "* Each row represents a single family household:\n",
    "    * properties from 2017 with current transactions\n",
    "    * located in the Californian counties of 'Los Angeles' or 'Orange'or 'Ventura'\n",
    "\n",
    "* Each column represents a feature related to the single family residential."
   ]
  },
  {
   "cell_type": "markdown",
   "id": "f11fbd93",
   "metadata": {},
   "source": [
    "###                                                        <h1><center>Data Dictionary</center></h1>     \n",
    "\n",
    "\n",
    "|Feature          | Description|\n",
    "| :---------------: | :---------------------------------- |\n",
    "| home_value (target) | The total tax assessed value of the parcel  |\n",
    "| squarefeet:  | Calculated total finished living area of the home |\n",
    "| bathrooms:   |  Number of bathrooms in home including fractional bathrooms |\n",
    "| bedrooms: | Number of bedrooms in home  |\n",
    "| yearbuilt:  |  The Year the principal residence was built   |\n",
    "| fireplace: | fireplace on property (if any = 1) |\n",
    "| deck:  | deck on property (if any = 1) |\n",
    "| pool:  | pool on property (if any = 1) |\n",
    "| garage: | garage on property (if any = 1) |\n",
    "| county: | FIPS code for californian counties: 6111 Ventura County, 6059  Orange County, 6037 Los Angeles County |\n",
    "| home_age: | The age of the home in 2017   |\n",
    "|optional_features: |If a home has any of the follwing: fireplace, deck, pool, garage it is noted as 1   |\n",
    "|additional features: | \tEncoded and values for categorical data"
   ]
  },
  {
   "cell_type": "markdown",
   "id": "8c32a11e",
   "metadata": {},
   "source": [
    "# Prepare:"
   ]
  },
  {
   "cell_type": "code",
   "execution_count": 3,
   "id": "f58139b3",
   "metadata": {
    "scrolled": true
   },
   "outputs": [],
   "source": [
    "# prepare data \n",
    "df = w.zillow_prep(df)"
   ]
  },
  {
   "cell_type": "code",
   "execution_count": 4,
   "id": "55ead39e",
   "metadata": {},
   "outputs": [],
   "source": [
    "# split data: train, validate and test\n",
    "train, validate, test = w.split_data(df)"
   ]
  },
  {
   "cell_type": "markdown",
   "id": "b78a7893",
   "metadata": {},
   "source": [
    "prepare actions:\n",
    "* After the follwing steps I retained 95.9% of original data:\n",
    "    * Outliers were removed\n",
    "    (to better fit the definition of Single Family Property):\n",
    "    \n",
    "        * Beds above 6 \n",
    "        * Baths above 6 \n",
    "        * Home values above 1_750_000\n",
    "        * Rows with both 0 beds and 0 baths \n",
    "        \n",
    "    * For the following features it was assumed null values meant the structure did not exist on property:\n",
    "        * fireplace (45198)\n",
    "        * deck (52052)\n",
    "        * pool (41345)\n",
    "        * garage (34425)\n",
    "            \n",
    "    * The following null values were dropped:\n",
    "        * home_value (1)\n",
    "        * squarefeet (82)\n",
    "        * yearbuilt (116)\n",
    "\n",
    "* Encoded categorical variables\n",
    "* Split data into train, validate and test \n",
    "    * Approximately: train 56%, validate 24%, test 20%\n",
    "  \n"
   ]
  },
  {
   "cell_type": "markdown",
   "id": "1500c993",
   "metadata": {},
   "source": [
    "# Looking at the data"
   ]
  },
  {
   "cell_type": "code",
   "execution_count": 5,
   "id": "46ee4353",
   "metadata": {
    "scrolled": true
   },
   "outputs": [
    {
     "data": {
      "text/html": [
       "<div>\n",
       "<style scoped>\n",
       "    .dataframe tbody tr th:only-of-type {\n",
       "        vertical-align: middle;\n",
       "    }\n",
       "\n",
       "    .dataframe tbody tr th {\n",
       "        vertical-align: top;\n",
       "    }\n",
       "\n",
       "    .dataframe thead th {\n",
       "        text-align: right;\n",
       "    }\n",
       "</style>\n",
       "<table border=\"1\" class=\"dataframe\">\n",
       "  <thead>\n",
       "    <tr style=\"text-align: right;\">\n",
       "      <th></th>\n",
       "      <th>home_value</th>\n",
       "      <th>squarefeet</th>\n",
       "      <th>bathrooms</th>\n",
       "      <th>bedrooms</th>\n",
       "      <th>yearbuilt</th>\n",
       "      <th>fireplace</th>\n",
       "      <th>deck</th>\n",
       "      <th>pool</th>\n",
       "      <th>garage</th>\n",
       "      <th>county</th>\n",
       "      <th>home_age</th>\n",
       "      <th>optional_features</th>\n",
       "      <th>los_angeles_county</th>\n",
       "      <th>orange_county</th>\n",
       "      <th>ventura_county</th>\n",
       "    </tr>\n",
       "  </thead>\n",
       "  <tbody>\n",
       "    <tr>\n",
       "      <th>32899</th>\n",
       "      <td>346258.0</td>\n",
       "      <td>1026.0</td>\n",
       "      <td>1.0</td>\n",
       "      <td>2.0</td>\n",
       "      <td>1924.0</td>\n",
       "      <td>0.0</td>\n",
       "      <td>0.0</td>\n",
       "      <td>0.0</td>\n",
       "      <td>0.0</td>\n",
       "      <td>6037.0</td>\n",
       "      <td>93.0</td>\n",
       "      <td>0</td>\n",
       "      <td>1</td>\n",
       "      <td>0</td>\n",
       "      <td>0</td>\n",
       "    </tr>\n",
       "    <tr>\n",
       "      <th>4511</th>\n",
       "      <td>520000.0</td>\n",
       "      <td>1728.0</td>\n",
       "      <td>2.0</td>\n",
       "      <td>3.0</td>\n",
       "      <td>1987.0</td>\n",
       "      <td>0.0</td>\n",
       "      <td>0.0</td>\n",
       "      <td>0.0</td>\n",
       "      <td>0.0</td>\n",
       "      <td>6037.0</td>\n",
       "      <td>30.0</td>\n",
       "      <td>0</td>\n",
       "      <td>1</td>\n",
       "      <td>0</td>\n",
       "      <td>0</td>\n",
       "    </tr>\n",
       "    <tr>\n",
       "      <th>29470</th>\n",
       "      <td>217589.0</td>\n",
       "      <td>1840.0</td>\n",
       "      <td>2.0</td>\n",
       "      <td>4.0</td>\n",
       "      <td>1973.0</td>\n",
       "      <td>0.0</td>\n",
       "      <td>0.0</td>\n",
       "      <td>0.0</td>\n",
       "      <td>1.0</td>\n",
       "      <td>6059.0</td>\n",
       "      <td>44.0</td>\n",
       "      <td>0</td>\n",
       "      <td>0</td>\n",
       "      <td>1</td>\n",
       "      <td>0</td>\n",
       "    </tr>\n",
       "    <tr>\n",
       "      <th>15398</th>\n",
       "      <td>210507.0</td>\n",
       "      <td>2581.0</td>\n",
       "      <td>3.0</td>\n",
       "      <td>4.0</td>\n",
       "      <td>1994.0</td>\n",
       "      <td>0.0</td>\n",
       "      <td>0.0</td>\n",
       "      <td>1.0</td>\n",
       "      <td>0.0</td>\n",
       "      <td>6037.0</td>\n",
       "      <td>23.0</td>\n",
       "      <td>1</td>\n",
       "      <td>1</td>\n",
       "      <td>0</td>\n",
       "      <td>0</td>\n",
       "    </tr>\n",
       "    <tr>\n",
       "      <th>14156</th>\n",
       "      <td>294263.0</td>\n",
       "      <td>902.0</td>\n",
       "      <td>2.0</td>\n",
       "      <td>2.0</td>\n",
       "      <td>1950.0</td>\n",
       "      <td>0.0</td>\n",
       "      <td>0.0</td>\n",
       "      <td>0.0</td>\n",
       "      <td>0.0</td>\n",
       "      <td>6037.0</td>\n",
       "      <td>67.0</td>\n",
       "      <td>0</td>\n",
       "      <td>1</td>\n",
       "      <td>0</td>\n",
       "      <td>0</td>\n",
       "    </tr>\n",
       "    <tr>\n",
       "      <th>32788</th>\n",
       "      <td>241475.0</td>\n",
       "      <td>1719.0</td>\n",
       "      <td>2.5</td>\n",
       "      <td>3.0</td>\n",
       "      <td>1992.0</td>\n",
       "      <td>1.0</td>\n",
       "      <td>0.0</td>\n",
       "      <td>0.0</td>\n",
       "      <td>1.0</td>\n",
       "      <td>6111.0</td>\n",
       "      <td>25.0</td>\n",
       "      <td>1</td>\n",
       "      <td>0</td>\n",
       "      <td>0</td>\n",
       "      <td>1</td>\n",
       "    </tr>\n",
       "    <tr>\n",
       "      <th>19187</th>\n",
       "      <td>108271.0</td>\n",
       "      <td>2018.0</td>\n",
       "      <td>3.0</td>\n",
       "      <td>3.0</td>\n",
       "      <td>1960.0</td>\n",
       "      <td>0.0</td>\n",
       "      <td>0.0</td>\n",
       "      <td>1.0</td>\n",
       "      <td>0.0</td>\n",
       "      <td>6037.0</td>\n",
       "      <td>57.0</td>\n",
       "      <td>1</td>\n",
       "      <td>1</td>\n",
       "      <td>0</td>\n",
       "      <td>0</td>\n",
       "    </tr>\n",
       "    <tr>\n",
       "      <th>29240</th>\n",
       "      <td>243917.0</td>\n",
       "      <td>2542.0</td>\n",
       "      <td>3.0</td>\n",
       "      <td>3.0</td>\n",
       "      <td>1955.0</td>\n",
       "      <td>0.0</td>\n",
       "      <td>0.0</td>\n",
       "      <td>0.0</td>\n",
       "      <td>0.0</td>\n",
       "      <td>6037.0</td>\n",
       "      <td>62.0</td>\n",
       "      <td>0</td>\n",
       "      <td>1</td>\n",
       "      <td>0</td>\n",
       "      <td>0</td>\n",
       "    </tr>\n",
       "    <tr>\n",
       "      <th>24385</th>\n",
       "      <td>482506.0</td>\n",
       "      <td>1668.0</td>\n",
       "      <td>2.0</td>\n",
       "      <td>3.0</td>\n",
       "      <td>1979.0</td>\n",
       "      <td>0.0</td>\n",
       "      <td>0.0</td>\n",
       "      <td>1.0</td>\n",
       "      <td>1.0</td>\n",
       "      <td>6059.0</td>\n",
       "      <td>38.0</td>\n",
       "      <td>1</td>\n",
       "      <td>0</td>\n",
       "      <td>1</td>\n",
       "      <td>0</td>\n",
       "    </tr>\n",
       "    <tr>\n",
       "      <th>46165</th>\n",
       "      <td>413000.0</td>\n",
       "      <td>1351.0</td>\n",
       "      <td>2.0</td>\n",
       "      <td>3.0</td>\n",
       "      <td>1954.0</td>\n",
       "      <td>0.0</td>\n",
       "      <td>0.0</td>\n",
       "      <td>0.0</td>\n",
       "      <td>0.0</td>\n",
       "      <td>6037.0</td>\n",
       "      <td>63.0</td>\n",
       "      <td>0</td>\n",
       "      <td>1</td>\n",
       "      <td>0</td>\n",
       "      <td>0</td>\n",
       "    </tr>\n",
       "  </tbody>\n",
       "</table>\n",
       "</div>"
      ],
      "text/plain": [
       "       home_value  squarefeet  bathrooms  bedrooms  yearbuilt  fireplace  \\\n",
       "32899    346258.0      1026.0        1.0       2.0     1924.0        0.0   \n",
       "4511     520000.0      1728.0        2.0       3.0     1987.0        0.0   \n",
       "29470    217589.0      1840.0        2.0       4.0     1973.0        0.0   \n",
       "15398    210507.0      2581.0        3.0       4.0     1994.0        0.0   \n",
       "14156    294263.0       902.0        2.0       2.0     1950.0        0.0   \n",
       "32788    241475.0      1719.0        2.5       3.0     1992.0        1.0   \n",
       "19187    108271.0      2018.0        3.0       3.0     1960.0        0.0   \n",
       "29240    243917.0      2542.0        3.0       3.0     1955.0        0.0   \n",
       "24385    482506.0      1668.0        2.0       3.0     1979.0        0.0   \n",
       "46165    413000.0      1351.0        2.0       3.0     1954.0        0.0   \n",
       "\n",
       "       deck  pool  garage  county  home_age  optional_features  \\\n",
       "32899   0.0   0.0     0.0  6037.0      93.0                  0   \n",
       "4511    0.0   0.0     0.0  6037.0      30.0                  0   \n",
       "29470   0.0   0.0     1.0  6059.0      44.0                  0   \n",
       "15398   0.0   1.0     0.0  6037.0      23.0                  1   \n",
       "14156   0.0   0.0     0.0  6037.0      67.0                  0   \n",
       "32788   0.0   0.0     1.0  6111.0      25.0                  1   \n",
       "19187   0.0   1.0     0.0  6037.0      57.0                  1   \n",
       "29240   0.0   0.0     0.0  6037.0      62.0                  0   \n",
       "24385   0.0   1.0     1.0  6059.0      38.0                  1   \n",
       "46165   0.0   0.0     0.0  6037.0      63.0                  0   \n",
       "\n",
       "       los_angeles_county  orange_county  ventura_county  \n",
       "32899                   1              0               0  \n",
       "4511                    1              0               0  \n",
       "29470                   0              1               0  \n",
       "15398                   1              0               0  \n",
       "14156                   1              0               0  \n",
       "32788                   0              0               1  \n",
       "19187                   1              0               0  \n",
       "29240                   1              0               0  \n",
       "24385                   0              1               0  \n",
       "46165                   1              0               0  "
      ]
     },
     "execution_count": 5,
     "metadata": {},
     "output_type": "execute_result"
    }
   ],
   "source": [
    "train.head(10)"
   ]
  },
  {
   "cell_type": "markdown",
   "id": "7a07fc42",
   "metadata": {},
   "source": [
    "# Data Summary"
   ]
  },
  {
   "cell_type": "code",
   "execution_count": 6,
   "id": "5a5d1543",
   "metadata": {},
   "outputs": [
    {
     "data": {
      "text/html": [
       "<div>\n",
       "<style scoped>\n",
       "    .dataframe tbody tr th:only-of-type {\n",
       "        vertical-align: middle;\n",
       "    }\n",
       "\n",
       "    .dataframe tbody tr th {\n",
       "        vertical-align: top;\n",
       "    }\n",
       "\n",
       "    .dataframe thead th {\n",
       "        text-align: right;\n",
       "    }\n",
       "</style>\n",
       "<table border=\"1\" class=\"dataframe\">\n",
       "  <thead>\n",
       "    <tr style=\"text-align: right;\">\n",
       "      <th></th>\n",
       "      <th>count</th>\n",
       "      <th>mean</th>\n",
       "      <th>std</th>\n",
       "      <th>min</th>\n",
       "      <th>25%</th>\n",
       "      <th>50%</th>\n",
       "      <th>75%</th>\n",
       "      <th>max</th>\n",
       "    </tr>\n",
       "  </thead>\n",
       "  <tbody>\n",
       "    <tr>\n",
       "      <th>home_value</th>\n",
       "      <td>28159.0</td>\n",
       "      <td>435017.576015</td>\n",
       "      <td>332865.944266</td>\n",
       "      <td>3254.0</td>\n",
       "      <td>187537.5</td>\n",
       "      <td>362951.0</td>\n",
       "      <td>583900.5</td>\n",
       "      <td>1750000.0</td>\n",
       "    </tr>\n",
       "    <tr>\n",
       "      <th>squarefeet</th>\n",
       "      <td>28159.0</td>\n",
       "      <td>1832.225576</td>\n",
       "      <td>803.292556</td>\n",
       "      <td>300.0</td>\n",
       "      <td>1256.0</td>\n",
       "      <td>1633.0</td>\n",
       "      <td>2227.0</td>\n",
       "      <td>8251.0</td>\n",
       "    </tr>\n",
       "    <tr>\n",
       "      <th>bathrooms</th>\n",
       "      <td>28159.0</td>\n",
       "      <td>2.228506</td>\n",
       "      <td>0.884596</td>\n",
       "      <td>1.0</td>\n",
       "      <td>2.0</td>\n",
       "      <td>2.0</td>\n",
       "      <td>3.0</td>\n",
       "      <td>6.0</td>\n",
       "    </tr>\n",
       "    <tr>\n",
       "      <th>bedrooms</th>\n",
       "      <td>28159.0</td>\n",
       "      <td>3.273483</td>\n",
       "      <td>0.886781</td>\n",
       "      <td>1.0</td>\n",
       "      <td>3.0</td>\n",
       "      <td>3.0</td>\n",
       "      <td>4.0</td>\n",
       "      <td>6.0</td>\n",
       "    </tr>\n",
       "    <tr>\n",
       "      <th>yearbuilt</th>\n",
       "      <td>28159.0</td>\n",
       "      <td>1963.118719</td>\n",
       "      <td>22.663952</td>\n",
       "      <td>1878.0</td>\n",
       "      <td>1950.0</td>\n",
       "      <td>1960.0</td>\n",
       "      <td>1978.0</td>\n",
       "      <td>2015.0</td>\n",
       "    </tr>\n",
       "    <tr>\n",
       "      <th>fireplace</th>\n",
       "      <td>28159.0</td>\n",
       "      <td>0.141376</td>\n",
       "      <td>0.348415</td>\n",
       "      <td>0.0</td>\n",
       "      <td>0.0</td>\n",
       "      <td>0.0</td>\n",
       "      <td>0.0</td>\n",
       "      <td>1.0</td>\n",
       "    </tr>\n",
       "    <tr>\n",
       "      <th>deck</th>\n",
       "      <td>28159.0</td>\n",
       "      <td>0.006925</td>\n",
       "      <td>0.082929</td>\n",
       "      <td>0.0</td>\n",
       "      <td>0.0</td>\n",
       "      <td>0.0</td>\n",
       "      <td>0.0</td>\n",
       "      <td>1.0</td>\n",
       "    </tr>\n",
       "    <tr>\n",
       "      <th>pool</th>\n",
       "      <td>28159.0</td>\n",
       "      <td>0.204020</td>\n",
       "      <td>0.402991</td>\n",
       "      <td>0.0</td>\n",
       "      <td>0.0</td>\n",
       "      <td>0.0</td>\n",
       "      <td>0.0</td>\n",
       "      <td>1.0</td>\n",
       "    </tr>\n",
       "    <tr>\n",
       "      <th>garage</th>\n",
       "      <td>28159.0</td>\n",
       "      <td>0.344259</td>\n",
       "      <td>0.475135</td>\n",
       "      <td>0.0</td>\n",
       "      <td>0.0</td>\n",
       "      <td>0.0</td>\n",
       "      <td>1.0</td>\n",
       "      <td>1.0</td>\n",
       "    </tr>\n",
       "    <tr>\n",
       "      <th>county</th>\n",
       "      <td>28159.0</td>\n",
       "      <td>6049.246031</td>\n",
       "      <td>21.220257</td>\n",
       "      <td>6037.0</td>\n",
       "      <td>6037.0</td>\n",
       "      <td>6037.0</td>\n",
       "      <td>6059.0</td>\n",
       "      <td>6111.0</td>\n",
       "    </tr>\n",
       "    <tr>\n",
       "      <th>home_age</th>\n",
       "      <td>28159.0</td>\n",
       "      <td>53.881281</td>\n",
       "      <td>22.663952</td>\n",
       "      <td>2.0</td>\n",
       "      <td>39.0</td>\n",
       "      <td>57.0</td>\n",
       "      <td>67.0</td>\n",
       "      <td>139.0</td>\n",
       "    </tr>\n",
       "    <tr>\n",
       "      <th>optional_features</th>\n",
       "      <td>28159.0</td>\n",
       "      <td>0.325473</td>\n",
       "      <td>0.468560</td>\n",
       "      <td>0.0</td>\n",
       "      <td>0.0</td>\n",
       "      <td>0.0</td>\n",
       "      <td>1.0</td>\n",
       "      <td>1.0</td>\n",
       "    </tr>\n",
       "    <tr>\n",
       "      <th>los_angeles_county</th>\n",
       "      <td>28159.0</td>\n",
       "      <td>0.646578</td>\n",
       "      <td>0.478041</td>\n",
       "      <td>0.0</td>\n",
       "      <td>0.0</td>\n",
       "      <td>1.0</td>\n",
       "      <td>1.0</td>\n",
       "      <td>1.0</td>\n",
       "    </tr>\n",
       "    <tr>\n",
       "      <th>orange_county</th>\n",
       "      <td>28159.0</td>\n",
       "      <td>0.267446</td>\n",
       "      <td>0.442635</td>\n",
       "      <td>0.0</td>\n",
       "      <td>0.0</td>\n",
       "      <td>0.0</td>\n",
       "      <td>1.0</td>\n",
       "      <td>1.0</td>\n",
       "    </tr>\n",
       "    <tr>\n",
       "      <th>ventura_county</th>\n",
       "      <td>28159.0</td>\n",
       "      <td>0.085976</td>\n",
       "      <td>0.280334</td>\n",
       "      <td>0.0</td>\n",
       "      <td>0.0</td>\n",
       "      <td>0.0</td>\n",
       "      <td>0.0</td>\n",
       "      <td>1.0</td>\n",
       "    </tr>\n",
       "  </tbody>\n",
       "</table>\n",
       "</div>"
      ],
      "text/plain": [
       "                      count           mean            std     min       25%  \\\n",
       "home_value          28159.0  435017.576015  332865.944266  3254.0  187537.5   \n",
       "squarefeet          28159.0    1832.225576     803.292556   300.0    1256.0   \n",
       "bathrooms           28159.0       2.228506       0.884596     1.0       2.0   \n",
       "bedrooms            28159.0       3.273483       0.886781     1.0       3.0   \n",
       "yearbuilt           28159.0    1963.118719      22.663952  1878.0    1950.0   \n",
       "fireplace           28159.0       0.141376       0.348415     0.0       0.0   \n",
       "deck                28159.0       0.006925       0.082929     0.0       0.0   \n",
       "pool                28159.0       0.204020       0.402991     0.0       0.0   \n",
       "garage              28159.0       0.344259       0.475135     0.0       0.0   \n",
       "county              28159.0    6049.246031      21.220257  6037.0    6037.0   \n",
       "home_age            28159.0      53.881281      22.663952     2.0      39.0   \n",
       "optional_features   28159.0       0.325473       0.468560     0.0       0.0   \n",
       "los_angeles_county  28159.0       0.646578       0.478041     0.0       0.0   \n",
       "orange_county       28159.0       0.267446       0.442635     0.0       0.0   \n",
       "ventura_county      28159.0       0.085976       0.280334     0.0       0.0   \n",
       "\n",
       "                         50%       75%        max  \n",
       "home_value          362951.0  583900.5  1750000.0  \n",
       "squarefeet            1633.0    2227.0     8251.0  \n",
       "bathrooms                2.0       3.0        6.0  \n",
       "bedrooms                 3.0       4.0        6.0  \n",
       "yearbuilt             1960.0    1978.0     2015.0  \n",
       "fireplace                0.0       0.0        1.0  \n",
       "deck                     0.0       0.0        1.0  \n",
       "pool                     0.0       0.0        1.0  \n",
       "garage                   0.0       1.0        1.0  \n",
       "county                6037.0    6059.0     6111.0  \n",
       "home_age                57.0      67.0      139.0  \n",
       "optional_features        0.0       1.0        1.0  \n",
       "los_angeles_county       1.0       1.0        1.0  \n",
       "orange_county            0.0       1.0        1.0  \n",
       "ventura_county           0.0       0.0        1.0  "
      ]
     },
     "execution_count": 6,
     "metadata": {},
     "output_type": "execute_result"
    }
   ],
   "source": [
    "train.describe().T"
   ]
  },
  {
   "cell_type": "markdown",
   "id": "03e989b5",
   "metadata": {},
   "source": [
    "# Explore:"
   ]
  },
  {
   "cell_type": "markdown",
   "id": "43ec4847",
   "metadata": {},
   "source": [
    "## How do optional home features influence home value?\n",
    "\n",
    "  * optional features refers to fireplace, garage, pool, and deck"
   ]
  },
  {
   "cell_type": "code",
   "execution_count": 7,
   "id": "f375b95d",
   "metadata": {
    "scrolled": true
   },
   "outputs": [
    {
     "data": {
      "image/png": "[encoded data removed]",
      "text/plain": [
       "<Figure size 720x360 with 1 Axes>"
      ]
     },
     "metadata": {
      "needs_background": "light"
     },
     "output_type": "display_data"
    }
   ],
   "source": [
    "# obtain lolipop plot\n",
    "e.lolipop_plot(train)"
   ]
  },
  {
   "cell_type": "markdown",
   "id": "e549f0ce",
   "metadata": {},
   "source": [
    "#### Homes with a deck have a higher average home value than any other feature. Homes with no optional home featues have the lowest average home value."
   ]
  },
  {
   "cell_type": "markdown",
   "id": "0431f87f",
   "metadata": {},
   "source": [
    "# Does more house equal more home value?\n"
   ]
  },
  {
   "cell_type": "code",
   "execution_count": 8,
   "id": "6aec7f28",
   "metadata": {
    "scrolled": true
   },
   "outputs": [
    {
     "data": {
      "image/png": "[encoded data removed]",
      "text/plain": [
       "<Figure size 1080x324 with 3 Axes>"
      ]
     },
     "metadata": {},
     "output_type": "display_data"
    }
   ],
   "source": [
    "# obtain bed, bath and squarfeet graph\n",
    "e.more_house(train)"
   ]
  },
  {
   "cell_type": "markdown",
   "id": "bd18f4cc",
   "metadata": {},
   "source": [
    "#### It clear that more bedrooms , more bathrooms and more square feet space drives the home value up."
   ]
  },
  {
   "cell_type": "markdown",
   "id": "cda1d4fa",
   "metadata": {},
   "source": [
    " # Does county make a difference in home value?\n",
    "    FIPS     6111: Ventura County    6059: Orange County    6037: Los Angeles County"
   ]
  },
  {
   "cell_type": "code",
   "execution_count": 9,
   "id": "d6996db5",
   "metadata": {},
   "outputs": [
    {
     "data": {
      "image/png": "[encoded data removed]",
      "text/plain": [
       "<Figure size 432x288 with 1 Axes>"
      ]
     },
     "metadata": {},
     "output_type": "display_data"
    }
   ],
   "source": [
    "# obtain counties and home value box_plot\n",
    "e.county_vs_homevalue(train)"
   ]
  },
  {
   "cell_type": "markdown",
   "id": "c67dc437",
   "metadata": {},
   "source": [
    "* **It seems that different counties have a diffirent home value mean.**"
   ]
  },
  {
   "cell_type": "markdown",
   "id": "2174084c",
   "metadata": {},
   "source": [
    "**I will now conduct an anova test to test for a significant differences between the mean of the three different counties**\n",
    "\n",
    "* The confidence interval is 95%\n",
    "* Alpha is set to 0.05\n",
    "* p value will be compared to alpha\n",
    "\n",
    "\n",
    "$H_0$: There is  two or more counties that have the same home value mean. \n",
    "\n",
    "$H_a$: Mean home value of the 3 diffirent counties is not the same"
   ]
  },
  {
   "cell_type": "code",
   "execution_count": 10,
   "id": "d582b368",
   "metadata": {
    "scrolled": true
   },
   "outputs": [
    {
     "name": "stdout",
     "output_type": "stream",
     "text": [
      "t-stat 391.4815270923903\n",
      "p-value 2.0078897820183972e-168\n"
     ]
    }
   ],
   "source": [
    "e.anova_county_test(train)"
   ]
  },
  {
   "cell_type": "markdown",
   "id": "83fba473",
   "metadata": {},
   "source": [
    "The p-value is less than alpha. There is evidence to support that the three counties have diffirent home value mean. Based on this statistical finding I believe that county location is a driver of home value. Adding an encoded version of this feature to the model will likely increase the model's accuracy."
   ]
  },
  {
   "cell_type": "markdown",
   "id": "43f35282",
   "metadata": {},
   "source": [
    "# Is home age a driver of home value?"
   ]
  },
  {
   "cell_type": "code",
   "execution_count": 14,
   "id": "b445266e",
   "metadata": {},
   "outputs": [
    {
     "data": {
      "image/png": "[encoded data removed]",
      "text/plain": [
       "<Figure size 504x432 with 1 Axes>"
      ]
     },
     "metadata": {},
     "output_type": "display_data"
    }
   ],
   "source": [
    "# obtain home age vs home value scatterplot\n",
    "e.home_scatterplot(train)"
   ]
  },
  {
   "cell_type": "markdown",
   "id": "0babf409",
   "metadata": {},
   "source": [
    "# Exploration Summary"
   ]
  },
  {
   "cell_type": "markdown",
   "id": "f0f0c472",
   "metadata": {},
   "source": [
    "* A\n",
    "* B\n",
    "* C"
   ]
  },
  {
   "cell_type": "markdown",
   "id": "b91df37d",
   "metadata": {},
   "source": [
    "# Features that will be included in my model"
   ]
  },
  {
   "cell_type": "markdown",
   "id": "014f864c",
   "metadata": {},
   "source": [
    "* **A**  has a significant statistical relationship to \n",
    "* **B**  has a significant statistical relationship to \n",
    "* **C**  has a significant statistical relationship to \n"
   ]
  },
  {
   "cell_type": "markdown",
   "id": "293fa781",
   "metadata": {},
   "source": [
    "# Features that will be not included in my model"
   ]
  },
  {
   "cell_type": "markdown",
   "id": "d20728ae",
   "metadata": {},
   "source": [
    "* **D** did not ..\n",
    "* **Other features** have .."
   ]
  },
  {
   "cell_type": "markdown",
   "id": "84774416",
   "metadata": {},
   "source": [
    "# Modeling:"
   ]
  },
  {
   "cell_type": "markdown",
   "id": "b6b0d757",
   "metadata": {},
   "source": [
    "## Scaling"
   ]
  },
  {
   "cell_type": "markdown",
   "id": "56a5dfde",
   "metadata": {},
   "source": [
    "# Prepare  data for models"
   ]
  },
  {
   "cell_type": "code",
   "execution_count": null,
   "id": "fc1ac087",
   "metadata": {},
   "outputs": [],
   "source": [
    "# prepare data for modeling\n",
    "X_train, y_train, X_validate, y_validate, X_test, y_test = m.model_data_prep(train, validate, test)"
   ]
  },
  {
   "cell_type": "code",
   "execution_count": null,
   "id": "fbe3a210",
   "metadata": {},
   "outputs": [],
   "source": []
  },
  {
   "cell_type": "markdown",
   "id": "7adb7a1e",
   "metadata": {},
   "source": [
    "# Model"
   ]
  },
  {
   "cell_type": "markdown",
   "id": "55b63e5b",
   "metadata": {},
   "source": [
    "# OLS"
   ]
  },
  {
   "cell_type": "code",
   "execution_count": null,
   "id": "b0e28d26",
   "metadata": {},
   "outputs": [],
   "source": []
  },
  {
   "cell_type": "code",
   "execution_count": null,
   "id": "8dc5a26c",
   "metadata": {},
   "outputs": [],
   "source": []
  },
  {
   "cell_type": "code",
   "execution_count": null,
   "id": "d59a6b1f",
   "metadata": {},
   "outputs": [],
   "source": []
  },
  {
   "cell_type": "code",
   "execution_count": null,
   "id": "5e5f71e2",
   "metadata": {},
   "outputs": [],
   "source": []
  },
  {
   "cell_type": "code",
   "execution_count": null,
   "id": "f16bb837",
   "metadata": {},
   "outputs": [],
   "source": [
    "from sklearn.linear_model import LinearRegression"
   ]
  },
  {
   "cell_type": "code",
   "execution_count": null,
   "id": "e6acb880",
   "metadata": {},
   "outputs": [],
   "source": [
    "\n",
    "\n",
    "#scores.loc[len(scores.index)] = [key, f, RMSE_baseline, RMSE, R2, RMSE_val, R2_val, diff]"
   ]
  },
  {
   "cell_type": "code",
   "execution_count": null,
   "id": "c68d7223",
   "metadata": {},
   "outputs": [],
   "source": [
    "# set up dataframe for predictions, add actual values\n",
    "train_pred = pd.DataFrame({\n",
    "    'actual': train.home_value\n",
    "}) \n",
    "validate_pred = pd.DataFrame({\n",
    "    'actual': validate.home_value\n",
    "}) "
   ]
  },
  {
   "cell_type": "markdown",
   "id": "6dc23063",
   "metadata": {},
   "source": [
    "## Baseline"
   ]
  },
  {
   "cell_type": "code",
   "execution_count": null,
   "id": "e984680b",
   "metadata": {},
   "outputs": [],
   "source": [
    "# add a baseline model\n",
    "train_pred['baseline_mean'] = train.home_value.mean()\n",
    "validate_pred['baseline_mean'] = validate.home_value.mean()\n",
    "\n",
    "train_pred['baseline_median'] = train.home_value.median()\n",
    "validate_pred['baseline_median'] = validate.home_value.median()"
   ]
  },
  {
   "cell_type": "code",
   "execution_count": null,
   "id": "b495e060",
   "metadata": {},
   "outputs": [],
   "source": [
    "train.columns"
   ]
  },
  {
   "cell_type": "markdown",
   "id": "4e26eb14",
   "metadata": {},
   "source": [
    "# custom"
   ]
  },
  {
   "cell_type": "code",
   "execution_count": null,
   "id": "b1a9c6e6",
   "metadata": {},
   "outputs": [],
   "source": [
    "custom = ['squarefeet','bathrooms','bedrooms','yearbuilt','pool','orange_county','optional_features']"
   ]
  },
  {
   "cell_type": "code",
   "execution_count": null,
   "id": "b98c3e47",
   "metadata": {},
   "outputs": [],
   "source": [
    "\n",
    "# 1. make the thing\n",
    "lm = LinearRegression()\n",
    "# 2. fit the thing\n",
    "lm.fit(X_train[custom], y_train)\n",
    "# 3. use the thing (make predictions)\n",
    "\n",
    "train_pred['CUS_Model'] = lm.predict(X_train[custom])\n",
    "validate_pred['CUS_Model'] = lm.predict(X_validate[custom])"
   ]
  },
  {
   "cell_type": "markdown",
   "id": "f477c7d2",
   "metadata": {},
   "source": [
    "# OLS"
   ]
  },
  {
   "cell_type": "code",
   "execution_count": null,
   "id": "093d87f6",
   "metadata": {},
   "outputs": [],
   "source": [
    "\n",
    "# 1. make the thing\n",
    "lm = LinearRegression()\n",
    "# 2. fit the thing\n",
    "lm.fit(X_train, y_train)\n",
    "# 3. use the thing (make predictions)\n",
    "\n",
    "train_pred['OLS_Model'] = lm.predict(X_train)\n",
    "validate_pred['OLS_Model'] = lm.predict(X_validate)"
   ]
  },
  {
   "cell_type": "code",
   "execution_count": null,
   "id": "3643b10f",
   "metadata": {},
   "outputs": [],
   "source": [
    "train_pred"
   ]
  },
  {
   "cell_type": "code",
   "execution_count": null,
   "id": "6366116b",
   "metadata": {
    "scrolled": true
   },
   "outputs": [],
   "source": [
    "validate_pred"
   ]
  },
  {
   "cell_type": "markdown",
   "id": "b22008f2",
   "metadata": {},
   "source": [
    "## Using Kbest 7 features"
   ]
  },
  {
   "cell_type": "code",
   "execution_count": null,
   "id": "ca757bd8",
   "metadata": {},
   "outputs": [],
   "source": [
    "from sklearn.feature_selection import SelectKBest, f_regression\n",
    "\n",
    "# parameters: f_regression stats test, give me 7 features\n",
    "f_selector = SelectKBest(f_regression, k=7)\n",
    "\n",
    "# find the top 8 X's correlated with y\n",
    "f_selector.fit(X_train, y_train)\n",
    "\n",
    "# boolean mask of whether the column was selected or not. \n",
    "feature_mask = f_selector.get_support()\n",
    "\n",
    "# get list of top K features. \n",
    "f_feature = X_train.iloc[:,feature_mask].columns.tolist()\n"
   ]
  },
  {
   "cell_type": "code",
   "execution_count": null,
   "id": "1c69343d",
   "metadata": {},
   "outputs": [],
   "source": [
    "X_train[f_feature]"
   ]
  },
  {
   "cell_type": "code",
   "execution_count": null,
   "id": "36243f9e",
   "metadata": {
    "scrolled": false
   },
   "outputs": [],
   "source": [
    "X_train.columns.to_list()"
   ]
  },
  {
   "cell_type": "code",
   "execution_count": null,
   "id": "896f0c2f",
   "metadata": {},
   "outputs": [],
   "source": [
    "# 1. make the thing\n",
    "lm = LinearRegression()\n",
    "# 2. fit the thing\n",
    "lm.fit(X_train[f_feature], y_train)\n",
    "# 3. use the thing (make predictions)\n",
    "\n",
    "train_pred['OLS_Model_f7'] = lm.predict(X_train[f_feature])\n",
    "validate_pred['OLS_Model_f7'] = lm.predict(X_validate[f_feature])"
   ]
  },
  {
   "cell_type": "code",
   "execution_count": null,
   "id": "27104ea2",
   "metadata": {},
   "outputs": [],
   "source": [
    "train_pred"
   ]
  },
  {
   "cell_type": "code",
   "execution_count": null,
   "id": "898953de",
   "metadata": {},
   "outputs": [],
   "source": [
    "# 1. make the thing\n",
    "lm = LinearRegression()\n",
    "# 2. fit the thing\n",
    "lm.fit(X_train[f_feature], y_train)\n",
    "# 3. use the thing (make predictions)\n",
    "\n",
    "train_pred['OLS_Model_cus'] = lm.predict(X_train[f_feature])\n",
    "validate_pred['OLS_Model_cus'] = lm.predict(X_validate[f_feature])"
   ]
  },
  {
   "cell_type": "markdown",
   "id": "bb6e9344",
   "metadata": {},
   "source": [
    "# Using Kbest 4 features"
   ]
  },
  {
   "cell_type": "code",
   "execution_count": null,
   "id": "b1500350",
   "metadata": {},
   "outputs": [],
   "source": [
    "# parameters: f_regression stats test, give me 4 features\n",
    "f_selector = SelectKBest(f_regression, k=4)\n",
    "\n",
    "# find the top 8 X's correlated with y\n",
    "f_selector.fit(X_train, y_train)\n",
    "\n",
    "# boolean mask of whether the column was selected or not. \n",
    "feature_mask = f_selector.get_support()\n",
    "\n",
    "# get list of top K features. \n",
    "f_feature = X_train.iloc[:,feature_mask].columns.tolist()\n",
    "\n",
    "# 1. make the thing\n",
    "lm = LinearRegression()\n",
    "# 2. fit the thing\n",
    "lm.fit(X_train[f_feature], y_train)\n",
    "# 3. use the thing (make predictions)\n",
    "\n",
    "train_pred['OLS_Model_f4'] = lm.predict(X_train[f_feature])\n",
    "validate_pred['OLS_Model_f4'] = lm.predict(X_validate[f_feature])"
   ]
  },
  {
   "cell_type": "code",
   "execution_count": null,
   "id": "4f0d20be",
   "metadata": {},
   "outputs": [],
   "source": [
    "X_train[f_feature]"
   ]
  },
  {
   "cell_type": "code",
   "execution_count": null,
   "id": "2cefafc0",
   "metadata": {},
   "outputs": [],
   "source": [
    "train_pred"
   ]
  },
  {
   "cell_type": "markdown",
   "id": "63454d24",
   "metadata": {},
   "source": [
    "# Using Kbest 3 features"
   ]
  },
  {
   "cell_type": "code",
   "execution_count": null,
   "id": "ebd364cb",
   "metadata": {},
   "outputs": [],
   "source": [
    "# parameters: f_regression stats test, give me 3 features\n",
    "f_selector = SelectKBest(f_regression, k=3)\n",
    "\n",
    "# find the top 8 X's correlated with y\n",
    "f_selector.fit(X_train, y_train)\n",
    "\n",
    "# boolean mask of whether the column was selected or not. \n",
    "feature_mask = f_selector.get_support()\n",
    "\n",
    "# get list of top K features. \n",
    "f_feature = X_train.iloc[:,feature_mask].columns.tolist()\n",
    "\n",
    "# 1. make the thing\n",
    "lm = LinearRegression()\n",
    "# 2. fit the thing\n",
    "lm.fit(X_train[f_feature], y_train)\n",
    "# 3. use the thing (make predictions)\n",
    "\n",
    "train_pred['OLS_Model_f3'] = lm.predict(X_train[f_feature])\n",
    "validate_pred['OLS_Model_f3'] = lm.predict(X_validate[f_feature])"
   ]
  },
  {
   "cell_type": "code",
   "execution_count": null,
   "id": "da1296a8",
   "metadata": {},
   "outputs": [],
   "source": [
    "X_train[f_feature]"
   ]
  },
  {
   "cell_type": "code",
   "execution_count": null,
   "id": "facdba72",
   "metadata": {
    "scrolled": true
   },
   "outputs": [],
   "source": [
    "train_pred"
   ]
  },
  {
   "cell_type": "markdown",
   "id": "671b90a5",
   "metadata": {},
   "source": [
    "# OLS_ RFE  features = 7  "
   ]
  },
  {
   "cell_type": "code",
   "execution_count": null,
   "id": "a93f4b2c",
   "metadata": {},
   "outputs": [],
   "source": []
  },
  {
   "cell_type": "code",
   "execution_count": null,
   "id": "35025624",
   "metadata": {},
   "outputs": [],
   "source": [
    "columns = X_train.columns.to_list()"
   ]
  },
  {
   "cell_type": "code",
   "execution_count": null,
   "id": "592c5f94",
   "metadata": {},
   "outputs": [],
   "source": [
    "X_train"
   ]
  },
  {
   "cell_type": "code",
   "execution_count": null,
   "id": "2f649dd6",
   "metadata": {},
   "outputs": [],
   "source": [
    "from sklearn.feature_selection import RFE\n",
    "lm = LinearRegression()\n",
    "\n",
    "\n",
    "# 1. Transform our X\n",
    "rfe = RFE(lm, n_features_to_select=7)\n",
    "rfe.fit(X_train, y_train)\n",
    "print('selected top 7 features:', X_train.columns[rfe.support_])\n",
    "X_train_rfe = rfe.transform(X_train)\n",
    "# 2. Use the transformed x in our model\n",
    "lm.fit(X_train_rfe, y_train)\n",
    "#convert to DF\n",
    "X_train_rfe = pd.DataFrame(X_train_rfe, columns = X_train.columns[rfe.support_], index = X_train.index)\n",
    "\n",
    "train_pred['OLS_rfe7'] = lm.predict(X_train_rfe)"
   ]
  },
  {
   "cell_type": "code",
   "execution_count": null,
   "id": "e8740e36",
   "metadata": {},
   "outputs": [],
   "source": [
    "# 3. Make predictions\n",
    "\n",
    "\n",
    "X_validate_rfe = rfe.transform(X_validate)\n",
    "#Convert to df\n",
    "X_validate_rfe = pd.DataFrame(X_validate_rfe, columns = X_validate.columns[rfe.support_], index = X_validate.index)\n",
    "\n",
    "validate_pred['OLS_rfe7'] = lm.predict(X_validate_rfe)"
   ]
  },
  {
   "cell_type": "code",
   "execution_count": null,
   "id": "7cac97f8",
   "metadata": {
    "scrolled": true
   },
   "outputs": [],
   "source": [
    "train_pred"
   ]
  },
  {
   "cell_type": "markdown",
   "id": "82a39545",
   "metadata": {},
   "source": [
    "# OLS_RFE 4 features"
   ]
  },
  {
   "cell_type": "code",
   "execution_count": null,
   "id": "60696dd4",
   "metadata": {},
   "outputs": [],
   "source": [
    "lm = LinearRegression()\n",
    "\n",
    "\n",
    "# 1. Transform our X\n",
    "rfe = RFE(lm, n_features_to_select=4)\n",
    "rfe.fit(X_train, y_train)\n",
    "print('selected top 4 features:', X_train.columns[rfe.support_])\n",
    "X_train_rfe = rfe.transform(X_train)\n",
    "# 2. Use the transformed x in our model\n",
    "lm.fit(X_train_rfe, y_train)\n",
    "#convert to DF\n",
    "X_train_rfe = pd.DataFrame(X_train_rfe, columns = X_train.columns[rfe.support_], index = X_train.index)\n",
    "\n",
    "train_pred['OLS_rfe4'] = lm.predict(X_train_rfe)\n",
    "X_validate_rfe = rfe.transform(X_validate)\n",
    "#Convert to df\n",
    "X_validate_rfe = pd.DataFrame(X_validate_rfe, columns = X_validate.columns[rfe.support_], index = X_validate.index)\n",
    "\n",
    "validate_pred['OLS_rfe4'] = lm.predict(X_validate_rfe)"
   ]
  },
  {
   "cell_type": "markdown",
   "id": "e6ee5501",
   "metadata": {},
   "source": [
    "# OLS_RFE 3 features"
   ]
  },
  {
   "cell_type": "code",
   "execution_count": null,
   "id": "4e0e8aa9",
   "metadata": {
    "scrolled": true
   },
   "outputs": [],
   "source": [
    "lm = LinearRegression()\n",
    "\n",
    "\n",
    "# 1. Transform our X\n",
    "rfe = RFE(lm, n_features_to_select=3)\n",
    "rfe.fit(X_train, y_train)\n",
    "print('selected top 3 features:', X_train.columns[rfe.support_])\n",
    "X_train_rfe = rfe.transform(X_train)\n",
    "# 2. Use the transformed x in our model\n",
    "lm.fit(X_train_rfe, y_train)\n",
    "#convert to DF\n",
    "X_train_rfe = pd.DataFrame(X_train_rfe, columns = X_train.columns[rfe.support_], index = X_train.index)\n",
    "\n",
    "train_pred['OLS_rfe3'] = lm.predict(X_train_rfe)\n",
    "X_validate_rfe = rfe.transform(X_validate)\n",
    "#Convert to df\n",
    "X_validate_rfe = pd.DataFrame(X_validate_rfe, columns = X_validate.columns[rfe.support_], index = X_validate.index)\n",
    "\n",
    "validate_pred['OLS_rfe3'] = lm.predict(X_validate_rfe)"
   ]
  },
  {
   "cell_type": "markdown",
   "id": "d008e82c",
   "metadata": {},
   "source": [
    "# OLS_RFE 2 features"
   ]
  },
  {
   "cell_type": "code",
   "execution_count": null,
   "id": "df202f88",
   "metadata": {},
   "outputs": [],
   "source": [
    "lm = LinearRegression()\n",
    "\n",
    "\n",
    "# 1. Transform our X\n",
    "rfe = RFE(lm, n_features_to_select=2)\n",
    "rfe.fit(X_train, y_train)\n",
    "print('selected top 2 features:', X_train.columns[rfe.support_])\n",
    "X_train_rfe = rfe.transform(X_train)\n",
    "# 2. Use the transformed x in our model\n",
    "lm.fit(X_train_rfe, y_train)\n",
    "#convert to DF\n",
    "X_train_rfe = pd.DataFrame(X_train_rfe, columns = X_train.columns[rfe.support_], index = X_train.index)\n",
    "\n",
    "train_pred['OLS_rfe2'] = lm.predict(X_train_rfe)\n",
    "X_validate_rfe = rfe.transform(X_validate)\n",
    "#Convert to df\n",
    "X_validate_rfe = pd.DataFrame(X_validate_rfe, columns = X_validate.columns[rfe.support_], index = X_validate.index)\n",
    "\n",
    "validate_pred['OLS_rfe2'] = lm.predict(X_validate_rfe)"
   ]
  },
  {
   "cell_type": "code",
   "execution_count": null,
   "id": "405ab452",
   "metadata": {},
   "outputs": [],
   "source": [
    "train_pred"
   ]
  },
  {
   "cell_type": "markdown",
   "id": "20da1253",
   "metadata": {},
   "source": [
    "# Polynomial"
   ]
  },
  {
   "cell_type": "code",
   "execution_count": null,
   "id": "bc0e73ec",
   "metadata": {},
   "outputs": [],
   "source": [
    "from sklearn.preprocessing import PolynomialFeatures"
   ]
  },
  {
   "cell_type": "markdown",
   "id": "e08de79a",
   "metadata": {},
   "source": [
    "# Degree 2"
   ]
  },
  {
   "cell_type": "code",
   "execution_count": null,
   "id": "2f9a65b4",
   "metadata": {
    "scrolled": true
   },
   "outputs": [],
   "source": [
    "# 1. Generate Polynomial Features\n",
    "poly = PolynomialFeatures(degree=2, include_bias=False, interaction_only=False)\n",
    "poly.fit(X_train)\n",
    "X_train_poly = pd.DataFrame(\n",
    "    poly.transform(X_train),\n",
    "    columns=poly.get_feature_names(X_train.columns),\n",
    "    index=train.index,\n",
    ")\n",
    "X_train_poly.head()\n",
    "\n",
    "# 2. Use the features\n",
    "lm = LinearRegression()\n",
    "lm.fit(X_train_poly, y_train)\n",
    "\n",
    "\n",
    "train_pred['poly_d2'] = lm.predict(X_train_poly)\n",
    "\n",
    "X_validate_poly = poly.transform(X_validate)\n",
    "validate_pred['poly_d2'] = lm.predict(X_validate_poly)\n"
   ]
  },
  {
   "cell_type": "markdown",
   "id": "b9e96108",
   "metadata": {},
   "source": [
    "# Degree 2 interactions ONLY"
   ]
  },
  {
   "cell_type": "code",
   "execution_count": null,
   "id": "e6d26656",
   "metadata": {},
   "outputs": [],
   "source": [
    "# 1. Generate Polynomial Features\n",
    "poly = PolynomialFeatures(degree=2, include_bias=False, interaction_only=True)\n",
    "poly.fit(X_train)\n",
    "X_train_poly = pd.DataFrame(\n",
    "    poly.transform(X_train),\n",
    "    columns=poly.get_feature_names(X_train.columns),\n",
    "    index=train.index,\n",
    ")\n",
    "X_train_poly.head()\n",
    "\n",
    "# 2. Use the features\n",
    "lm = LinearRegression()\n",
    "lm.fit(X_train_poly, y_train)\n",
    "\n",
    "\n",
    "train_pred['Ipoly_d2'] = lm.predict(X_train_poly)\n",
    "\n",
    "X_validate_poly = poly.transform(X_validate)\n",
    "validate_pred['Ipoly_d2'] = lm.predict(X_validate_poly)"
   ]
  },
  {
   "cell_type": "code",
   "execution_count": null,
   "id": "d18a6175",
   "metadata": {
    "scrolled": true
   },
   "outputs": [],
   "source": [
    "validate_pred"
   ]
  },
  {
   "cell_type": "markdown",
   "id": "827dfa66",
   "metadata": {},
   "source": [
    "# Degree 3"
   ]
  },
  {
   "cell_type": "code",
   "execution_count": null,
   "id": "c79b782c",
   "metadata": {
    "scrolled": true
   },
   "outputs": [],
   "source": [
    "# 1. Generate Polynomial Features\n",
    "poly = PolynomialFeatures(degree=3, include_bias=False, interaction_only=False)\n",
    "poly.fit(X_train)\n",
    "X_train_poly = pd.DataFrame(\n",
    "    poly.transform(X_train),\n",
    "    columns=poly.get_feature_names(X_train.columns),\n",
    "    index=train.index,\n",
    ")\n",
    "X_train_poly.head()\n",
    "\n",
    "# 2. Use the features\n",
    "lm = LinearRegression()\n",
    "lm.fit(X_train_poly, y_train)\n",
    "\n",
    "\n",
    "train_pred['poly_d3'] = lm.predict(X_train_poly)\n",
    "\n",
    "X_validate_poly = poly.transform(X_validate)\n",
    "validate_pred['poly_d3'] = lm.predict(X_validate_poly)"
   ]
  },
  {
   "cell_type": "markdown",
   "id": "533ffdc5",
   "metadata": {},
   "source": [
    "# DEGREE 3 Interactions Only"
   ]
  },
  {
   "cell_type": "code",
   "execution_count": null,
   "id": "1874a6b4",
   "metadata": {},
   "outputs": [],
   "source": [
    "# 1. Generate Polynomial Features\n",
    "poly = PolynomialFeatures(degree=2, include_bias=False, interaction_only=True)\n",
    "poly.fit(X_train)\n",
    "X_train_poly = pd.DataFrame(\n",
    "    poly.transform(X_train),\n",
    "    columns=poly.get_feature_names(X_train.columns),\n",
    "    index=train.index,\n",
    ")\n",
    "X_train_poly.head()\n",
    "\n",
    "# 2. Use the features\n",
    "lm = LinearRegression()\n",
    "lm.fit(X_train_poly, y_train)\n",
    "\n",
    "\n",
    "train_pred['Ipoly_d3'] = lm.predict(X_train_poly)\n",
    "\n",
    "X_validate_poly = poly.transform(X_validate)\n",
    "validate_pred['Ipoly_d3'] = lm.predict(X_validate_poly)"
   ]
  },
  {
   "cell_type": "markdown",
   "id": "eef6cf36",
   "metadata": {},
   "source": [
    "# Degree 4"
   ]
  },
  {
   "cell_type": "code",
   "execution_count": null,
   "id": "d0aa1aac",
   "metadata": {},
   "outputs": [],
   "source": [
    "# 1. Generate Polynomial Features\n",
    "poly = PolynomialFeatures(degree=4, include_bias=False, interaction_only=False)\n",
    "poly.fit(X_train)\n",
    "X_train_poly = pd.DataFrame(\n",
    "    poly.transform(X_train),\n",
    "    columns=poly.get_feature_names(X_train.columns),\n",
    "    index=train.index,\n",
    ")\n",
    "X_train_poly.head()\n",
    "\n",
    "# 2. Use the features\n",
    "lm = LinearRegression()\n",
    "lm.fit(X_train_poly, y_train)\n",
    "\n",
    "\n",
    "train_pred['poly_d4'] = lm.predict(X_train_poly)\n",
    "\n",
    "X_validate_poly = poly.transform(X_validate)\n",
    "validate_pred['poly_d4'] = lm.predict(X_validate_poly)"
   ]
  },
  {
   "cell_type": "code",
   "execution_count": null,
   "id": "c54ed5fa",
   "metadata": {},
   "outputs": [],
   "source": []
  },
  {
   "cell_type": "markdown",
   "id": "9b095789",
   "metadata": {},
   "source": [
    "# DEGREE 4 interaction Only"
   ]
  },
  {
   "cell_type": "code",
   "execution_count": null,
   "id": "de489125",
   "metadata": {},
   "outputs": [],
   "source": [
    "# 1. Generate Polynomial Features\n",
    "poly = PolynomialFeatures(degree=2, include_bias=False, interaction_only=True)\n",
    "poly.fit(X_train)\n",
    "X_train_poly = pd.DataFrame(\n",
    "    poly.transform(X_train),\n",
    "    columns=poly.get_feature_names(X_train.columns),\n",
    "    index=train.index,\n",
    ")\n",
    "X_train_poly.head()\n",
    "\n",
    "# 2. Use the features\n",
    "lm = LinearRegression()\n",
    "lm.fit(X_train_poly, y_train)\n",
    "\n",
    "\n",
    "train_pred['Ipoly_d4'] = lm.predict(X_train_poly)\n",
    "\n",
    "X_validate_poly = poly.transform(X_validate)\n",
    "validate_pred['Ipoly_d4'] = lm.predict(X_validate_poly)"
   ]
  },
  {
   "cell_type": "markdown",
   "id": "6a3ac0f5",
   "metadata": {},
   "source": [
    "# Evaluate Models"
   ]
  },
  {
   "cell_type": "code",
   "execution_count": null,
   "id": "746a50ef",
   "metadata": {
    "scrolled": true
   },
   "outputs": [],
   "source": [
    "train_pred"
   ]
  },
  {
   "cell_type": "code",
   "execution_count": null,
   "id": "589b8a0e",
   "metadata": {},
   "outputs": [],
   "source": [
    "def evaluate_metrics(df, col,actual):\n",
    "    MSE = mean_squared_error(actual, df[col])\n",
    "    SSE = MSE * len(df)\n",
    "    RMSE = MSE ** .5\n",
    "    ESS = ((df[col] - actual.mean())**2).sum()\n",
    "    TSS = ESS + SSE\n",
    "    R2 = explained_variance_score(actual, df[col])\n",
    "    return MSE, SSE, RMSE,ESS, TSS,R2"
   ]
  },
  {
   "cell_type": "code",
   "execution_count": null,
   "id": "8eac3b28",
   "metadata": {},
   "outputs": [],
   "source": [
    "col = train_pred.columns.to_list()"
   ]
  },
  {
   "cell_type": "code",
   "execution_count": null,
   "id": "7e816883",
   "metadata": {
    "scrolled": true
   },
   "outputs": [],
   "source": [
    "from sklearn.metrics import mean_squared_error,explained_variance_score\n",
    "metric_df = pd.DataFrame(columns =['model','MSE','SSE','RMSE','ESS','TSS','R2'])\n",
    "for i in col:\n",
    "    MSE,SSE, RMSE, ESS, TSS, R2 = evaluate_metrics(train_pred, i , y_train)\n",
    "    # sklearn.metrics.explained_variance_score\n",
    "\n",
    "    metric_df= metric_df.append({\n",
    "                    'model': i,\n",
    "                    'MSE':MSE,\n",
    "                     'SSE':SSE,\n",
    "                     'RMSE':RMSE,\n",
    "                     'ESS':ESS,\n",
    "                     'TSS':TSS,\n",
    "                     'R2':R2},ignore_index=True)\n",
    "    "
   ]
  },
  {
   "cell_type": "code",
   "execution_count": null,
   "id": "3dca2b25",
   "metadata": {
    "scrolled": true
   },
   "outputs": [],
   "source": [
    "metric_df"
   ]
  },
  {
   "cell_type": "code",
   "execution_count": null,
   "id": "708a039c",
   "metadata": {
    "scrolled": true
   },
   "outputs": [],
   "source": [
    "metric_df[['model','RMSE','R2']]\n"
   ]
  },
  {
   "cell_type": "code",
   "execution_count": null,
   "id": "5ef79931",
   "metadata": {
    "scrolled": true
   },
   "outputs": [],
   "source": [
    "metric_df[['model','RMSE','R2']].sort_values(by='R2',ascending=False)"
   ]
  },
  {
   "cell_type": "code",
   "execution_count": null,
   "id": "78d423a7",
   "metadata": {},
   "outputs": [],
   "source": [
    "metric_val['diff_RMSE']= metric_val[['RMSE']]- metric_df[['RMSE']]"
   ]
  },
  {
   "cell_type": "code",
   "execution_count": null,
   "id": "bef770c0",
   "metadata": {},
   "outputs": [],
   "source": [
    "metric_val['diff_R2']= metric_val[['R2']]- metric_df[['R2']]"
   ]
  },
  {
   "cell_type": "code",
   "execution_count": null,
   "id": "7fd0b119",
   "metadata": {},
   "outputs": [],
   "source": [
    "# train - validate\n",
    "1-200_000/250_000"
   ]
  },
  {
   "cell_type": "code",
   "execution_count": null,
   "id": "9b70921c",
   "metadata": {},
   "outputs": [],
   "source": [
    "metric_val['%diff_RMSE']= 1-(metric_df[['RMSE']]/(metric_val[['RMSE']]+.000000000001))"
   ]
  },
  {
   "cell_type": "code",
   "execution_count": null,
   "id": "852cd00f",
   "metadata": {
    "scrolled": false
   },
   "outputs": [],
   "source": [
    "metric_val[['model','RMSE','R2','diff_R2','diff_RMSE','%diff_RMSE']].sort_values(by='%diff_RMSE',ascending=False)"
   ]
  },
  {
   "cell_type": "code",
   "execution_count": null,
   "id": "7a033fe2",
   "metadata": {},
   "outputs": [],
   "source": [
    "col = validate_pred.columns.to_list()\n",
    "metric_val = pd.DataFrame(columns =['model','MSE','SSE','RMSE','ESS','TSS','R2'])\n",
    "for i in col:\n",
    "    MSE,SSE, RMSE, ESS, TSS, R2 = evaluate_metrics(validate_pred, i , y_validate)\n",
    "    metric_val= metric_val.append({\n",
    "                    'model': i,\n",
    "                    'MSE':MSE,\n",
    "                     'SSE':SSE,\n",
    "                     'RMSE':RMSE,\n",
    "                     'ESS':ESS,\n",
    "                     'TSS':TSS,\n",
    "                     'R2':R2},ignore_index=True)\n",
    "    \n"
   ]
  },
  {
   "cell_type": "code",
   "execution_count": null,
   "id": "f9dcfce4",
   "metadata": {
    "scrolled": false
   },
   "outputs": [],
   "source": [
    "metric_val[['model','RMSE','R2']].sort_values(by='R2',ascending=False)"
   ]
  },
  {
   "cell_type": "code",
   "execution_count": null,
   "id": "680aaa6c",
   "metadata": {},
   "outputs": [],
   "source": [
    "validate_pred"
   ]
  },
  {
   "cell_type": "code",
   "execution_count": null,
   "id": "7055b3ee",
   "metadata": {},
   "outputs": [],
   "source": []
  },
  {
   "cell_type": "code",
   "execution_count": null,
   "id": "1ad51dfb",
   "metadata": {},
   "outputs": [],
   "source": [
    "df['yhat_baseline'] = df['y'].mean()\n",
    "df['yhat'] = ols_model.predict(df[['x']])\n",
    "\n",
    "df['residual'] = df['yhat'] - df['y']\n",
    "df['residual_baseline'] = df['yhat_baseline'] - df['y']\n",
    "\n",
    "df['residual^2'] = df.residual ** 2\n",
    "\n",
    "df['residual_baseline^2'] = df.residual_baseline ** 2"
   ]
  },
  {
   "cell_type": "code",
   "execution_count": null,
   "id": "c155c2cf",
   "metadata": {},
   "outputs": [],
   "source": [
    "def plot_residuals(y, yhat,df):\n",
    "    '''\n",
    "    plot_residuals takis in acutal value of target y and predicted value and returns a scatter plot of reiduals.\n",
    "    y: targets acutal value\n",
    "    yhat: predicted value or target\n",
    "    '''\n",
    "    # calculate residauals\n",
    "    residuals = y - df[yhat]\n",
    "    \n",
    "    # create scatter plot\n",
    "    plt.scatter(x=y, y=residuals)\n",
    "\n",
    "    # create labels for axis and title\n",
    "    plt.xlabel('Home Value')\n",
    "    plt.ylabel('Residuals')\n",
    "    plt.title('Residual vs Home Value Plot')\n",
    "\n",
    "    # show plot\n",
    "    plt.show()"
   ]
  },
  {
   "cell_type": "code",
   "execution_count": null,
   "id": "211180b4",
   "metadata": {
    "scrolled": true
   },
   "outputs": [],
   "source": [
    "col = train_pred.columns.to_list()\n",
    "col"
   ]
  },
  {
   "cell_type": "code",
   "execution_count": null,
   "id": "7334ee90",
   "metadata": {
    "scrolled": true
   },
   "outputs": [],
   "source": [
    "for i in col:  \n",
    "    print(i)\n",
    "    plot_residuals(y_train, i, train_pred)\n",
    "\n",
    "\n",
    "\n"
   ]
  },
  {
   "cell_type": "code",
   "execution_count": null,
   "id": "d6335030",
   "metadata": {},
   "outputs": [],
   "source": [
    "from sklearn.metrics import mean_squared_error\n",
    "from math import sqrt\n",
    "def regression_errors(actual, yhat,df):\n",
    "\n",
    "    residual = actual - df[yhat]\n",
    "    \n",
    "    mse = mean_squared_error(actual, df[yhat])\n",
    "    sse = (residual **2).sum()\n",
    "    rmse = sqrt(mse)\n",
    "    tss = ((actual - df[yhat].mean()) ** 2).sum()\n",
    "    ess = ((df[yhat] - actual.mean()) ** 2).sum()\n",
    "    print(f\"\"\" \n",
    "    MSE: {round(mse,2)}\n",
    "    SSE: {round(sse,2)}\n",
    "    RMSE: {round(rmse,2)}\n",
    "    TSS: {round(tss,2)}\n",
    "    ESS: {round(ess,2)}\n",
    "    \"\"\")"
   ]
  },
  {
   "cell_type": "code",
   "execution_count": null,
   "id": "32ae2952",
   "metadata": {},
   "outputs": [],
   "source": [
    "for i in col:  \n",
    "    print(i)\n",
    "    regression_errors(y_train, i, train_pred)\n",
    "\n"
   ]
  },
  {
   "cell_type": "code",
   "execution_count": null,
   "id": "c3c98f94",
   "metadata": {},
   "outputs": [],
   "source": []
  },
  {
   "cell_type": "code",
   "execution_count": null,
   "id": "55fd7933",
   "metadata": {},
   "outputs": [],
   "source": []
  },
  {
   "cell_type": "code",
   "execution_count": null,
   "id": "5bff012e",
   "metadata": {},
   "outputs": [],
   "source": []
  },
  {
   "cell_type": "code",
   "execution_count": null,
   "id": "c1d3c6e1",
   "metadata": {},
   "outputs": [],
   "source": []
  },
  {
   "cell_type": "code",
   "execution_count": null,
   "id": "484eeae9",
   "metadata": {},
   "outputs": [],
   "source": []
  },
  {
   "cell_type": "code",
   "execution_count": null,
   "id": "318db048",
   "metadata": {},
   "outputs": [],
   "source": []
  },
  {
   "cell_type": "markdown",
   "id": "d9914f0a",
   "metadata": {},
   "source": [
    "* metric"
   ]
  },
  {
   "cell_type": "code",
   "execution_count": null,
   "id": "20d77621",
   "metadata": {},
   "outputs": [],
   "source": [
    "# prep data for modeling\n",
    "x_train,y_train,x_validate,y_validate, x_test, y_test = m.model_prep(train,validate,test)"
   ]
  },
  {
   "cell_type": "markdown",
   "id": "c6098a3d",
   "metadata": {},
   "source": [
    "**The ....** "
   ]
  },
  {
   "cell_type": "markdown",
   "id": "c07aaeb2",
   "metadata": {},
   "source": [
    "# Comparing Models"
   ]
  },
  {
   "cell_type": "markdown",
   "id": "d6e42405",
   "metadata": {},
   "source": [
    "* All ...."
   ]
  },
  {
   "cell_type": "markdown",
   "id": "337e98f9",
   "metadata": {},
   "source": [
    "# Model on Test data"
   ]
  },
  {
   "cell_type": "code",
   "execution_count": null,
   "id": "08c630c9",
   "metadata": {},
   "outputs": [],
   "source": [
    "m.get_logit_model(x_train,y_train,x_test,y_test, True)"
   ]
  },
  {
   "cell_type": "markdown",
   "id": "7a3f2e74",
   "metadata": {},
   "source": [
    "## Modeling Summary"
   ]
  },
  {
   "cell_type": "markdown",
   "id": "c40cc762",
   "metadata": {},
   "source": [
    "* A\n",
    "* B"
   ]
  },
  {
   "cell_type": "markdown",
   "id": "f896f6c0",
   "metadata": {},
   "source": [
    "# Conclusion"
   ]
  },
  {
   "cell_type": "markdown",
   "id": "fcbf80fc",
   "metadata": {},
   "source": [
    "## Exploration\n",
    "\n"
   ]
  },
  {
   "cell_type": "markdown",
   "id": "8fbf3a1f",
   "metadata": {},
   "source": [
    "* A\n",
    "* B"
   ]
  },
  {
   "cell_type": "markdown",
   "id": "058105b7",
   "metadata": {},
   "source": [
    "## Modeling"
   ]
  },
  {
   "cell_type": "markdown",
   "id": "ed93530a",
   "metadata": {},
   "source": [
    "**The final model performed....**"
   ]
  },
  {
   "cell_type": "markdown",
   "id": "c1a19a11",
   "metadata": {},
   "source": [
    "## Recommendations"
   ]
  },
  {
   "cell_type": "markdown",
   "id": "7030b4ae",
   "metadata": {},
   "source": [
    "* A\n",
    "* B\n",
    "* C"
   ]
  },
  {
   "cell_type": "markdown",
   "id": "14228d48",
   "metadata": {},
   "source": [
    "## Next Steps"
   ]
  },
  {
   "cell_type": "markdown",
   "id": "8550784b",
   "metadata": {},
   "source": [
    "* A\n",
    "* B\n",
    "* C"
   ]
  },
  {
   "cell_type": "code",
   "execution_count": null,
   "id": "4f89f188",
   "metadata": {},
   "outputs": [],
   "source": []
  }
 ],
 "metadata": {
  "kernelspec": {
   "display_name": "Python 3 (ipykernel)",
   "language": "python",
   "name": "python3"
  },
  "language_info": {
   "codemirror_mode": {
    "name": "ipython",
    "version": 3
   },
   "file_extension": ".py",
   "mimetype": "text/x-python",
   "name": "python",
   "nbconvert_exporter": "python",
   "pygments_lexer": "ipython3",
   "version": "3.9.12"
  }
 },
 "nbformat": 4,
 "nbformat_minor": 5
}
